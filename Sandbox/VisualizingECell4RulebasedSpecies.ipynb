{
 "cells": [
  {
   "cell_type": "code",
   "execution_count": 1,
   "metadata": {},
   "outputs": [],
   "source": [
    "from ecell4.util import cyjs"
   ]
  },
  {
   "cell_type": "code",
   "execution_count": 2,
   "metadata": {},
   "outputs": [],
   "source": [
    "from ecell4_base.core import *"
   ]
  },
  {
   "cell_type": "code",
   "execution_count": 3,
   "metadata": {},
   "outputs": [],
   "source": [
    "egf = Species(\"EGF(R)\")"
   ]
  },
  {
   "cell_type": "code",
   "execution_count": 4,
   "metadata": {},
   "outputs": [],
   "source": [
    "egfr = Species(\"EGFR(L,CR1,Y1068=P)\")"
   ]
  },
  {
   "cell_type": "code",
   "execution_count": 5,
   "metadata": {},
   "outputs": [],
   "source": [
    "comp1 = Species(\"EGFR(L^1,CR1).EGF(R^1)\")"
   ]
  },
  {
   "cell_type": "code",
   "execution_count": 6,
   "metadata": {},
   "outputs": [],
   "source": [
    "comp2 = Species(\"EGFR(Y1068=P^1).Grb2(SH2^1)\")"
   ]
  },
  {
   "cell_type": "code",
   "execution_count": 7,
   "metadata": {},
   "outputs": [
    {
     "data": {
      "text/html": [
       "<script>\n",
       "if(window['cytoscape'] === undefined){\n",
       "    var paths = {\n",
       "        cytoscape: 'https://cdnjs.cloudflare.com/ajax/libs/cytoscape/2.6.10/cytoscape'\n",
       "    };\n",
       "\n",
       "    console.log('Begin loading all JavaScript libs...');\n",
       "    require.config({paths: paths});\n",
       "\n",
       "    require(['cytoscape'], function(cytoscape){\n",
       "\twindow['cytoscape'] = cytoscape;\n",
       "\tconsole.log('Finished loading jQuery and Cytoscape.js.');\n",
       "\n",
       "\tvar event = document.createEvent(\"HTMLEvents\");\n",
       "\tevent.initEvent(\"load_cytoscape\", true, false);\n",
       "\twindow.dispatchEvent(event);\n",
       "    });\n",
       "}\n",
       "</script>\n"
      ],
      "text/plain": [
       "<IPython.core.display.HTML object>"
      ]
     },
     "metadata": {},
     "output_type": "display_data"
    }
   ],
   "source": [
    "cyjs.init_cyjs()"
   ]
  },
  {
   "cell_type": "code",
   "execution_count": 8,
   "metadata": {},
   "outputs": [
    {
     "data": {
      "text/html": [
       "<!DOCTYPE html>\n",
       "<html>\n",
       "<head>\n",
       "<meta charset=utf-8 />\n",
       "<title>Animated BFS</title>\n",
       "<style type=\"text/css\">\n",
       "body {\n",
       "  font: 14px helvetica neue, helvetica, arial, sans-serif;\n",
       "}\n",
       "\n",
       "#cy50fee282-86cc-4c57-9a23-294aa7b64e25 {\n",
       "  height: 500px;\n",
       "  width: 500px;\n",
       "  position: absolute;\n",
       "  left: 0;\n",
       "  top: 0;\n",
       "}\n",
       "</style>\n",
       "\n",
       "<script>\n",
       "(function(){\n",
       "\n",
       "function render(){\n",
       "$('#cy50fee282-86cc-4c57-9a23-294aa7b64e25').cytoscape({\n",
       "\n",
       "  elements: {\n",
       "      nodes: [{\"data\": {\"id\": \"EGF\", \"name\": \"EGF\"}}, {\"data\": {\"id\": \"R_EGF\", \"parent\": \"EGF\", \"name\": \"R\"}}],\n",
       "\n",
       "      edges: []\n",
       "    },\n",
       "\n",
       "  ready: function(){\n",
       "    window.cy = this;\n",
       "    \n",
       "    var cyjson = \"text/json;charset=utf-8,\" + encodeURIComponent(JSON.stringify(cy.json()));\n",
       "    $('<a href=\"data:' + cyjson + '\" download=\"data.json\">download JSON</a>').appendTo('#cy50fee282-86cc-4c57-9a23-294aa7b64e25');\n",
       "  }\n",
       "  \n",
       "});\n",
       "};\n",
       "\n",
       "var before_render = function(){\n",
       "    if(window['cytoscape'] === undefined){\n",
       "         console.log(\"wait!\");\n",
       "\t window.addEventListener(\"load_cytoscape\", before_render);\n",
       "    }else{\n",
       "\t console.log(\"begin rendering!\");\n",
       "\t render();\n",
       "    }\n",
       "}\n",
       "\n",
       "before_render();\n",
       "\n",
       "})();\n",
       "</script>\n",
       "</head>\n",
       "<body>\n",
       "  <div id=\"cy50fee282-86cc-4c57-9a23-294aa7b64e25\"></div>\n",
       "  <!-- When only #uuid div is placed on this page, the height of output-box on ipynb will be 0px. One line below will prevent that. -->\n",
       "  <div id=\"dammy\" style=\"width:700px;height:500px\">\n",
       "</body>\n",
       "</html>"
      ],
      "text/plain": [
       "<IPython.core.display.HTML object>"
      ]
     },
     "metadata": {},
     "output_type": "display_data"
    }
   ],
   "source": [
    "cyjs.plot_species(egf)"
   ]
  },
  {
   "cell_type": "code",
   "execution_count": 9,
   "metadata": {},
   "outputs": [
    {
     "data": {
      "text/html": [
       "<!DOCTYPE html>\n",
       "<html>\n",
       "<head>\n",
       "<meta charset=utf-8 />\n",
       "<title>Animated BFS</title>\n",
       "<style type=\"text/css\">\n",
       "body {\n",
       "  font: 14px helvetica neue, helvetica, arial, sans-serif;\n",
       "}\n",
       "\n",
       "#cy84e77029-bc5c-414d-b5c1-9bb282311db4 {\n",
       "  height: 500px;\n",
       "  width: 500px;\n",
       "  position: absolute;\n",
       "  left: 0;\n",
       "  top: 0;\n",
       "}\n",
       "</style>\n",
       "\n",
       "<script>\n",
       "(function(){\n",
       "\n",
       "function render(){\n",
       "$('#cy84e77029-bc5c-414d-b5c1-9bb282311db4').cytoscape({\n",
       "\n",
       "  elements: {\n",
       "      nodes: [{\"data\": {\"id\": \"EGFR\", \"name\": \"EGFR\"}}, {\"data\": {\"id\": \"CR1_EGFR\", \"parent\": \"EGFR\", \"name\": \"CR1\"}}, {\"data\": {\"id\": \"L_EGFR\", \"parent\": \"EGFR\", \"name\": \"L\"}}, {\"data\": {\"id\": \"Y1068=P_EGFR\", \"parent\": \"EGFR\", \"faveColor\": \"#FF0000\", \"faveShape\": \"rectangle\", \"name\": \"Y1068\"}}],\n",
       "\n",
       "      edges: []\n",
       "    },\n",
       "\n",
       "  ready: function(){\n",
       "    window.cy = this;\n",
       "    \n",
       "    var cyjson = \"text/json;charset=utf-8,\" + encodeURIComponent(JSON.stringify(cy.json()));\n",
       "    $('<a href=\"data:' + cyjson + '\" download=\"data.json\">download JSON</a>').appendTo('#cy84e77029-bc5c-414d-b5c1-9bb282311db4');\n",
       "  }\n",
       "  \n",
       "});\n",
       "};\n",
       "\n",
       "var before_render = function(){\n",
       "    if(window['cytoscape'] === undefined){\n",
       "         console.log(\"wait!\");\n",
       "\t window.addEventListener(\"load_cytoscape\", before_render);\n",
       "    }else{\n",
       "\t console.log(\"begin rendering!\");\n",
       "\t render();\n",
       "    }\n",
       "}\n",
       "\n",
       "before_render();\n",
       "\n",
       "})();\n",
       "</script>\n",
       "</head>\n",
       "<body>\n",
       "  <div id=\"cy84e77029-bc5c-414d-b5c1-9bb282311db4\"></div>\n",
       "  <!-- When only #uuid div is placed on this page, the height of output-box on ipynb will be 0px. One line below will prevent that. -->\n",
       "  <div id=\"dammy\" style=\"width:700px;height:500px\">\n",
       "</body>\n",
       "</html>"
      ],
      "text/plain": [
       "<IPython.core.display.HTML object>"
      ]
     },
     "metadata": {},
     "output_type": "display_data"
    }
   ],
   "source": [
    "cyjs.plot_species(egfr)"
   ]
  },
  {
   "cell_type": "code",
   "execution_count": 10,
   "metadata": {},
   "outputs": [
    {
     "data": {
      "text/html": [
       "<!DOCTYPE html>\n",
       "<html>\n",
       "<head>\n",
       "<meta charset=utf-8 />\n",
       "<title>Animated BFS</title>\n",
       "<style type=\"text/css\">\n",
       "body {\n",
       "  font: 14px helvetica neue, helvetica, arial, sans-serif;\n",
       "}\n",
       "\n",
       "#cy9d73bbce-7c17-4d26-9558-6970f6a1a1d4 {\n",
       "  height: 500px;\n",
       "  width: 500px;\n",
       "  position: absolute;\n",
       "  left: 0;\n",
       "  top: 0;\n",
       "}\n",
       "</style>\n",
       "\n",
       "<script>\n",
       "(function(){\n",
       "\n",
       "function render(){\n",
       "$('#cy9d73bbce-7c17-4d26-9558-6970f6a1a1d4').cytoscape({\n",
       "\n",
       "  elements: {\n",
       "      nodes: [{\"data\": {\"id\": \"EGF\", \"name\": \"EGF\"}}, {\"data\": {\"id\": \"R^1_EGF\", \"parent\": \"EGF\", \"name\": \"R\"}}, {\"data\": {\"id\": \"EGFR\", \"name\": \"EGFR\"}}, {\"data\": {\"id\": \"CR1_EGFR\", \"parent\": \"EGFR\", \"name\": \"CR1\"}}, {\"data\": {\"id\": \"L^1_EGFR\", \"parent\": \"EGFR\", \"name\": \"L\"}}],\n",
       "\n",
       "      edges: [{\"data\": {\"id\": \"^1\", \"source\": \"R^1_EGF\", \"target\": \"L^1_EGFR\"}}]\n",
       "    },\n",
       "\n",
       "  ready: function(){\n",
       "    window.cy = this;\n",
       "    \n",
       "    var cyjson = \"text/json;charset=utf-8,\" + encodeURIComponent(JSON.stringify(cy.json()));\n",
       "    $('<a href=\"data:' + cyjson + '\" download=\"data.json\">download JSON</a>').appendTo('#cy9d73bbce-7c17-4d26-9558-6970f6a1a1d4');\n",
       "  }\n",
       "  \n",
       "});\n",
       "};\n",
       "\n",
       "var before_render = function(){\n",
       "    if(window['cytoscape'] === undefined){\n",
       "         console.log(\"wait!\");\n",
       "\t window.addEventListener(\"load_cytoscape\", before_render);\n",
       "    }else{\n",
       "\t console.log(\"begin rendering!\");\n",
       "\t render();\n",
       "    }\n",
       "}\n",
       "\n",
       "before_render();\n",
       "\n",
       "})();\n",
       "</script>\n",
       "</head>\n",
       "<body>\n",
       "  <div id=\"cy9d73bbce-7c17-4d26-9558-6970f6a1a1d4\"></div>\n",
       "  <!-- When only #uuid div is placed on this page, the height of output-box on ipynb will be 0px. One line below will prevent that. -->\n",
       "  <div id=\"dammy\" style=\"width:700px;height:500px\">\n",
       "</body>\n",
       "</html>"
      ],
      "text/plain": [
       "<IPython.core.display.HTML object>"
      ]
     },
     "metadata": {},
     "output_type": "display_data"
    }
   ],
   "source": [
    "cyjs.plot_species(comp1)"
   ]
  },
  {
   "cell_type": "code",
   "execution_count": 11,
   "metadata": {},
   "outputs": [
    {
     "data": {
      "text/html": [
       "<!DOCTYPE html>\n",
       "<html>\n",
       "<head>\n",
       "<meta charset=utf-8 />\n",
       "<title>Animated BFS</title>\n",
       "<style type=\"text/css\">\n",
       "body {\n",
       "  font: 14px helvetica neue, helvetica, arial, sans-serif;\n",
       "}\n",
       "\n",
       "#cyfcc310e9-f10b-4543-a07f-bb13a2988f96 {\n",
       "  height: 500px;\n",
       "  width: 500px;\n",
       "  position: absolute;\n",
       "  left: 0;\n",
       "  top: 0;\n",
       "}\n",
       "</style>\n",
       "\n",
       "<script>\n",
       "(function(){\n",
       "\n",
       "function render(){\n",
       "$('#cyfcc310e9-f10b-4543-a07f-bb13a2988f96').cytoscape({\n",
       "\n",
       "  elements: {\n",
       "      nodes: [{\"data\": {\"id\": \"EGFR\", \"name\": \"EGFR\"}}, {\"data\": {\"id\": \"Y1068=P^1_EGFR\", \"parent\": \"EGFR\", \"faveColor\": \"#FF0000\", \"faveShape\": \"rectangle\", \"name\": \"Y1068\"}}, {\"data\": {\"id\": \"Grb2\", \"name\": \"Grb2\"}}, {\"data\": {\"id\": \"SH2^1_Grb2\", \"parent\": \"Grb2\", \"name\": \"SH2\"}}],\n",
       "\n",
       "      edges: [{\"data\": {\"id\": \"^1\", \"source\": \"Y1068=P^1_EGFR\", \"target\": \"SH2^1_Grb2\"}}]\n",
       "    },\n",
       "\n",
       "  ready: function(){\n",
       "    window.cy = this;\n",
       "    \n",
       "    var cyjson = \"text/json;charset=utf-8,\" + encodeURIComponent(JSON.stringify(cy.json()));\n",
       "    $('<a href=\"data:' + cyjson + '\" download=\"data.json\">download JSON</a>').appendTo('#cyfcc310e9-f10b-4543-a07f-bb13a2988f96');\n",
       "  }\n",
       "  \n",
       "});\n",
       "};\n",
       "\n",
       "var before_render = function(){\n",
       "    if(window['cytoscape'] === undefined){\n",
       "         console.log(\"wait!\");\n",
       "\t window.addEventListener(\"load_cytoscape\", before_render);\n",
       "    }else{\n",
       "\t console.log(\"begin rendering!\");\n",
       "\t render();\n",
       "    }\n",
       "}\n",
       "\n",
       "before_render();\n",
       "\n",
       "})();\n",
       "</script>\n",
       "</head>\n",
       "<body>\n",
       "  <div id=\"cyfcc310e9-f10b-4543-a07f-bb13a2988f96\"></div>\n",
       "  <!-- When only #uuid div is placed on this page, the height of output-box on ipynb will be 0px. One line below will prevent that. -->\n",
       "  <div id=\"dammy\" style=\"width:700px;height:500px\">\n",
       "</body>\n",
       "</html>"
      ],
      "text/plain": [
       "<IPython.core.display.HTML object>"
      ]
     },
     "metadata": {},
     "output_type": "display_data"
    }
   ],
   "source": [
    "cyjs.plot_species(comp2)"
   ]
  }
 ],
 "metadata": {
  "kernelspec": {
   "display_name": "Python 3",
   "language": "python",
   "name": "python3"
  },
  "language_info": {
   "codemirror_mode": {
    "name": "ipython",
    "version": 3
   },
   "file_extension": ".py",
   "mimetype": "text/x-python",
   "name": "python",
   "nbconvert_exporter": "python",
   "pygments_lexer": "ipython3",
   "version": "3.6.7"
  }
 },
 "nbformat": 4,
 "nbformat_minor": 1
}
