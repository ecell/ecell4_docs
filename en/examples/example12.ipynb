{
 "cells": [
  {
   "cell_type": "markdown",
   "metadata": {},
   "source": [
    "# How to Use the Unit System\n",
    "\n",
    "**Important: The unit system is a feature under development. The following section might not work properly yet.**\n",
    "\n",
    "Here, we show some examples using the unit system in `ecell4`. This feature requires Python library, `pint`. Install `pint` before running this example as follows: `pip install pint`. See also the website https://pint.readthedocs.io/en/latest/."
   ]
  },
  {
   "cell_type": "code",
   "execution_count": 1,
   "metadata": {},
   "outputs": [],
   "source": [
    "%matplotlib inline\n",
    "from ecell4.prelude import *"
   ]
  },
  {
   "cell_type": "markdown",
   "metadata": {},
   "source": [
    "## With no units\n",
    "\n",
    "First, imagine a very simple system only with binding and unbinding reactions like:"
   ]
  },
  {
   "cell_type": "code",
   "execution_count": 2,
   "metadata": {},
   "outputs": [],
   "source": [
    "with species_attributes():\n",
    "    A | B | C | {'D': 1, 'radius': 0.005}\n",
    "\n",
    "with reaction_rules():\n",
    "    A + B == C | (0.01, 0.3)\n",
    "\n",
    "m = get_model()"
   ]
  },
  {
   "cell_type": "markdown",
   "metadata": {},
   "source": [
    "The `species_attributes` section defines a diffusion constant and radius of `Species`, `A`, `B` and `C`. For example, the diffusion rate of `A` is `1`, and its dimensionality is expected to be `[length**2/time]`. However, what is the scale? Is it `meter`? Or `mile`?\n",
    "\n",
    "Once the base units are determined, e.g. `micrometer` as `[length]` and `second` as `[time]`, all the units must be consistent within the model. The second order rate consant must have dimensionality `[1/(substance/length**3)/time]`, which is `micrometer**3/item/second`. Thus, when the parameter is given as `1/molar/min` in some literature, you have to translate it by yourself."
   ]
  },
  {
   "cell_type": "code",
   "execution_count": 3,
   "metadata": {},
   "outputs": [
    {
     "name": "stdout",
     "output_type": "stream",
     "text": [
      "A | {'D': 1, 'radius': 0.005}\n",
      "B | {'D': 1, 'radius': 0.005}\n",
      "C | {'D': 1, 'radius': 0.005}\n",
      "\n",
      "A + B > C | 0.01\n",
      "C > A + B | 0.3\n"
     ]
    }
   ],
   "source": [
    "show(m)"
   ]
  },
  {
   "cell_type": "markdown",
   "metadata": {},
   "source": [
    "## Introducing units\n",
    "\n",
    "`ecell4` provides the way to handle units in the modeling environment. Here is an example."
   ]
  },
  {
   "cell_type": "code",
   "execution_count": 4,
   "metadata": {},
   "outputs": [],
   "source": [
    "from ecell4.extra.unit import getUnitRegistry"
   ]
  },
  {
   "cell_type": "code",
   "execution_count": 5,
   "metadata": {},
   "outputs": [],
   "source": [
    "ureg = getUnitRegistry()\n",
    "Q_ = ureg.Quantity\n",
    "\n",
    "with species_attributes():\n",
    "    A | B | C | {'D': Q_(1, 'um**2/s'), 'radius': Q_(0.005, 'um')}\n",
    "\n",
    "with reaction_rules():\n",
    "    A + B == C | (Q_(0.01, '1/(item/um**3)/s'), Q_(0.3, '1/s'))\n",
    "\n",
    "m = get_model()"
   ]
  },
  {
   "cell_type": "markdown",
   "metadata": {},
   "source": [
    "First, create your own unit system,`ureg`, by using `ecell4.extra.unit.getUnitRegistry`. With this `UnitRegistry`, you can make a quantity with its unit as `ureg.Quantity(value, unit)`. (Please be careful about the type of `Quantity`. It looks same with `Quantity` given by `pint`, but is slightly changed in `ecell4` though all the original functionality in `pint` is availble even in `ecell4`. Please not use `ureg = pint.UnitRegistry()`.)"
   ]
  },
  {
   "cell_type": "code",
   "execution_count": 6,
   "metadata": {},
   "outputs": [
    {
     "name": "stdout",
     "output_type": "stream",
     "text": [
      "Help on class Quantity in module pint.quantity:\n",
      "\n",
      "class Quantity(_Quantity)\n",
      " |  Quantity(value, units=None)\n",
      " |  \n",
      " |  Implements a class to describe a physical quantity:\n",
      " |  the product of a numerical value and a unit of measurement.\n",
      " |  \n",
      " |  :param value: value of the physical quantity to be created.\n",
      " |  :type value: str, Quantity or any numeric type.\n",
      " |  :param units: units of the physical quantity to be created.\n",
      " |  :type units: UnitsContainer, str or Quantity.\n",
      " |  \n",
      " |  Method resolution order:\n",
      " |      Quantity\n",
      " |      _Quantity\n",
      " |      pint.util.PrettyIPython\n",
      " |      pint.util.SharedRegistryObject\n",
      " |      builtins.object\n",
      " |  \n",
      " |  Methods defined here:\n",
      " |  \n",
      " |  __add__ = wrapped(self, other)\n",
      " |  \n",
      " |  __div__ = wrapped(self, other)\n",
      " |  \n",
      " |  __mul__ = wrapped(self, other)\n",
      " |  \n",
      " |  __pow__ = wrapped(self, other)\n",
      " |  \n",
      " |  __truediv__ = wrapped(self, other)\n",
      " |  \n",
      " |  ----------------------------------------------------------------------\n",
      " |  Data and other attributes defined here:\n",
      " |  \n",
      " |  force_ndarray = False\n",
      " |  \n",
      " |  ----------------------------------------------------------------------\n",
      " |  Methods inherited from _Quantity:\n",
      " |  \n",
      " |  __abs__(self)\n",
      " |  \n",
      " |  __array_prepare__(self, obj, context=None)\n",
      " |  \n",
      " |  __array_ufunc__(self, ufunc, method, *inputs, **kwargs)\n",
      " |  \n",
      " |  __array_wrap__(self, obj, context=None)\n",
      " |  \n",
      " |  __bool__(self)\n",
      " |  \n",
      " |  __bytes__(self)\n",
      " |  \n",
      " |  __complex__(self)\n",
      " |  \n",
      " |  __copy__(self)\n",
      " |  \n",
      " |  __deepcopy__(self, memo)\n",
      " |  \n",
      " |  __divmod__ = wrapped(self, *args, **kwargs)\n",
      " |  \n",
      " |  __eq__ = wrapped(self, *args, **kwargs)\n",
      " |  \n",
      " |  __float__(self)\n",
      " |  \n",
      " |  __floordiv__ = wrapped(self, *args, **kwargs)\n",
      " |  \n",
      " |  __format__(self, spec)\n",
      " |      Default object formatter.\n",
      " |  \n",
      " |  __ge__ lambda self, other\n",
      " |  \n",
      " |  __getattr__(self, item)\n",
      " |  \n",
      " |  __getitem__(self, key)\n",
      " |  \n",
      " |  __gt__ lambda self, other\n",
      " |  \n",
      " |  __hash__(self)\n",
      " |      Return hash(self).\n",
      " |  \n",
      " |  __iadd__(self, other)\n",
      " |  \n",
      " |  __idiv__ = __itruediv__(self, other)\n",
      " |  \n",
      " |  __ifloordiv__(self, other)\n",
      " |  \n",
      " |  __imod__(self, other)\n",
      " |  \n",
      " |  __imul__(self, other)\n",
      " |  \n",
      " |  __int__(self)\n",
      " |      # Mathematical operations\n",
      " |  \n",
      " |  __ipow__(self, other)\n",
      " |  \n",
      " |  __isub__(self, other)\n",
      " |  \n",
      " |  __itruediv__(self, other)\n",
      " |  \n",
      " |  __le__ lambda self, other\n",
      " |  \n",
      " |  __len__(self)\n",
      " |  \n",
      " |  __long__(self)\n",
      " |  \n",
      " |  __lt__ lambda self, other\n",
      " |  \n",
      " |  __mod__ = wrapped(self, *args, **kwargs)\n",
      " |  \n",
      " |  __ne__(self, other)\n",
      " |      Return self!=value.\n",
      " |  \n",
      " |  __neg__(self)\n",
      " |  \n",
      " |  __nonzero__ = __bool__(self)\n",
      " |  \n",
      " |  __pos__(self)\n",
      " |  \n",
      " |  __radd__ = __add__(self, other)\n",
      " |  \n",
      " |  __rdiv__ = __rtruediv__(self, other)\n",
      " |  \n",
      " |  __rdivmod__ = wrapped(self, *args, **kwargs)\n",
      " |  \n",
      " |  __reduce__(self)\n",
      " |      Helper for pickle.\n",
      " |  \n",
      " |  __repr__(self)\n",
      " |      Return repr(self).\n",
      " |  \n",
      " |  __rfloordiv__ = wrapped(self, *args, **kwargs)\n",
      " |  \n",
      " |  __rmod__ = wrapped(self, *args, **kwargs)\n",
      " |  \n",
      " |  __rmul__ = __mul__(self, other)\n",
      " |  \n",
      " |  __round__(self, ndigits=0)\n",
      " |  \n",
      " |  __rpow__ = wrapped(self, *args, **kwargs)\n",
      " |  \n",
      " |  __rsub__(self, other)\n",
      " |  \n",
      " |  __rtruediv__(self, other)\n",
      " |  \n",
      " |  __setitem__(self, key, value)\n",
      " |  \n",
      " |  __str__(self)\n",
      " |      Return str(self).\n",
      " |  \n",
      " |  __sub__(self, other)\n",
      " |  \n",
      " |  __unicode__ = __str__(self)\n",
      " |  \n",
      " |  check(self, dimension)\n",
      " |      Return true if the quantity's dimension matches passed dimension.\n",
      " |  \n",
      " |  clip(self, first=None, second=None, out=None, **kwargs)\n",
      " |  \n",
      " |  compare = wrapped(self, *args, **kwargs)\n",
      " |  \n",
      " |  compatible_units(self, *contexts)\n",
      " |  \n",
      " |  fill(self, value)\n",
      " |  \n",
      " |  format_babel(self, spec='', **kwspec)\n",
      " |  \n",
      " |  ito(self, other=None, *contexts, **ctx_kwargs)\n",
      " |      Inplace rescale to different units.\n",
      " |      \n",
      " |      :param other: destination units.\n",
      " |      :type other: Quantity, str or dict\n",
      " |  \n",
      " |  ito_base_units(self)\n",
      " |      Return Quantity rescaled to base units\n",
      " |  \n",
      " |  ito_reduced_units(self)\n",
      " |      Return Quantity scaled in place to reduced units, i.e. one unit per\n",
      " |      dimension. This will not reduce compound units (intentionally), nor\n",
      " |      can it make use of contexts at this time.\n",
      " |  \n",
      " |  ito_root_units(self)\n",
      " |      Return Quantity rescaled to base units\n",
      " |  \n",
      " |  m_as(self, units)\n",
      " |      Quantity's magnitude expressed in particular units.\n",
      " |      \n",
      " |      :param units: destination units\n",
      " |      :type units: Quantity, str or dict\n",
      " |  \n",
      " |  plus_minus(self, error, relative=False)\n",
      " |      # Measurement support\n",
      " |  \n",
      " |  put(self, indices, values, mode='raise')\n",
      " |  \n",
      " |  searchsorted(self, v, side='left', sorter=None)\n",
      " |  \n",
      " |  to(self, other=None, *contexts, **ctx_kwargs)\n",
      " |      Return Quantity rescaled to different units.\n",
      " |      \n",
      " |      :param other: destination units.\n",
      " |      :type other: Quantity, str or dict\n",
      " |  \n",
      " |  to_base_units(self)\n",
      " |      Return Quantity rescaled to base units\n",
      " |  \n",
      " |  to_compact(self, unit=None)\n",
      " |      Return Quantity rescaled to compact, human-readable units.\n",
      " |      \n",
      " |      To get output in terms of a different unit, use the unit parameter.\n",
      " |      \n",
      " |      >>> import pint\n",
      " |      >>> ureg = pint.UnitRegistry()\n",
      " |      >>> (200e-9*ureg.s).to_compact()\n",
      " |      <Quantity(200.0, 'nanosecond')>\n",
      " |      >>> (1e-2*ureg('kg m/s^2')).to_compact('N')\n",
      " |      <Quantity(10.0, 'millinewton')>\n",
      " |  \n",
      " |  to_reduced_units(self)\n",
      " |      Return Quantity scaled in place to reduced units, i.e. one unit per\n",
      " |      dimension. This will not reduce compound units (intentionally), nor\n",
      " |      can it make use of contexts at this time.\n",
      " |  \n",
      " |  to_root_units(self)\n",
      " |      Return Quantity rescaled to base units\n",
      " |  \n",
      " |  to_timedelta(self)\n",
      " |  \n",
      " |  to_tuple(self)\n",
      " |  \n",
      " |  tolist(self)\n",
      " |  \n",
      " |  ----------------------------------------------------------------------\n",
      " |  Class methods inherited from _Quantity:\n",
      " |  \n",
      " |  from_tuple(tup) from builtins.type\n",
      " |  \n",
      " |  ----------------------------------------------------------------------\n",
      " |  Static methods inherited from _Quantity:\n",
      " |  \n",
      " |  __new__(cls, value, units=None)\n",
      " |      Create and return a new object.  See help(type) for accurate signature.\n",
      " |  \n",
      " |  ----------------------------------------------------------------------\n",
      " |  Data descriptors inherited from _Quantity:\n",
      " |  \n",
      " |  T\n",
      " |  \n",
      " |  debug_used\n",
      " |  \n",
      " |  dimensionality\n",
      " |      Quantity's dimensionality (e.g. {length: 1, time: -1})\n",
      " |  \n",
      " |  dimensionless\n",
      " |      Return true if the quantity is dimensionless.\n",
      " |  \n",
      " |  flat\n",
      " |  \n",
      " |  imag\n",
      " |  \n",
      " |  m\n",
      " |      Quantity's magnitude. Short form for `magnitude`\n",
      " |  \n",
      " |  magnitude\n",
      " |      Quantity's magnitude. Long form for `m`\n",
      " |  \n",
      " |  real\n",
      " |  \n",
      " |  shape\n",
      " |  \n",
      " |  u\n",
      " |      Quantity's units. Short form for `units`\n",
      " |      \n",
      " |      :rtype: UnitContainer\n",
      " |  \n",
      " |  unitless\n",
      " |      Return true if the quantity does not have units.\n",
      " |  \n",
      " |  units\n",
      " |      Quantity's units. Long form for `u`\n",
      " |      \n",
      " |      :rtype: UnitContainer\n",
      " |  \n",
      " |  ----------------------------------------------------------------------\n",
      " |  Data and other attributes inherited from _Quantity:\n",
      " |  \n",
      " |  __array_priority__ = 17\n",
      " |  \n",
      " |  default_format = ''\n",
      " |  \n",
      " |  ----------------------------------------------------------------------\n",
      " |  Data descriptors inherited from pint.util.PrettyIPython:\n",
      " |  \n",
      " |  __dict__\n",
      " |      dictionary for instance variables (if defined)\n",
      " |  \n",
      " |  __weakref__\n",
      " |      list of weak references to the object (if defined)\n",
      "\n"
     ]
    }
   ],
   "source": [
    "help(ureg.Quantity)"
   ]
  },
  {
   "cell_type": "markdown",
   "metadata": {},
   "source": [
    "The default base units are `meter` for `[length]`, `second` for `[time]`, and `item` (which means the number of molecules) for `[substance]`. When you change the default base unit, do like `ureg = getUnitRegistry(length='micrometer')`."
   ]
  },
  {
   "cell_type": "code",
   "execution_count": 7,
   "metadata": {},
   "outputs": [
    {
     "name": "stdout",
     "output_type": "stream",
     "text": [
      "A | {'D': Quantity_Real(1e-12, 'meter ** 2 / second'), 'radius': Quantity_Real(5e-09, 'meter')}\n",
      "B | {'D': Quantity_Real(1e-12, 'meter ** 2 / second'), 'radius': Quantity_Real(5e-09, 'meter')}\n",
      "C | {'D': Quantity_Real(1e-12, 'meter ** 2 / second'), 'radius': Quantity_Real(5e-09, 'meter')}\n",
      "\n",
      "A + B > C | Quantity_Real(1e-20, 'meter ** 3 / item / second')\n",
      "C > A + B | Quantity_Real(0.3, '1 / second')\n"
     ]
    }
   ],
   "source": [
    "show(m)"
   ]
  },
  {
   "cell_type": "markdown",
   "metadata": {},
   "source": [
    "Now you can provide quantities in any unit regardless of the base units."
   ]
  },
  {
   "cell_type": "code",
   "execution_count": 8,
   "metadata": {},
   "outputs": [
    {
     "name": "stdout",
     "output_type": "stream",
     "text": [
      "A | {'D': Quantity_Real(1e-12, 'meter ** 2 / second'), 'radius': Quantity_Real(5e-09, 'meter')}\n",
      "B | {'D': Quantity_Real(1e-12, 'meter ** 2 / second'), 'radius': Quantity_Real(5e-09, 'meter')}\n",
      "C | {'D': Quantity_Real(1e-12, 'meter ** 2 / second'), 'radius': Quantity_Real(5e-09, 'meter')}\n",
      "\n",
      "A + B > C | Quantity_Real(1e-20, 'meter ** 3 / item / second')\n",
      "C > A + B | Quantity_Real(0.3, '1 / second')\n"
     ]
    }
   ],
   "source": [
    "ureg = getUnitRegistry()\n",
    "Q_ = ureg.Quantity\n",
    "\n",
    "with species_attributes():\n",
    "    A | B | C | {'D': Q_(1e-8, 'cm**2/s'), 'radius': Q_(5, 'nm')}\n",
    "\n",
    "with reaction_rules():\n",
    "    A + B == C | (Q_(6.02214129, '1/uM/s'), Q_(18, '1/min'))\n",
    "\n",
    "m = get_model()\n",
    "show(m)"
   ]
  },
  {
   "cell_type": "markdown",
   "metadata": {},
   "source": [
    "You can operate quantities, and make a new quantity. See https://pint.readthedocs.io/en/latest/ for more details."
   ]
  },
  {
   "cell_type": "code",
   "execution_count": 9,
   "metadata": {},
   "outputs": [
    {
     "name": "stdout",
     "output_type": "stream",
     "text": [
      "60.221412900000004 item\n"
     ]
    }
   ],
   "source": [
    "volume = Q_(1, 'fL')\n",
    "conc = Q_(100, 'nM')\n",
    "print((volume * conc).to('item'))"
   ]
  },
  {
   "cell_type": "markdown",
   "metadata": {},
   "source": [
    "In addition to the model creation, `run_simulation` (and `ensemble_simulations`) also supports the unit system."
   ]
  },
  {
   "cell_type": "code",
   "execution_count": 10,
   "metadata": {},
   "outputs": [
    {
     "data": {
      "image/png": "[encoded data removed]",
      "text/plain": [
       "<Figure size 432x288 with 1 Axes>"
      ]
     },
     "metadata": {
      "needs_background": "light"
     },
     "output_type": "display_data"
    }
   ],
   "source": [
    "run_simulation(Q_(0.1, 'min'), y0={'C': Q_(60, 'item')}, volume=Q_(1, 'fL'), model=m, solver='ode')"
   ]
  },
  {
   "cell_type": "markdown",
   "metadata": {},
   "source": [
    "Even if you change the base units, the behavior of simulations is kept consistent. In the following example, base units are rescaled to `micrometer` and `minute` with no change in the modeling section."
   ]
  },
  {
   "cell_type": "code",
   "execution_count": 11,
   "metadata": {},
   "outputs": [
    {
     "name": "stdout",
     "output_type": "stream",
     "text": [
      "A | {'D': Quantity_Real(60, 'micrometer ** 2 / minute'), 'radius': Quantity_Real(0.005, 'micrometer')}\n",
      "B | {'D': Quantity_Real(60, 'micrometer ** 2 / minute'), 'radius': Quantity_Real(0.005, 'micrometer')}\n",
      "C | {'D': Quantity_Real(60, 'micrometer ** 2 / minute'), 'radius': Quantity_Real(0.005, 'micrometer')}\n",
      "\n",
      "A + B > C | Quantity_Real(0.6, 'micrometer ** 3 / item / minute')\n",
      "C > A + B | Quantity_Real(18, '1 / minute')\n"
     ]
    },
    {
     "data": {
      "image/png": "[encoded data removed]",
      "text/plain": [
       "<Figure size 432x288 with 1 Axes>"
      ]
     },
     "metadata": {
      "needs_background": "light"
     },
     "output_type": "display_data"
    }
   ],
   "source": [
    "ureg = getUnitRegistry(length='micrometer', time='minute')\n",
    "Q_ = ureg.Quantity\n",
    "\n",
    "with species_attributes():\n",
    "    A | B | C | {'D': Q_(1e-8, 'cm**2/s'), 'radius': Q_(5, 'nm')}\n",
    "\n",
    "with reaction_rules():\n",
    "    A + B == C | (Q_(6.02214129, '1/uM/s'), Q_(18, '1/min'))\n",
    "\n",
    "m = get_model()\n",
    "show(m)\n",
    "run_simulation(Q_(0.1, 'min'), y0={'C': Q_(60, 'item')}, volume=Q_(1, 'fL'), model=m, solver='ode')"
   ]
  },
  {
   "cell_type": "markdown",
   "metadata": {},
   "source": [
    "## Checking dimensionality\n",
    "\n",
    "As default, the dimensionality of units is checked. When you turn off unit checking, call `ecell4.extra.unit.use_strict(False)` before using those features.\n",
    "\n",
    "For example, the dimensionality of a diffusion constant must be `[length**2/time]`. When you give a unit with a wrong dimensionality, an exception would be thrown like:"
   ]
  },
  {
   "cell_type": "code",
   "execution_count": 12,
   "metadata": {},
   "outputs": [
    {
     "ename": "AssertionError",
     "evalue": "",
     "output_type": "error",
     "traceback": [
      "\u001b[0;31m---------------------------------------------------------------------------\u001b[0m",
      "\u001b[0;31mAssertionError\u001b[0m                            Traceback (most recent call last)",
      "\u001b[0;32m<ipython-input-12-e613a56b11c7>\u001b[0m in \u001b[0;36m<module>\u001b[0;34m\u001b[0m\n\u001b[1;32m      5\u001b[0m     \u001b[0mprint\u001b[0m\u001b[0;34m(\u001b[0m\u001b[0;34m'{}: {}'\u001b[0m\u001b[0;34m.\u001b[0m\u001b[0mformat\u001b[0m\u001b[0;34m(\u001b[0m\u001b[0me\u001b[0m\u001b[0;34m.\u001b[0m\u001b[0m__class__\u001b[0m\u001b[0;34m.\u001b[0m\u001b[0m__name__\u001b[0m\u001b[0;34m,\u001b[0m \u001b[0me\u001b[0m\u001b[0;34m)\u001b[0m\u001b[0;34m)\u001b[0m\u001b[0;34m\u001b[0m\u001b[0;34m\u001b[0m\u001b[0m\n\u001b[1;32m      6\u001b[0m \u001b[0;32melse\u001b[0m\u001b[0;34m:\u001b[0m\u001b[0;34m\u001b[0m\u001b[0;34m\u001b[0m\u001b[0m\n\u001b[0;32m----> 7\u001b[0;31m     \u001b[0;32massert\u001b[0m \u001b[0;32mFalse\u001b[0m\u001b[0;34m\u001b[0m\u001b[0;34m\u001b[0m\u001b[0m\n\u001b[0m",
      "\u001b[0;31mAssertionError\u001b[0m: "
     ]
    }
   ],
   "source": [
    "try:\n",
    "    with species_attributes():\n",
    "        A | {'D': Q_(1.0, 'um/s')}\n",
    "except ValueError as e:\n",
    "    print('{}: {}'.format(e.__class__.__name__, e))\n",
    "else:\n",
    "    assert False"
   ]
  },
  {
   "cell_type": "markdown",
   "metadata": {},
   "source": [
    "Similarly, a kinetic rate constant of reactions is verified based on the order of the reaction. The first order reaction rate should have `[1/time]`, and the second order should have `[l/(substance/length**3)/time]` in volume."
   ]
  },
  {
   "cell_type": "code",
   "execution_count": 13,
   "metadata": {},
   "outputs": [
    {
     "ename": "AssertionError",
     "evalue": "",
     "output_type": "error",
     "traceback": [
      "\u001b[0;31m---------------------------------------------------------------------------\u001b[0m",
      "\u001b[0;31mAssertionError\u001b[0m                            Traceback (most recent call last)",
      "\u001b[0;32m<ipython-input-13-4e2afe882df3>\u001b[0m in \u001b[0;36m<module>\u001b[0;34m\u001b[0m\n\u001b[1;32m      5\u001b[0m     \u001b[0mprint\u001b[0m\u001b[0;34m(\u001b[0m\u001b[0;34m'{}: {}'\u001b[0m\u001b[0;34m.\u001b[0m\u001b[0mformat\u001b[0m\u001b[0;34m(\u001b[0m\u001b[0me\u001b[0m\u001b[0;34m.\u001b[0m\u001b[0m__class__\u001b[0m\u001b[0;34m.\u001b[0m\u001b[0m__name__\u001b[0m\u001b[0;34m,\u001b[0m \u001b[0me\u001b[0m\u001b[0;34m)\u001b[0m\u001b[0;34m)\u001b[0m\u001b[0;34m\u001b[0m\u001b[0;34m\u001b[0m\u001b[0m\n\u001b[1;32m      6\u001b[0m \u001b[0;32melse\u001b[0m\u001b[0;34m:\u001b[0m\u001b[0;34m\u001b[0m\u001b[0;34m\u001b[0m\u001b[0m\n\u001b[0;32m----> 7\u001b[0;31m     \u001b[0;32massert\u001b[0m \u001b[0;32mFalse\u001b[0m\u001b[0;34m\u001b[0m\u001b[0;34m\u001b[0m\u001b[0m\n\u001b[0m",
      "\u001b[0;31mAssertionError\u001b[0m: "
     ]
    }
   ],
   "source": [
    "try:\n",
    "    with reaction_rules():\n",
    "        A + B > C | Q_(0.3, '1/s')\n",
    "except ValueError as e:\n",
    "    print('{}: {}'.format(e.__class__.__name__, e))\n",
    "else:\n",
    "    assert False"
   ]
  },
  {
   "cell_type": "markdown",
   "metadata": {},
   "source": [
    "Additionally, rate law representations accept quantities with a unit too. See the example below:"
   ]
  },
  {
   "cell_type": "code",
   "execution_count": 14,
   "metadata": {},
   "outputs": [
    {
     "name": "stdout",
     "output_type": "stream",
     "text": [
      "A | {'D': Quantity_Real(60, 'micrometer / minute')}\n",
      "\n",
      "A + B > C | Quantity_Real(18, '1 / minute')\n",
      "S > P | ((Quantity_Real(6.02214129e+20, 'item / meter ** 3 / second') * S) / (Quantity_Real(6.02214129e+19, 'item / meter ** 3') + S))\n"
     ]
    }
   ],
   "source": [
    "ureg = getUnitRegistry()\n",
    "Q_ = ureg.Quantity\n",
    "\n",
    "with reaction_rules():\n",
    "    S > P | Q_(1.0, 'uM/s') * S / (Q_(100, 'nM') + S)\n",
    "\n",
    "m = get_model()\n",
    "show(m)"
   ]
  },
  {
   "cell_type": "markdown",
   "metadata": {},
   "source": [
    "Here, the reaction above has two quantities, `Vmax = Q_(1.0, 'uM/s')` and `Km = Q_(100, 'nM')`. First, `Km` must have the same dimensionality with `S`, which is `[concentration]`."
   ]
  },
  {
   "cell_type": "code",
   "execution_count": 15,
   "metadata": {},
   "outputs": [
    {
     "ename": "AssertionError",
     "evalue": "",
     "output_type": "error",
     "traceback": [
      "\u001b[0;31m---------------------------------------------------------------------------\u001b[0m",
      "\u001b[0;31mAssertionError\u001b[0m                            Traceback (most recent call last)",
      "\u001b[0;32m<ipython-input-15-6a8adf531d3f>\u001b[0m in \u001b[0;36m<module>\u001b[0;34m\u001b[0m\n\u001b[1;32m      5\u001b[0m     \u001b[0mprint\u001b[0m\u001b[0;34m(\u001b[0m\u001b[0;34m'{}: {}'\u001b[0m\u001b[0;34m.\u001b[0m\u001b[0mformat\u001b[0m\u001b[0;34m(\u001b[0m\u001b[0me\u001b[0m\u001b[0;34m.\u001b[0m\u001b[0m__class__\u001b[0m\u001b[0;34m.\u001b[0m\u001b[0m__name__\u001b[0m\u001b[0;34m,\u001b[0m \u001b[0me\u001b[0m\u001b[0;34m)\u001b[0m\u001b[0;34m)\u001b[0m\u001b[0;34m\u001b[0m\u001b[0;34m\u001b[0m\u001b[0m\n\u001b[1;32m      6\u001b[0m \u001b[0;32melse\u001b[0m\u001b[0;34m:\u001b[0m\u001b[0;34m\u001b[0m\u001b[0;34m\u001b[0m\u001b[0m\n\u001b[0;32m----> 7\u001b[0;31m     \u001b[0;32massert\u001b[0m \u001b[0;32mFalse\u001b[0m\u001b[0;34m\u001b[0m\u001b[0;34m\u001b[0m\u001b[0m\n\u001b[0m",
      "\u001b[0;31mAssertionError\u001b[0m: "
     ]
    }
   ],
   "source": [
    "try:\n",
    "    with reaction_rules():\n",
    "        S > P | Q_(1.0, 'uM/s') * S / (Q_(100, 'nM/s') + S)\n",
    "except ValueError as e:\n",
    "    print('{}: {}'.format(e.__class__.__name__, e))\n",
    "else:\n",
    "    assert False"
   ]
  },
  {
   "cell_type": "markdown",
   "metadata": {},
   "source": [
    "Secondly, the dimensionality of a rate equation must be `[concentration/time]`. Therefore, the dimensionality of `Vmax` should be `[concentration/time]` too."
   ]
  },
  {
   "cell_type": "code",
   "execution_count": 16,
   "metadata": {},
   "outputs": [
    {
     "ename": "AssertionError",
     "evalue": "",
     "output_type": "error",
     "traceback": [
      "\u001b[0;31m---------------------------------------------------------------------------\u001b[0m",
      "\u001b[0;31mAssertionError\u001b[0m                            Traceback (most recent call last)",
      "\u001b[0;32m<ipython-input-16-4ccdc74be270>\u001b[0m in \u001b[0;36m<module>\u001b[0;34m\u001b[0m\n\u001b[1;32m      5\u001b[0m     \u001b[0mprint\u001b[0m\u001b[0;34m(\u001b[0m\u001b[0;34m'{}: {}'\u001b[0m\u001b[0;34m.\u001b[0m\u001b[0mformat\u001b[0m\u001b[0;34m(\u001b[0m\u001b[0me\u001b[0m\u001b[0;34m.\u001b[0m\u001b[0m__class__\u001b[0m\u001b[0;34m.\u001b[0m\u001b[0m__name__\u001b[0m\u001b[0;34m,\u001b[0m \u001b[0me\u001b[0m\u001b[0;34m)\u001b[0m\u001b[0;34m)\u001b[0m\u001b[0;34m\u001b[0m\u001b[0;34m\u001b[0m\u001b[0m\n\u001b[1;32m      6\u001b[0m \u001b[0;32melse\u001b[0m\u001b[0;34m:\u001b[0m\u001b[0;34m\u001b[0m\u001b[0;34m\u001b[0m\u001b[0m\n\u001b[0;32m----> 7\u001b[0;31m     \u001b[0;32massert\u001b[0m \u001b[0;32mFalse\u001b[0m\u001b[0;34m\u001b[0m\u001b[0;34m\u001b[0m\u001b[0m\n\u001b[0m",
      "\u001b[0;31mAssertionError\u001b[0m: "
     ]
    }
   ],
   "source": [
    "try:\n",
    "    with reaction_rules():\n",
    "        S > P | Q_(1.0, '1/s') * S / (Q_(100, 'nM') + S)\n",
    "except RuntimeError as e:\n",
    "    print('{}: {}'.format(e.__class__.__name__, e))\n",
    "else:\n",
    "    assert False"
   ]
  },
  {
   "cell_type": "markdown",
   "metadata": {},
   "source": [
    "When you give a value with no unit, it is regarded as `dimensionless`."
   ]
  },
  {
   "cell_type": "code",
   "execution_count": 17,
   "metadata": {},
   "outputs": [
    {
     "name": "stdout",
     "output_type": "stream",
     "text": [
      "\n",
      "S > P | ((Quantity_Real(6.02214129e+20, 'item / meter ** 3 / second') * S) / (Quantity_Real(6.02214129e+19, 'item / meter ** 3 / second') + S))\n",
      "S > P | ((Quantity_Real(1.0, '1 / second') * S) / (Quantity_Real(6.02214129e+19, 'item / meter ** 3') + S))\n",
      "S > P | ((Quantity_Real(6.02214129e+20, 'item / meter ** 3 / second') * pow(S, 2)) / (Quantity_Real(3.626618571672287e+39, 'item ** 2 / meter ** 6') + pow(S, 2)))\n"
     ]
    }
   ],
   "source": [
    "with reaction_rules():\n",
    "    S > P | 10.0 * Q_(0.1, 'uM/s') * S**2 / (Q_(100, 'nM')**2 + S**2)\n",
    "m = get_model()\n",
    "show(m)"
   ]
  }
 ],
 "metadata": {
  "kernelspec": {
   "display_name": "Python 3",
   "language": "python",
   "name": "python3"
  },
  "language_info": {
   "codemirror_mode": {
    "name": "ipython",
    "version": 3
   },
   "file_extension": ".py",
   "mimetype": "text/x-python",
   "name": "python",
   "nbconvert_exporter": "python",
   "pygments_lexer": "ipython3",
   "version": "3.7.1"
  }
 },
 "nbformat": 4,
 "nbformat_minor": 2
}
