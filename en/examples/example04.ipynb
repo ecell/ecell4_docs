{
 "cells": [
  {
   "cell_type": "markdown",
   "metadata": {},
   "source": [
    "# Simple EGFR model\n",
    "\n",
    "See http://bionetgen.org/index.php/Simple_EGFR_model for details."
   ]
  },
  {
   "cell_type": "code",
   "execution_count": 1,
   "metadata": {},
   "outputs": [],
   "source": [
    "%matplotlib inline\n",
    "from ecell4.prelude import *"
   ]
  },
  {
   "cell_type": "code",
   "execution_count": 2,
   "metadata": {},
   "outputs": [
    {
     "data": {
      "text/markdown": [
       "Blinov ML, Faeder JR, Goldstein B, Hlavacek WS, A network model of early events in epidermal growth factor receptor signaling that accounts for combinatorial complexity. *Bio Systems*, **2-3**(83), 136-51, 2006. [10.1016/j.biosystems.2005.06.014](https://doi.org/10.1016/j.biosystems.2005.06.014). PubMed PMID: [16233948](https://www.ncbi.nlm.nih.gov/pubmed/16233948)."
      ],
      "text/plain": [
       "<IPython.core.display.Markdown object>"
      ]
     },
     "metadata": {},
     "output_type": "display_data"
    }
   ],
   "source": [
    "citation(16233948)"
   ]
  },
  {
   "cell_type": "code",
   "execution_count": 3,
   "metadata": {},
   "outputs": [],
   "source": [
    "NA = 6.02e23  # Avogadro's number (molecules/mol)\n",
    "f = 1  # Fraction of the cell to simulate\n",
    "Vo = f * 1.0e-10  # Extracellular volume=1/cell_density (L)\n",
    "V = f * 3.0e-12  # Cytoplasmic volume (L)\n",
    "\n",
    "EGF_init = 20 * 1e-9 * NA * Vo  # Initial amount of ligand (20 nM) converted to copies per cell\n",
    "\n",
    "# Initial amounts of cellular components (copies per cell)\n",
    "EGFR_init = f * 1.8e5\n",
    "Grb2_init = f * 1.5e5\n",
    "Sos1_init = f * 6.2e4\n",
    "\n",
    "# Rate constants\n",
    "# Divide by NA*V to convert bimolecular rate constants\n",
    "# from /M/sec to /(molecule/cell)/sec\n",
    "kp1 = 9.0e7 / (NA * Vo)  # ligand-monomer binding\n",
    "km1 = 0.06  # ligand-monomer dissociation\n",
    "kp2 = 1.0e7 / (NA * V)  # aggregation of bound monomers\n",
    "km2 = 0.1  # dissociation of bound monomers\n",
    "kp3 = 0.5  # dimer transphosphorylation\n",
    "km3 = 4.505  # dimer dephosphorylation\n",
    "kp4 = 1.5e6 / (NA * V)  # binding of Grb2 to receptor\n",
    "km4 = 0.05  # dissociation of Grb2 from receptor\n",
    "kp5 = 1.0e7 / (NA * V)  # binding of Grb2 to Sos1\n",
    "km5 = 0.06  # dissociation of Grb2 from Sos1\n",
    "deg = 0.01  # degradation of receptor dimers"
   ]
  },
  {
   "cell_type": "code",
   "execution_count": 4,
   "metadata": {},
   "outputs": [],
   "source": [
    "with reaction_rules():\n",
    "  # R1: Ligand-receptor binding\n",
    "  EGFR(L, CR1) + EGF(R) == EGFR(L^1, CR1).EGF(R^1) | (kp1, km1)\n",
    "  \n",
    "  # R2: Receptor-aggregation\n",
    "  EGFR(L^_, CR1) + EGFR(L^_, CR1) == EGFR(L^_,CR1^1).EGFR(L^_,CR1^1) | (kp2, km2)\n",
    "  \n",
    "  # R3: Transphosphorylation of EGFR by RTK\n",
    "  EGFR(CR1^_, Y1068=U) > EGFR(CR1^_, Y1068=P) | kp3\n",
    "  \n",
    "  # R4: Dephosphorylation\n",
    "  EGFR(Y1068=P) > EGFR(Y1068=U) | km3\n",
    "  \n",
    "  # R5: Grb2 binding to pY1068\n",
    "  EGFR(Y1068=P) + Grb2(SH2) == EGFR(Y1068=P^1).Grb2(SH2^1) | (kp4, km4)\n",
    "  \n",
    "  # R6: Grb2 binding to Sos1\n",
    "  Grb2(SH3) + Sos1(PxxP) == Grb2(SH3^1).Sos1(PxxP^1) | (kp5, km5)\n",
    "  \n",
    "  # R7: Receptor dimer internalization/degradation\n",
    "  (EGF(R^1).EGF(R^2).EGFR(L^1,CR1^3).EGFR(L^2,CR1^3) > ~EmptySet | deg\n",
    "       | ReactionRule.STRICT | ReactionRule.DESTROY)\n",
    "\n",
    "m1 = get_model(is_netfree=True, effective=True)"
   ]
  },
  {
   "cell_type": "code",
   "execution_count": 5,
   "metadata": {},
   "outputs": [
    {
     "name": "stdout",
     "output_type": "stream",
     "text": [
      "\n",
      "EGFR(L, CR1) + EGF(R) > EGFR(L ^ 1, CR1).EGF(R ^ 1) | 1.495016611295681e-06\n",
      "EGFR(L ^ 1, CR1).EGF(R ^ 1) > EGFR(L, CR1) + EGF(R) | 0.06\n",
      "EGFR(L ^ _, CR1) + EGFR(L ^ _, CR1) > EGFR(L ^ _, CR1 ^ 1).EGFR(L ^ _, CR1 ^ 1) | 5.537098560354375e-06\n",
      "EGFR(L ^ _, CR1 ^ 1).EGFR(L ^ _, CR1 ^ 1) > EGFR(L ^ _, CR1) + EGFR(L ^ _, CR1) | 0.1\n",
      "EGFR(CR1 ^ _, Y1068=U) > EGFR(CR1 ^ _, Y1068=P) | 0.5\n",
      "EGFR(Y1068=P) > EGFR(Y1068=U) | 4.505\n",
      "EGFR(Y1068=P) + Grb2(SH2) > EGFR(Y1068=P ^ 1).Grb2(SH2 ^ 1) | 8.305647840531562e-07\n",
      "EGFR(Y1068=P ^ 1).Grb2(SH2 ^ 1) > EGFR(Y1068=P) + Grb2(SH2) | 0.05\n",
      "Grb2(SH3) + Sos1(PxxP) > Grb2(SH3 ^ 1).Sos1(PxxP ^ 1) | 5.537098560354375e-06\n",
      "Grb2(SH3 ^ 1).Sos1(PxxP ^ 1) > Grb2(SH3) + Sos1(PxxP) | 0.06\n",
      "EGF(R ^ 1).EGF(R ^ 2).EGFR(L ^ 1, CR1 ^ 3).EGFR(L ^ 2, CR1 ^ 3) >  | 0.01\n"
     ]
    }
   ],
   "source": [
    "show(m1)"
   ]
  },
  {
   "cell_type": "code",
   "execution_count": 6,
   "metadata": {},
   "outputs": [],
   "source": [
    "y0 = {\"EGF(R)\": EGF_init, \"EGFR(L,CR1,Y1068=U)\": EGFR_init, \"Grb2(SH2,SH3)\": Grb2_init, \"Sos1(PxxP)\": Sos1_init}"
   ]
  },
  {
   "cell_type": "code",
   "execution_count": 7,
   "metadata": {},
   "outputs": [],
   "source": [
    "m2 = m1.expand([Species(serial) for serial in y0.keys()])"
   ]
  },
  {
   "cell_type": "code",
   "execution_count": 8,
   "metadata": {},
   "outputs": [
    {
     "name": "stdout",
     "output_type": "stream",
     "text": [
      "22 species and 86 reactions were generated.\n"
     ]
    }
   ],
   "source": [
    "print(\"{} species and {} reactions were generated.\".format(len(m2.list_species()), len(m2.reaction_rules())))"
   ]
  },
  {
   "cell_type": "code",
   "execution_count": 9,
   "metadata": {},
   "outputs": [
    {
     "name": "stdout",
     "output_type": "stream",
     "text": [
      "EGFR(CR1,L,Y1068=P^1).Grb2(SH2^1,SH3^2).Sos1(PxxP^2) | {}\n",
      "EGFR(CR1,L,Y1068=P^1).Grb2(SH2^1,SH3) | {}\n",
      "EGF(R^1).EGFR(CR1^2,L^1,Y1068=P^3).EGFR(CR1^2,L^4,Y1068=P^5).EGF(R^4).Grb2(SH2^5,SH3^6).Sos1(PxxP^6).Grb2(SH2^3,SH3^7).Sos1(PxxP^7) | {}\n",
      "EGF(R^1).EGFR(CR1^2,L^1,Y1068=P^3).EGFR(CR1^2,L^4,Y1068=P^5).EGF(R^4).Grb2(SH2^5,SH3).Grb2(SH2^3,SH3^6).Sos1(PxxP^6) | {}\n",
      "EGF(R^1).EGFR(CR1^2,L^1,Y1068=P^3).EGFR(CR1^2,L^4,Y1068=P^5).EGF(R^4).Grb2(SH2^5,SH3).Grb2(SH2^3,SH3) | {}\n",
      "EGFR(CR1,L,Y1068=P) | {}\n",
      "EGF(R^1).EGFR(CR1,L^1,Y1068=P^2).Grb2(SH2^2,SH3^3).Sos1(PxxP^3) | {}\n",
      "EGF(R^1).EGFR(CR1,L^1,Y1068=P^2).Grb2(SH2^2,SH3) | {}\n",
      "EGF(R^1).EGFR(CR1^2,L^1,Y1068=P).EGFR(CR1^2,L^3,Y1068=P^4).EGF(R^3).Grb2(SH2^4,SH3^5).Sos1(PxxP^5) | {}\n",
      "EGF(R^1).EGFR(CR1^2,L^1,Y1068=P).EGFR(CR1^2,L^3,Y1068=P^4).EGF(R^3).Grb2(SH2^4,SH3) | {}\n",
      "EGF(R^1).EGFR(CR1,L^1,Y1068=P) | {}\n",
      "EGF(R^1).EGFR(CR1^2,L^1,Y1068=P).EGFR(CR1^2,L^3,Y1068=P).EGF(R^3) | {}\n",
      "EGF(R^1).EGFR(CR1^2,L^1,Y1068=P^3).EGFR(CR1^2,L^4,Y1068=U).EGF(R^4).Grb2(SH2^3,SH3^5).Sos1(PxxP^5) | {}\n",
      "EGF(R^1).EGFR(CR1^2,L^1,Y1068=P^3).EGFR(CR1^2,L^4,Y1068=U).EGF(R^4).Grb2(SH2^3,SH3) | {}\n",
      "EGF(R^1).EGFR(CR1^2,L^1,Y1068=P).EGFR(CR1^2,L^3,Y1068=U).EGF(R^3) | {}\n",
      "EGF(R^1).EGFR(CR1^2,L^1,Y1068=U).EGFR(CR1^2,L^3,Y1068=U).EGF(R^3) | {}\n",
      "EGF(R^1).EGFR(CR1,L^1,Y1068=U) | {}\n",
      "Grb2(SH2,SH3^1).Sos1(PxxP^1) | {}\n",
      "EGF(R) | {}\n",
      "EGFR(CR1,L,Y1068=U) | {}\n",
      "Grb2(SH2,SH3) | {}\n",
      "Sos1(PxxP) | {}\n",
      "\n",
      "EGF(R) + EGFR(CR1,L,Y1068=U) > EGF(R^1).EGFR(CR1,L^1,Y1068=U) | 1.495016611295681e-06\n",
      "Grb2(SH2,SH3) + Sos1(PxxP) > Grb2(SH2,SH3^1).Sos1(PxxP^1) | 5.537098560354375e-06\n",
      "EGF(R^1).EGFR(CR1,L^1,Y1068=U) > EGF(R) + EGFR(CR1,L,Y1068=U) | 0.06\n",
      "EGF(R^1).EGFR(CR1,L^1,Y1068=U) + EGF(R^1).EGFR(CR1,L^1,Y1068=U) > EGF(R^1).EGFR(CR1^2,L^1,Y1068=U).EGFR(CR1^2,L^3,Y1068=U).EGF(R^3) | 2.7685492801771873e-06\n",
      "Grb2(SH2,SH3^1).Sos1(PxxP^1) > Grb2(SH2,SH3) + Sos1(PxxP) | 0.06\n",
      "EGF(R^1).EGFR(CR1^2,L^1,Y1068=U).EGFR(CR1^2,L^3,Y1068=U).EGF(R^3) > EGF(R^1).EGFR(CR1,L^1,Y1068=U) + EGF(R^1).EGFR(CR1,L^1,Y1068=U) | 0.1\n",
      "EGF(R^1).EGFR(CR1^2,L^1,Y1068=U).EGFR(CR1^2,L^3,Y1068=U).EGF(R^3) > EGF(R^1).EGFR(CR1^2,L^1,Y1068=P).EGFR(CR1^2,L^3,Y1068=U).EGF(R^3) | 1.0\n",
      "EGF(R^1).EGFR(CR1^2,L^1,Y1068=U).EGFR(CR1^2,L^3,Y1068=U).EGF(R^3) >  | 0.01\n",
      "EGF(R^1).EGFR(CR1^2,L^1,Y1068=P).EGFR(CR1^2,L^3,Y1068=U).EGF(R^3) > EGF(R^1).EGFR(CR1,L^1,Y1068=P) + EGF(R^1).EGFR(CR1,L^1,Y1068=U) | 0.1\n",
      "EGF(R^1).EGFR(CR1^2,L^1,Y1068=P).EGFR(CR1^2,L^3,Y1068=U).EGF(R^3) > EGF(R^1).EGFR(CR1^2,L^1,Y1068=P).EGFR(CR1^2,L^3,Y1068=P).EGF(R^3) | 0.5\n",
      "EGF(R^1).EGFR(CR1^2,L^1,Y1068=P).EGFR(CR1^2,L^3,Y1068=U).EGF(R^3) > EGF(R^1).EGFR(CR1^2,L^1,Y1068=U).EGFR(CR1^2,L^3,Y1068=U).EGF(R^3) | 4.505\n",
      "EGF(R^1).EGFR(CR1^2,L^1,Y1068=P).EGFR(CR1^2,L^3,Y1068=U).EGF(R^3) + Grb2(SH2,SH3^1).Sos1(PxxP^1) > EGF(R^1).EGFR(CR1^2,L^1,Y1068=P^3).EGFR(CR1^2,L^4,Y1068=U).EGF(R^4).Grb2(SH2^3,SH3^5).Sos1(PxxP^5) | 8.305647840531562e-07\n",
      "EGF(R^1).EGFR(CR1^2,L^1,Y1068=P).EGFR(CR1^2,L^3,Y1068=U).EGF(R^3) + Grb2(SH2,SH3) > EGF(R^1).EGFR(CR1^2,L^1,Y1068=P^3).EGFR(CR1^2,L^4,Y1068=U).EGF(R^4).Grb2(SH2^3,SH3) | 8.305647840531562e-07\n",
      "EGF(R^1).EGFR(CR1^2,L^1,Y1068=P).EGFR(CR1^2,L^3,Y1068=U).EGF(R^3) >  | 0.01\n",
      "EGF(R^1).EGFR(CR1,L^1,Y1068=P) > EGF(R) + EGFR(CR1,L,Y1068=P) | 0.06\n",
      "EGF(R^1).EGFR(CR1,L^1,Y1068=P) + EGF(R^1).EGFR(CR1,L^1,Y1068=P) > EGF(R^1).EGFR(CR1^2,L^1,Y1068=P).EGFR(CR1^2,L^3,Y1068=P).EGF(R^3) | 2.7685492801771873e-06\n",
      "EGF(R^1).EGFR(CR1,L^1,Y1068=P) + EGF(R^1).EGFR(CR1,L^1,Y1068=U) > EGF(R^1).EGFR(CR1^2,L^1,Y1068=P).EGFR(CR1^2,L^3,Y1068=U).EGF(R^3) | 5.537098560354375e-06\n",
      "EGF(R^1).EGFR(CR1^2,L^1,Y1068=P).EGFR(CR1^2,L^3,Y1068=P).EGF(R^3) > EGF(R^1).EGFR(CR1,L^1,Y1068=P) + EGF(R^1).EGFR(CR1,L^1,Y1068=P) | 0.1\n",
      "EGF(R^1).EGFR(CR1^2,L^1,Y1068=P^3).EGFR(CR1^2,L^4,Y1068=U).EGF(R^4).Grb2(SH2^3,SH3^5).Sos1(PxxP^5) > EGF(R^1).EGFR(CR1,L^1,Y1068=P^2).Grb2(SH2^2,SH3^3).Sos1(PxxP^3) + EGF(R^1).EGFR(CR1,L^1,Y1068=U) | 0.1\n",
      "EGF(R^1).EGFR(CR1^2,L^1,Y1068=P^3).EGFR(CR1^2,L^4,Y1068=U).EGF(R^4).Grb2(SH2^3,SH3) > EGF(R^1).EGFR(CR1,L^1,Y1068=P^2).Grb2(SH2^2,SH3) + EGF(R^1).EGFR(CR1,L^1,Y1068=U) | 0.1\n",
      "EGF(R^1).EGFR(CR1^2,L^1,Y1068=P^3).EGFR(CR1^2,L^4,Y1068=U).EGF(R^4).Grb2(SH2^3,SH3^5).Sos1(PxxP^5) > EGF(R^1).EGFR(CR1^2,L^1,Y1068=P).EGFR(CR1^2,L^3,Y1068=P^4).EGF(R^3).Grb2(SH2^4,SH3^5).Sos1(PxxP^5) | 0.5\n",
      "EGF(R^1).EGFR(CR1^2,L^1,Y1068=P^3).EGFR(CR1^2,L^4,Y1068=U).EGF(R^4).Grb2(SH2^3,SH3) > EGF(R^1).EGFR(CR1^2,L^1,Y1068=P).EGFR(CR1^2,L^3,Y1068=P^4).EGF(R^3).Grb2(SH2^4,SH3) | 0.5\n",
      "EGF(R^1).EGFR(CR1,L^1,Y1068=P) > EGF(R^1).EGFR(CR1,L^1,Y1068=U) | 4.505\n",
      "EGF(R^1).EGFR(CR1^2,L^1,Y1068=P).EGFR(CR1^2,L^3,Y1068=P).EGF(R^3) > EGF(R^1).EGFR(CR1^2,L^1,Y1068=P).EGFR(CR1^2,L^3,Y1068=U).EGF(R^3) | 9.01\n",
      "EGF(R^1).EGFR(CR1,L^1,Y1068=P) + Grb2(SH2,SH3^1).Sos1(PxxP^1) > EGF(R^1).EGFR(CR1,L^1,Y1068=P^2).Grb2(SH2^2,SH3^3).Sos1(PxxP^3) | 8.305647840531562e-07\n",
      "EGF(R^1).EGFR(CR1,L^1,Y1068=P) + Grb2(SH2,SH3) > EGF(R^1).EGFR(CR1,L^1,Y1068=P^2).Grb2(SH2^2,SH3) | 8.305647840531562e-07\n",
      "EGF(R^1).EGFR(CR1^2,L^1,Y1068=P).EGFR(CR1^2,L^3,Y1068=P).EGF(R^3) + Grb2(SH2,SH3^1).Sos1(PxxP^1) > EGF(R^1).EGFR(CR1^2,L^1,Y1068=P).EGFR(CR1^2,L^3,Y1068=P^4).EGF(R^3).Grb2(SH2^4,SH3^5).Sos1(PxxP^5) | 1.6611295681063123e-06\n",
      "EGF(R^1).EGFR(CR1^2,L^1,Y1068=P).EGFR(CR1^2,L^3,Y1068=P).EGF(R^3) + Grb2(SH2,SH3) > EGF(R^1).EGFR(CR1^2,L^1,Y1068=P).EGFR(CR1^2,L^3,Y1068=P^4).EGF(R^3).Grb2(SH2^4,SH3) | 1.6611295681063123e-06\n",
      "EGF(R^1).EGFR(CR1^2,L^1,Y1068=P^3).EGFR(CR1^2,L^4,Y1068=U).EGF(R^4).Grb2(SH2^3,SH3^5).Sos1(PxxP^5) > EGF(R^1).EGFR(CR1^2,L^1,Y1068=P).EGFR(CR1^2,L^3,Y1068=U).EGF(R^3) + Grb2(SH2,SH3^1).Sos1(PxxP^1) | 0.05\n",
      "EGF(R^1).EGFR(CR1^2,L^1,Y1068=P^3).EGFR(CR1^2,L^4,Y1068=U).EGF(R^4).Grb2(SH2^3,SH3) > EGF(R^1).EGFR(CR1^2,L^1,Y1068=P).EGFR(CR1^2,L^3,Y1068=U).EGF(R^3) + Grb2(SH2,SH3) | 0.05\n",
      "EGF(R^1).EGFR(CR1^2,L^1,Y1068=P^3).EGFR(CR1^2,L^4,Y1068=U).EGF(R^4).Grb2(SH2^3,SH3) + Sos1(PxxP) > EGF(R^1).EGFR(CR1^2,L^1,Y1068=P^3).EGFR(CR1^2,L^4,Y1068=U).EGF(R^4).Grb2(SH2^3,SH3^5).Sos1(PxxP^5) | 5.537098560354375e-06\n",
      "EGF(R^1).EGFR(CR1^2,L^1,Y1068=P^3).EGFR(CR1^2,L^4,Y1068=U).EGF(R^4).Grb2(SH2^3,SH3^5).Sos1(PxxP^5) > EGF(R^1).EGFR(CR1^2,L^1,Y1068=P^3).EGFR(CR1^2,L^4,Y1068=U).EGF(R^4).Grb2(SH2^3,SH3) + Sos1(PxxP) | 0.06\n",
      "EGF(R^1).EGFR(CR1^2,L^1,Y1068=P).EGFR(CR1^2,L^3,Y1068=P).EGF(R^3) >  | 0.01\n",
      "EGF(R^1).EGFR(CR1^2,L^1,Y1068=P^3).EGFR(CR1^2,L^4,Y1068=U).EGF(R^4).Grb2(SH2^3,SH3^5).Sos1(PxxP^5) >  | 0.01\n",
      "EGF(R^1).EGFR(CR1^2,L^1,Y1068=P^3).EGFR(CR1^2,L^4,Y1068=U).EGF(R^4).Grb2(SH2^3,SH3) >  | 0.01\n",
      "EGF(R) + EGFR(CR1,L,Y1068=P) > EGF(R^1).EGFR(CR1,L^1,Y1068=P) | 1.495016611295681e-06\n",
      "EGF(R^1).EGFR(CR1,L^1,Y1068=P^2).Grb2(SH2^2,SH3^3).Sos1(PxxP^3) > EGF(R) + EGFR(CR1,L,Y1068=P^1).Grb2(SH2^1,SH3^2).Sos1(PxxP^2) | 0.06\n",
      "EGF(R^1).EGFR(CR1,L^1,Y1068=P^2).Grb2(SH2^2,SH3) > EGF(R) + EGFR(CR1,L,Y1068=P^1).Grb2(SH2^1,SH3) | 0.06\n",
      "EGF(R^1).EGFR(CR1,L^1,Y1068=P^2).Grb2(SH2^2,SH3^3).Sos1(PxxP^3) + EGF(R^1).EGFR(CR1,L^1,Y1068=P^2).Grb2(SH2^2,SH3^3).Sos1(PxxP^3) > EGF(R^1).EGFR(CR1^2,L^1,Y1068=P^3).EGFR(CR1^2,L^4,Y1068=P^5).EGF(R^4).Grb2(SH2^5,SH3^6).Sos1(PxxP^6).Grb2(SH2^3,SH3^7).Sos1(PxxP^7) | 2.7685492801771873e-06\n",
      "EGF(R^1).EGFR(CR1,L^1,Y1068=P^2).Grb2(SH2^2,SH3) + EGF(R^1).EGFR(CR1,L^1,Y1068=P^2).Grb2(SH2^2,SH3^3).Sos1(PxxP^3) > EGF(R^1).EGFR(CR1^2,L^1,Y1068=P^3).EGFR(CR1^2,L^4,Y1068=P^5).EGF(R^4).Grb2(SH2^5,SH3).Grb2(SH2^3,SH3^6).Sos1(PxxP^6) | 5.537098560354375e-06\n",
      "EGF(R^1).EGFR(CR1,L^1,Y1068=P) + EGF(R^1).EGFR(CR1,L^1,Y1068=P^2).Grb2(SH2^2,SH3^3).Sos1(PxxP^3) > EGF(R^1).EGFR(CR1^2,L^1,Y1068=P).EGFR(CR1^2,L^3,Y1068=P^4).EGF(R^3).Grb2(SH2^4,SH3^5).Sos1(PxxP^5) | 5.537098560354375e-06\n",
      "EGF(R^1).EGFR(CR1,L^1,Y1068=P^2).Grb2(SH2^2,SH3^3).Sos1(PxxP^3) + EGF(R^1).EGFR(CR1,L^1,Y1068=U) > EGF(R^1).EGFR(CR1^2,L^1,Y1068=P^3).EGFR(CR1^2,L^4,Y1068=U).EGF(R^4).Grb2(SH2^3,SH3^5).Sos1(PxxP^5) | 5.537098560354375e-06\n",
      "EGF(R^1).EGFR(CR1,L^1,Y1068=P^2).Grb2(SH2^2,SH3) + EGF(R^1).EGFR(CR1,L^1,Y1068=P^2).Grb2(SH2^2,SH3) > EGF(R^1).EGFR(CR1^2,L^1,Y1068=P^3).EGFR(CR1^2,L^4,Y1068=P^5).EGF(R^4).Grb2(SH2^5,SH3).Grb2(SH2^3,SH3) | 2.7685492801771873e-06\n",
      "EGF(R^1).EGFR(CR1,L^1,Y1068=P) + EGF(R^1).EGFR(CR1,L^1,Y1068=P^2).Grb2(SH2^2,SH3) > EGF(R^1).EGFR(CR1^2,L^1,Y1068=P).EGFR(CR1^2,L^3,Y1068=P^4).EGF(R^3).Grb2(SH2^4,SH3) | 5.537098560354375e-06\n",
      "EGF(R^1).EGFR(CR1,L^1,Y1068=P^2).Grb2(SH2^2,SH3) + EGF(R^1).EGFR(CR1,L^1,Y1068=U) > EGF(R^1).EGFR(CR1^2,L^1,Y1068=P^3).EGFR(CR1^2,L^4,Y1068=U).EGF(R^4).Grb2(SH2^3,SH3) | 5.537098560354375e-06\n",
      "EGF(R^1).EGFR(CR1^2,L^1,Y1068=P).EGFR(CR1^2,L^3,Y1068=P^4).EGF(R^3).Grb2(SH2^4,SH3^5).Sos1(PxxP^5) > EGF(R^1).EGFR(CR1,L^1,Y1068=P) + EGF(R^1).EGFR(CR1,L^1,Y1068=P^2).Grb2(SH2^2,SH3^3).Sos1(PxxP^3) | 0.1\n",
      "EGF(R^1).EGFR(CR1^2,L^1,Y1068=P).EGFR(CR1^2,L^3,Y1068=P^4).EGF(R^3).Grb2(SH2^4,SH3) > EGF(R^1).EGFR(CR1,L^1,Y1068=P) + EGF(R^1).EGFR(CR1,L^1,Y1068=P^2).Grb2(SH2^2,SH3) | 0.1\n",
      "EGFR(CR1,L,Y1068=P) > EGFR(CR1,L,Y1068=U) | 4.505\n",
      "EGF(R^1).EGFR(CR1^2,L^1,Y1068=P).EGFR(CR1^2,L^3,Y1068=P^4).EGF(R^3).Grb2(SH2^4,SH3^5).Sos1(PxxP^5) > EGF(R^1).EGFR(CR1^2,L^1,Y1068=P^3).EGFR(CR1^2,L^4,Y1068=U).EGF(R^4).Grb2(SH2^3,SH3^5).Sos1(PxxP^5) | 4.505\n",
      "EGF(R^1).EGFR(CR1^2,L^1,Y1068=P).EGFR(CR1^2,L^3,Y1068=P^4).EGF(R^3).Grb2(SH2^4,SH3) > EGF(R^1).EGFR(CR1^2,L^1,Y1068=P^3).EGFR(CR1^2,L^4,Y1068=U).EGF(R^4).Grb2(SH2^3,SH3) | 4.505\n",
      "EGFR(CR1,L,Y1068=P) + Grb2(SH2,SH3^1).Sos1(PxxP^1) > EGFR(CR1,L,Y1068=P^1).Grb2(SH2^1,SH3^2).Sos1(PxxP^2) | 8.305647840531562e-07\n",
      "EGFR(CR1,L,Y1068=P) + Grb2(SH2,SH3) > EGFR(CR1,L,Y1068=P^1).Grb2(SH2^1,SH3) | 8.305647840531562e-07\n",
      "EGF(R^1).EGFR(CR1^2,L^1,Y1068=P).EGFR(CR1^2,L^3,Y1068=P^4).EGF(R^3).Grb2(SH2^4,SH3^5).Sos1(PxxP^5) + Grb2(SH2,SH3^1).Sos1(PxxP^1) > EGF(R^1).EGFR(CR1^2,L^1,Y1068=P^3).EGFR(CR1^2,L^4,Y1068=P^5).EGF(R^4).Grb2(SH2^5,SH3^6).Sos1(PxxP^6).Grb2(SH2^3,SH3^7).Sos1(PxxP^7) | 8.305647840531562e-07\n",
      "EGF(R^1).EGFR(CR1^2,L^1,Y1068=P).EGFR(CR1^2,L^3,Y1068=P^4).EGF(R^3).Grb2(SH2^4,SH3^5).Sos1(PxxP^5) + Grb2(SH2,SH3) > EGF(R^1).EGFR(CR1^2,L^1,Y1068=P^3).EGFR(CR1^2,L^4,Y1068=P^5).EGF(R^4).Grb2(SH2^5,SH3).Grb2(SH2^3,SH3^6).Sos1(PxxP^6) | 8.305647840531562e-07\n",
      "EGF(R^1).EGFR(CR1^2,L^1,Y1068=P).EGFR(CR1^2,L^3,Y1068=P^4).EGF(R^3).Grb2(SH2^4,SH3) + Grb2(SH2,SH3^1).Sos1(PxxP^1) > EGF(R^1).EGFR(CR1^2,L^1,Y1068=P^3).EGFR(CR1^2,L^4,Y1068=P^5).EGF(R^4).Grb2(SH2^5,SH3).Grb2(SH2^3,SH3^6).Sos1(PxxP^6) | 8.305647840531562e-07\n",
      "EGF(R^1).EGFR(CR1^2,L^1,Y1068=P).EGFR(CR1^2,L^3,Y1068=P^4).EGF(R^3).Grb2(SH2^4,SH3) + Grb2(SH2,SH3) > EGF(R^1).EGFR(CR1^2,L^1,Y1068=P^3).EGFR(CR1^2,L^4,Y1068=P^5).EGF(R^4).Grb2(SH2^5,SH3).Grb2(SH2^3,SH3) | 8.305647840531562e-07\n",
      "EGF(R^1).EGFR(CR1,L^1,Y1068=P^2).Grb2(SH2^2,SH3^3).Sos1(PxxP^3) > EGF(R^1).EGFR(CR1,L^1,Y1068=P) + Grb2(SH2,SH3^1).Sos1(PxxP^1) | 0.05\n",
      "EGF(R^1).EGFR(CR1,L^1,Y1068=P^2).Grb2(SH2^2,SH3) > EGF(R^1).EGFR(CR1,L^1,Y1068=P) + Grb2(SH2,SH3) | 0.05\n",
      "EGF(R^1).EGFR(CR1^2,L^1,Y1068=P).EGFR(CR1^2,L^3,Y1068=P^4).EGF(R^3).Grb2(SH2^4,SH3^5).Sos1(PxxP^5) > EGF(R^1).EGFR(CR1^2,L^1,Y1068=P).EGFR(CR1^2,L^3,Y1068=P).EGF(R^3) + Grb2(SH2,SH3^1).Sos1(PxxP^1) | 0.05\n",
      "EGF(R^1).EGFR(CR1^2,L^1,Y1068=P).EGFR(CR1^2,L^3,Y1068=P^4).EGF(R^3).Grb2(SH2^4,SH3) > EGF(R^1).EGFR(CR1^2,L^1,Y1068=P).EGFR(CR1^2,L^3,Y1068=P).EGF(R^3) + Grb2(SH2,SH3) | 0.05\n",
      "EGF(R^1).EGFR(CR1,L^1,Y1068=P^2).Grb2(SH2^2,SH3) + Sos1(PxxP) > EGF(R^1).EGFR(CR1,L^1,Y1068=P^2).Grb2(SH2^2,SH3^3).Sos1(PxxP^3) | 5.537098560354375e-06\n",
      "EGF(R^1).EGFR(CR1^2,L^1,Y1068=P).EGFR(CR1^2,L^3,Y1068=P^4).EGF(R^3).Grb2(SH2^4,SH3) + Sos1(PxxP) > EGF(R^1).EGFR(CR1^2,L^1,Y1068=P).EGFR(CR1^2,L^3,Y1068=P^4).EGF(R^3).Grb2(SH2^4,SH3^5).Sos1(PxxP^5) | 5.537098560354375e-06\n",
      "EGF(R^1).EGFR(CR1,L^1,Y1068=P^2).Grb2(SH2^2,SH3^3).Sos1(PxxP^3) > EGF(R^1).EGFR(CR1,L^1,Y1068=P^2).Grb2(SH2^2,SH3) + Sos1(PxxP) | 0.06\n",
      "EGF(R^1).EGFR(CR1^2,L^1,Y1068=P).EGFR(CR1^2,L^3,Y1068=P^4).EGF(R^3).Grb2(SH2^4,SH3^5).Sos1(PxxP^5) > EGF(R^1).EGFR(CR1^2,L^1,Y1068=P).EGFR(CR1^2,L^3,Y1068=P^4).EGF(R^3).Grb2(SH2^4,SH3) + Sos1(PxxP) | 0.06\n",
      "EGF(R^1).EGFR(CR1^2,L^1,Y1068=P).EGFR(CR1^2,L^3,Y1068=P^4).EGF(R^3).Grb2(SH2^4,SH3^5).Sos1(PxxP^5) >  | 0.01\n",
      "EGF(R^1).EGFR(CR1^2,L^1,Y1068=P).EGFR(CR1^2,L^3,Y1068=P^4).EGF(R^3).Grb2(SH2^4,SH3) >  | 0.01\n",
      "EGF(R) + EGFR(CR1,L,Y1068=P^1).Grb2(SH2^1,SH3^2).Sos1(PxxP^2) > EGF(R^1).EGFR(CR1,L^1,Y1068=P^2).Grb2(SH2^2,SH3^3).Sos1(PxxP^3) | 1.495016611295681e-06\n",
      "EGF(R) + EGFR(CR1,L,Y1068=P^1).Grb2(SH2^1,SH3) > EGF(R^1).EGFR(CR1,L^1,Y1068=P^2).Grb2(SH2^2,SH3) | 1.495016611295681e-06\n",
      "EGF(R^1).EGFR(CR1^2,L^1,Y1068=P^3).EGFR(CR1^2,L^4,Y1068=P^5).EGF(R^4).Grb2(SH2^5,SH3^6).Sos1(PxxP^6).Grb2(SH2^3,SH3^7).Sos1(PxxP^7) > EGF(R^1).EGFR(CR1,L^1,Y1068=P^2).Grb2(SH2^2,SH3^3).Sos1(PxxP^3) + EGF(R^1).EGFR(CR1,L^1,Y1068=P^2).Grb2(SH2^2,SH3^3).Sos1(PxxP^3) | 0.1\n",
      "EGF(R^1).EGFR(CR1^2,L^1,Y1068=P^3).EGFR(CR1^2,L^4,Y1068=P^5).EGF(R^4).Grb2(SH2^5,SH3).Grb2(SH2^3,SH3^6).Sos1(PxxP^6) > EGF(R^1).EGFR(CR1,L^1,Y1068=P^2).Grb2(SH2^2,SH3) + EGF(R^1).EGFR(CR1,L^1,Y1068=P^2).Grb2(SH2^2,SH3^3).Sos1(PxxP^3) | 0.1\n",
      "EGF(R^1).EGFR(CR1^2,L^1,Y1068=P^3).EGFR(CR1^2,L^4,Y1068=P^5).EGF(R^4).Grb2(SH2^5,SH3).Grb2(SH2^3,SH3) > EGF(R^1).EGFR(CR1,L^1,Y1068=P^2).Grb2(SH2^2,SH3) + EGF(R^1).EGFR(CR1,L^1,Y1068=P^2).Grb2(SH2^2,SH3) | 0.1\n",
      "EGFR(CR1,L,Y1068=P^1).Grb2(SH2^1,SH3^2).Sos1(PxxP^2) > EGFR(CR1,L,Y1068=P) + Grb2(SH2,SH3^1).Sos1(PxxP^1) | 0.05\n",
      "EGFR(CR1,L,Y1068=P^1).Grb2(SH2^1,SH3) > EGFR(CR1,L,Y1068=P) + Grb2(SH2,SH3) | 0.05\n",
      "EGF(R^1).EGFR(CR1^2,L^1,Y1068=P^3).EGFR(CR1^2,L^4,Y1068=P^5).EGF(R^4).Grb2(SH2^5,SH3^6).Sos1(PxxP^6).Grb2(SH2^3,SH3^7).Sos1(PxxP^7) > EGF(R^1).EGFR(CR1^2,L^1,Y1068=P).EGFR(CR1^2,L^3,Y1068=P^4).EGF(R^3).Grb2(SH2^4,SH3^5).Sos1(PxxP^5) + Grb2(SH2,SH3^1).Sos1(PxxP^1) | 0.1\n",
      "EGF(R^1).EGFR(CR1^2,L^1,Y1068=P^3).EGFR(CR1^2,L^4,Y1068=P^5).EGF(R^4).Grb2(SH2^5,SH3).Grb2(SH2^3,SH3^6).Sos1(PxxP^6) > EGF(R^1).EGFR(CR1^2,L^1,Y1068=P).EGFR(CR1^2,L^3,Y1068=P^4).EGF(R^3).Grb2(SH2^4,SH3) + Grb2(SH2,SH3^1).Sos1(PxxP^1) | 0.05\n",
      "EGF(R^1).EGFR(CR1^2,L^1,Y1068=P^3).EGFR(CR1^2,L^4,Y1068=P^5).EGF(R^4).Grb2(SH2^5,SH3).Grb2(SH2^3,SH3^6).Sos1(PxxP^6) > EGF(R^1).EGFR(CR1^2,L^1,Y1068=P).EGFR(CR1^2,L^3,Y1068=P^4).EGF(R^3).Grb2(SH2^4,SH3^5).Sos1(PxxP^5) + Grb2(SH2,SH3) | 0.05\n",
      "EGF(R^1).EGFR(CR1^2,L^1,Y1068=P^3).EGFR(CR1^2,L^4,Y1068=P^5).EGF(R^4).Grb2(SH2^5,SH3).Grb2(SH2^3,SH3) > EGF(R^1).EGFR(CR1^2,L^1,Y1068=P).EGFR(CR1^2,L^3,Y1068=P^4).EGF(R^3).Grb2(SH2^4,SH3) + Grb2(SH2,SH3) | 0.1\n",
      "EGFR(CR1,L,Y1068=P^1).Grb2(SH2^1,SH3) + Sos1(PxxP) > EGFR(CR1,L,Y1068=P^1).Grb2(SH2^1,SH3^2).Sos1(PxxP^2) | 5.537098560354375e-06\n",
      "EGF(R^1).EGFR(CR1^2,L^1,Y1068=P^3).EGFR(CR1^2,L^4,Y1068=P^5).EGF(R^4).Grb2(SH2^5,SH3).Grb2(SH2^3,SH3^6).Sos1(PxxP^6) + Sos1(PxxP) > EGF(R^1).EGFR(CR1^2,L^1,Y1068=P^3).EGFR(CR1^2,L^4,Y1068=P^5).EGF(R^4).Grb2(SH2^5,SH3^6).Sos1(PxxP^6).Grb2(SH2^3,SH3^7).Sos1(PxxP^7) | 5.537098560354375e-06\n",
      "EGF(R^1).EGFR(CR1^2,L^1,Y1068=P^3).EGFR(CR1^2,L^4,Y1068=P^5).EGF(R^4).Grb2(SH2^5,SH3).Grb2(SH2^3,SH3) + Sos1(PxxP) > EGF(R^1).EGFR(CR1^2,L^1,Y1068=P^3).EGFR(CR1^2,L^4,Y1068=P^5).EGF(R^4).Grb2(SH2^5,SH3).Grb2(SH2^3,SH3^6).Sos1(PxxP^6) | 1.107419712070875e-05\n",
      "EGFR(CR1,L,Y1068=P^1).Grb2(SH2^1,SH3^2).Sos1(PxxP^2) > EGFR(CR1,L,Y1068=P^1).Grb2(SH2^1,SH3) + Sos1(PxxP) | 0.06\n",
      "EGF(R^1).EGFR(CR1^2,L^1,Y1068=P^3).EGFR(CR1^2,L^4,Y1068=P^5).EGF(R^4).Grb2(SH2^5,SH3^6).Sos1(PxxP^6).Grb2(SH2^3,SH3^7).Sos1(PxxP^7) > EGF(R^1).EGFR(CR1^2,L^1,Y1068=P^3).EGFR(CR1^2,L^4,Y1068=P^5).EGF(R^4).Grb2(SH2^5,SH3).Grb2(SH2^3,SH3^6).Sos1(PxxP^6) + Sos1(PxxP) | 0.12\n",
      "EGF(R^1).EGFR(CR1^2,L^1,Y1068=P^3).EGFR(CR1^2,L^4,Y1068=P^5).EGF(R^4).Grb2(SH2^5,SH3).Grb2(SH2^3,SH3^6).Sos1(PxxP^6) > EGF(R^1).EGFR(CR1^2,L^1,Y1068=P^3).EGFR(CR1^2,L^4,Y1068=P^5).EGF(R^4).Grb2(SH2^5,SH3).Grb2(SH2^3,SH3) + Sos1(PxxP) | 0.06\n",
      "EGF(R^1).EGFR(CR1^2,L^1,Y1068=P^3).EGFR(CR1^2,L^4,Y1068=P^5).EGF(R^4).Grb2(SH2^5,SH3^6).Sos1(PxxP^6).Grb2(SH2^3,SH3^7).Sos1(PxxP^7) >  | 0.01\n",
      "EGF(R^1).EGFR(CR1^2,L^1,Y1068=P^3).EGFR(CR1^2,L^4,Y1068=P^5).EGF(R^4).Grb2(SH2^5,SH3).Grb2(SH2^3,SH3^6).Sos1(PxxP^6) >  | 0.01\n",
      "EGF(R^1).EGFR(CR1^2,L^1,Y1068=P^3).EGFR(CR1^2,L^4,Y1068=P^5).EGF(R^4).Grb2(SH2^5,SH3).Grb2(SH2^3,SH3) >  | 0.01\n"
     ]
    }
   ],
   "source": [
    "show(m2)"
   ]
  },
  {
   "cell_type": "code",
   "execution_count": 10,
   "metadata": {},
   "outputs": [],
   "source": [
    "ret = run_simulation(120, model=m2, y0=y0)"
   ]
  },
  {
   "cell_type": "code",
   "execution_count": 11,
   "metadata": {},
   "outputs": [
    {
     "data": {
      "image/png": "[encoded data removed]",
      "text/plain": [
       "<Figure size 432x288 with 1 Axes>"
      ]
     },
     "metadata": {
      "needs_background": "light"
     },
     "output_type": "display_data"
    }
   ],
   "source": [
    "ret.plot(y=[\n",
    "    \"EGFR\", \"EGF(R)\", \"EGFR(CR1^_)\", \"EGFR(Y1068=P^_0)\", \"Grb2(SH2, SH3^1).Sos1(PxxP^1)\",\n",
    "    \"EGFR(Y1068^1).Grb2(SH2^1, SH3^2).Sos1(PxxP^2)\"])"
   ]
  }
 ],
 "metadata": {
  "kernelspec": {
   "display_name": "Python 3",
   "language": "python",
   "name": "python3"
  },
  "language_info": {
   "codemirror_mode": {
    "name": "ipython",
    "version": 3
   },
   "file_extension": ".py",
   "mimetype": "text/x-python",
   "name": "python",
   "nbconvert_exporter": "python",
   "pygments_lexer": "ipython3",
   "version": "3.7.1"
  }
 },
 "nbformat": 4,
 "nbformat_minor": 1
}
