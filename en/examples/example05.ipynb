{
 "cells": [
  {
   "cell_type": "markdown",
   "metadata": {},
   "source": [
    "# A Simple Model of the Glycolysis of Human Erythrocytes"
   ]
  },
  {
   "cell_type": "code",
   "execution_count": 1,
   "metadata": {},
   "outputs": [],
   "source": [
    "%matplotlib inline\n",
    "from ecell4.prelude import *"
   ]
  },
  {
   "cell_type": "markdown",
   "metadata": {},
   "source": [
    "This is a model for the glycolysis of human erythrocytes which takes into account ATP-synthesis and -consumption.\n",
    "This model is based on the model introduced in the following publication."
   ]
  },
  {
   "cell_type": "code",
   "execution_count": 2,
   "metadata": {},
   "outputs": [
    {
     "data": {
      "text/markdown": [
       "Heinrich R, Rapoport TA, Mathematical analysis of multienzyme systems. II. Steady state and transient control. *Bio Systems*, **1**(7), 130-6, 1975. [10.1016/0303-2647(75)90050-7](https://doi.org/10.1016/0303-2647(75)90050-7). PubMed PMID: [125616](https://www.ncbi.nlm.nih.gov/pubmed/125616)."
      ],
      "text/plain": [
       "<IPython.core.display.Markdown object>"
      ]
     },
     "metadata": {},
     "output_type": "display_data"
    }
   ],
   "source": [
    "citation(125616)"
   ]
  },
  {
   "cell_type": "code",
   "execution_count": 3,
   "metadata": {},
   "outputs": [
    {
     "data": {
      "text/markdown": [
       "Rapoport TA, Heinrich R, Mathematical analysis of multienzyme systems. I. Modelling of the glycolysis of human erythrocytes. *Bio Systems*, **1**(7), 120-9, 1975. [10.1016/0303-2647(75)90049-0](https://doi.org/10.1016/0303-2647(75)90049-0). PubMed PMID: [168932](https://www.ncbi.nlm.nih.gov/pubmed/168932)."
      ],
      "text/plain": [
       "<IPython.core.display.Markdown object>"
      ]
     },
     "metadata": {},
     "output_type": "display_data"
    }
   ],
   "source": [
    "citation(168932)"
   ]
  },
  {
   "cell_type": "code",
   "execution_count": 4,
   "metadata": {
    "scrolled": true
   },
   "outputs": [],
   "source": [
    "with reaction_rules():\n",
    "    2 * ATP > 2 * A13P2G + 2 * ADP | (3.2 * ATP / (1.0 + (ATP / 1.0) ** 4.0))\n",
    "    A13P2G > A23P2G | 1500\n",
    "    A23P2G > PEP | 0.15\n",
    "    A13P2G + ADP > PEP + ATP | 1.57e+4\n",
    "    PEP + ADP > ATP | 559\n",
    "    AMP + ATP > 2 * ADP | (1.0 * (AMP * ATP - 2.0 * ADP * ADP))\n",
    "    ATP > ADP | 1.46"
   ]
  },
  {
   "cell_type": "code",
   "execution_count": 5,
   "metadata": {},
   "outputs": [],
   "source": [
    "y0 = {\"A13P2G\": 0.0005082, \"A23P2G\": 5.0834, \"PEP\": 0.020502,\n",
    "      \"AMP\": 0.080139, \"ADP\": 0.2190, \"ATP\": 1.196867}"
   ]
  },
  {
   "cell_type": "code",
   "execution_count": 6,
   "metadata": {},
   "outputs": [
    {
     "data": {
      "image/png": "[encoded data removed]",
      "text/plain": [
       "<Figure size 432x288 with 1 Axes>"
      ]
     },
     "metadata": {
      "needs_background": "light"
     },
     "output_type": "display_data"
    }
   ],
   "source": [
    "run_simulation(100, y0=y0)"
   ]
  }
 ],
 "metadata": {
  "kernelspec": {
   "display_name": "Python 3",
   "language": "python",
   "name": "python3"
  },
  "language_info": {
   "codemirror_mode": {
    "name": "ipython",
    "version": 3
   },
   "file_extension": ".py",
   "mimetype": "text/x-python",
   "name": "python",
   "nbconvert_exporter": "python",
   "pygments_lexer": "ipython3",
   "version": "3.7.1"
  }
 },
 "nbformat": 4,
 "nbformat_minor": 1
}
