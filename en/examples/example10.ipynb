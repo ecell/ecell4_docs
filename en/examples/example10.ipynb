{
 "cells": [
  {
   "cell_type": "markdown",
   "metadata": {},
   "source": [
    "# Simple Equilibrium\n",
    "\n",
    "This is a simple equilibrium model as an example. Here, we explain how to model and run a simulation without using decorators (`species_attributes` and `reaction_rules`) and `run_simulation` method."
   ]
  },
  {
   "cell_type": "code",
   "execution_count": 1,
   "metadata": {},
   "outputs": [],
   "source": [
    "%matplotlib inline\n",
    "from ecell4 import *\n",
    "from ecell4_base.core import *\n",
    "from ecell4_base import *"
   ]
  },
  {
   "cell_type": "markdown",
   "metadata": {},
   "source": [
    "Choose one module from a list of methods supported on E-Cell4."
   ]
  },
  {
   "cell_type": "code",
   "execution_count": 2,
   "metadata": {},
   "outputs": [],
   "source": [
    "# f = gillespie.Factory\n",
    "# f = ode.Factory()\n",
    "# f = spatiocyte.Factory()\n",
    "# f = bd.Factory()\n",
    "# f = meso.Factory()\n",
    "f = egfrd.Factory()"
   ]
  },
  {
   "cell_type": "markdown",
   "metadata": {},
   "source": [
    "Set up parameters:"
   ]
  },
  {
   "cell_type": "code",
   "execution_count": 3,
   "metadata": {},
   "outputs": [],
   "source": [
    "L, N, kd, U, D, radius = 1.0, 60, 0.1, 0.5, 1.0, 0.01\n",
    "volume = L * L * L\n",
    "ka = kd * volume * (1 - U) / (U * U * N)\n",
    "\n",
    "sp1, sp2, sp3 = Species(\"A\", radius, D), Species(\"B\", radius, D), Species(\"A_B\", radius, D)\n",
    "rr1, rr2 = create_binding_reaction_rule(sp1, sp2, sp3, ka), create_unbinding_reaction_rule(sp3, sp1, sp2, kd)"
   ]
  },
  {
   "cell_type": "markdown",
   "metadata": {},
   "source": [
    "Create a model:"
   ]
  },
  {
   "cell_type": "code",
   "execution_count": 4,
   "metadata": {},
   "outputs": [],
   "source": [
    "m = NetworkModel()\n",
    "m.add_species_attribute(sp1)\n",
    "m.add_species_attribute(sp2)\n",
    "m.add_species_attribute(sp3)\n",
    "m.add_reaction_rule(rr1)\n",
    "m.add_reaction_rule(rr2)"
   ]
  },
  {
   "cell_type": "markdown",
   "metadata": {},
   "source": [
    "Create a world and simulator:"
   ]
  },
  {
   "cell_type": "code",
   "execution_count": 5,
   "metadata": {},
   "outputs": [],
   "source": [
    "w = f.world(Real3(L, L, L))\n",
    "w.bind_to(m)\n",
    "w.add_molecules(Species(\"A\"), N)\n",
    "w.add_molecules(Species(\"B\"), N)\n",
    "\n",
    "sim = f.simulator(w)\n",
    "sim.set_dt(1e-3) #XXX: This is too large to get the accurate result with BDSimulator."
   ]
  },
  {
   "cell_type": "markdown",
   "metadata": {},
   "source": [
    "Run a simulation:"
   ]
  },
  {
   "cell_type": "code",
   "execution_count": 6,
   "metadata": {},
   "outputs": [],
   "source": [
    "next_time, dt = 0.0, 0.05\n",
    "data = [(w.t(), w.num_molecules(sp1), w.num_molecules(sp2), w.num_molecules(sp3))]\n",
    "for i in range(100):\n",
    "    next_time += dt\n",
    "    while (sim.step(next_time)): pass\n",
    "    data.append((w.t(), w.num_molecules(sp1), w.num_molecules(sp2), w.num_molecules(sp3)))"
   ]
  },
  {
   "cell_type": "markdown",
   "metadata": {},
   "source": [
    "Plot with Matplotlib:"
   ]
  },
  {
   "cell_type": "code",
   "execution_count": 7,
   "metadata": {},
   "outputs": [
    {
     "data": {
      "image/png": "[encoded data removed]",
      "text/plain": [
       "<Figure size 432x288 with 1 Axes>"
      ]
     },
     "metadata": {
      "needs_background": "light"
     },
     "output_type": "display_data"
    }
   ],
   "source": [
    "import matplotlib.pylab as plt\n",
    "from numpy import array\n",
    "\n",
    "data = array(data)\n",
    "plt.plot(data.T[0], data.T[1], \"r-\", label=sp1.serial())\n",
    "plt.plot(data.T[0], data.T[2], \"g--\", label=sp2.serial())\n",
    "plt.plot(data.T[0], data.T[3], \"b:\", label=sp3.serial())\n",
    "plt.xlabel(\"Time\")\n",
    "plt.ylabel(\"Number Of Molecules\")\n",
    "plt.xlim(data.T[0][0], data.T[0][-1])\n",
    "plt.legend(loc=\"best\", shadow=True)\n",
    "plt.show()"
   ]
  },
  {
   "cell_type": "markdown",
   "metadata": {},
   "source": [
    "See also [Reversible](../../Tests/Reversible.ipynb) and <a href=\"../../Tests/Reversible (Diffusion-limited).ipynb\">Reversible (Diffusion-limited)</a> in the Tests section for more detailed comparisons between methods."
   ]
  }
 ],
 "metadata": {
  "kernelspec": {
   "display_name": "Python 3",
   "language": "python",
   "name": "python3"
  },
  "language_info": {
   "codemirror_mode": {
    "name": "ipython",
    "version": 3
   },
   "file_extension": ".py",
   "mimetype": "text/x-python",
   "name": "python",
   "nbconvert_exporter": "python",
   "pygments_lexer": "ipython3",
   "version": "3.6.7"
  }
 },
 "nbformat": 4,
 "nbformat_minor": 1
}
