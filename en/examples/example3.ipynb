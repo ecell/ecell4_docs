{
 "cells": [
  {
   "cell_type": "markdown",
   "metadata": {},
   "source": [
    "# Dual Phosphorylation Cycle"
   ]
  },
  {
   "cell_type": "code",
   "execution_count": 1,
   "metadata": {},
   "outputs": [],
   "source": [
    "from ecell4_base.core import *\n",
    "from ecell4.util import species_attributes, reaction_rules, show"
   ]
  },
  {
   "cell_type": "code",
   "execution_count": 2,
   "metadata": {},
   "outputs": [],
   "source": [
    "@species_attributes\n",
    "def attrgen(radius, D):\n",
    "    K | Kp | Kpp | KK | PP | K_KK | Kp_KK | Kpp_PP | Kp_PP | {\"radius\": radius, \"D\": D}\n",
    "\n",
    "@reaction_rules\n",
    "def rulegen(kon1, koff1, kcat1, kon2, koff2, kcat2):\n",
    "    (K + KK == K_KK | (kon1, koff1)\n",
    "        > Kp + KK | kcat1\n",
    "        == Kp_KK | (kon2, koff2)\n",
    "        > Kpp + KK | kcat2)\n",
    "\n",
    "    (Kpp + PP == Kpp_PP | (kon1, koff1)\n",
    "        > Kp + PP | kcat1\n",
    "        == Kp_PP | (kon2, koff2)\n",
    "        > K + PP | kcat2)"
   ]
  },
  {
   "cell_type": "code",
   "execution_count": 3,
   "metadata": {},
   "outputs": [],
   "source": [
    "m = NetworkModel()"
   ]
  },
  {
   "cell_type": "code",
   "execution_count": 4,
   "metadata": {},
   "outputs": [
    {
     "name": "stdout",
     "output_type": "stream",
     "text": [
      "0 K 0.0025 1.0\n",
      "1 Kp 0.0025 1.0\n",
      "2 Kpp 0.0025 1.0\n",
      "3 KK 0.0025 1.0\n",
      "4 PP 0.0025 1.0\n",
      "5 K_KK 0.0025 1.0\n",
      "6 Kp_KK 0.0025 1.0\n",
      "7 Kpp_PP 0.0025 1.0\n",
      "8 Kp_PP 0.0025 1.0\n"
     ]
    }
   ],
   "source": [
    "for i, sp in enumerate(attrgen(0.0025, 1.0)):\n",
    "    print(i, sp.serial(), sp.get_attribute(\"radius\").magnitude, sp.get_attribute(\"D\").magnitude)\n",
    "    m.add_species_attribute(sp)"
   ]
  },
  {
   "cell_type": "code",
   "execution_count": 5,
   "metadata": {},
   "outputs": [
    {
     "name": "stdout",
     "output_type": "stream",
     "text": [
      "0 K+KK>K_KK|0.0448346\n",
      "1 K_KK>K+KK|1.73\n",
      "2 K_KK>Kp+KK|1.5\n",
      "3 Kp+KK>Kp_KK|0.0929902\n",
      "4 Kp_KK>Kp+KK|1.73\n",
      "5 Kp_KK>Kpp+KK|15\n",
      "6 Kpp+PP>Kpp_PP|0.0448346\n",
      "7 Kpp_PP>Kpp+PP|1.73\n",
      "8 Kpp_PP>Kp+PP|1.5\n",
      "9 Kp+PP>Kp_PP|0.0929902\n",
      "10 Kp_PP>Kp+PP|1.73\n",
      "11 Kp_PP>K+PP|15\n"
     ]
    }
   ],
   "source": [
    "ka1, kd1, kcat1 = 0.04483455086786913, 1.35, 1.5\n",
    "ka2, kd2, kcat2 = 0.09299017957780264, 1.73, 15.0\n",
    "\n",
    "for i, rr in enumerate(rulegen(ka1, kd2, kcat1, ka2, kd2, kcat2)):\n",
    "    reactants, products, k = rr.reactants(), rr.products(), rr.k()\n",
    "    print(i, rr.as_string())\n",
    "    m.add_reaction_rule(rr)"
   ]
  },
  {
   "cell_type": "code",
   "execution_count": 6,
   "metadata": {},
   "outputs": [
    {
     "name": "stdout",
     "output_type": "stream",
     "text": [
      "K|{'radius': <ecell4_base.core.Quantity object at 0x150173e96748>, 'D': <ecell4_base.core.Quantity object at 0x150173e96588>}\n",
      "Kp|{'D': <ecell4_base.core.Quantity object at 0x150173e96588>, 'radius': <ecell4_base.core.Quantity object at 0x150173e96e80>}\n",
      "Kpp|{'radius': <ecell4_base.core.Quantity object at 0x150173e96748>, 'D': <ecell4_base.core.Quantity object at 0x150173e96588>}\n",
      "KK|{'radius': <ecell4_base.core.Quantity object at 0x150173e96748>, 'D': <ecell4_base.core.Quantity object at 0x150173e96e80>}\n",
      "PP|{'D': <ecell4_base.core.Quantity object at 0x150173e96e80>, 'radius': <ecell4_base.core.Quantity object at 0x150173e96588>}\n",
      "K_KK|{'D': <ecell4_base.core.Quantity object at 0x150173e96588>, 'radius': <ecell4_base.core.Quantity object at 0x150173e96e80>}\n",
      "Kp_KK|{'D': <ecell4_base.core.Quantity object at 0x150173e96e80>, 'radius': <ecell4_base.core.Quantity object at 0x150173e96588>}\n",
      "Kpp_PP|{'D': <ecell4_base.core.Quantity object at 0x150173e96588>, 'radius': <ecell4_base.core.Quantity object at 0x150173e96e80>}\n",
      "Kp_PP|{'radius': <ecell4_base.core.Quantity object at 0x150173e96748>, 'D': <ecell4_base.core.Quantity object at 0x150173e96588>}\n",
      "K+KK>K_KK|0.0448346\n",
      "K_KK>K+KK|1.73\n",
      "K_KK>Kp+KK|1.5\n",
      "Kp+KK>Kp_KK|0.0929902\n",
      "Kp_KK>Kp+KK|1.73\n",
      "Kp_KK>Kpp+KK|15\n",
      "Kpp+PP>Kpp_PP|0.0448346\n",
      "Kpp_PP>Kpp+PP|1.73\n",
      "Kpp_PP>Kp+PP|1.5\n",
      "Kp+PP>Kp_PP|0.0929902\n",
      "Kp_PP>Kp+PP|1.73\n",
      "Kp_PP>K+PP|15\n"
     ]
    }
   ],
   "source": [
    "show(m)"
   ]
  },
  {
   "cell_type": "code",
   "execution_count": 7,
   "metadata": {},
   "outputs": [],
   "source": [
    "from ecell4_base import gillespie, ode\n",
    "\n",
    "f = gillespie.Factory()\n",
    "# f = ode.Factory()\n",
    "\n",
    "w = f.world(ones())\n",
    "# w.bind_to(m)\n",
    "w.add_molecules(Species(\"K\"), 120)\n",
    "w.add_molecules(Species(\"KK\"), 30)\n",
    "w.add_molecules(Species(\"PP\"), 30)\n",
    "\n",
    "sim = f.simulator(w, m)"
   ]
  },
  {
   "cell_type": "code",
   "execution_count": 8,
   "metadata": {},
   "outputs": [],
   "source": [
    "obs = FixedIntervalNumberObserver(1.0, [\"K\", \"K_KK\", \"Kp\", \"Kp_KK\", \"Kp_PP\", \"Kpp\", \"Kpp_PP\"])\n",
    "sim.run(60, [obs])"
   ]
  },
  {
   "cell_type": "code",
   "execution_count": 9,
   "metadata": {},
   "outputs": [
    {
     "data": {
      "image/png": "[encoded data removed]",
      "text/plain": [
       "<Figure size 432x288 with 1 Axes>"
      ]
     },
     "metadata": {
      "needs_background": "light"
     },
     "output_type": "display_data"
    }
   ],
   "source": [
    "%matplotlib inline\n",
    "import matplotlib.pylab as plt\n",
    "from numpy import array\n",
    "\n",
    "data = array(obs.data()).T\n",
    "plt.plot(data[0], data[1] + data[2], \"r-\", label=\"K\")\n",
    "plt.plot(data[0], data[3] + data[4] + data[5], \"g--\", label=\"Kp\")\n",
    "plt.plot(data[0], data[6] + data[7], \"b:\", label=\"Kpp\")\n",
    "plt.xlabel(\"Time\")\n",
    "plt.ylabel(\"Number Of Molecules\")\n",
    "plt.xlim(data[0][0], data[0][-1])\n",
    "plt.legend(loc=\"best\", shadow=True)\n",
    "plt.show()"
   ]
  }
 ],
 "metadata": {
  "kernelspec": {
   "display_name": "Python 3",
   "language": "python",
   "name": "python3"
  },
  "language_info": {
   "codemirror_mode": {
    "name": "ipython",
    "version": 3
   },
   "file_extension": ".py",
   "mimetype": "text/x-python",
   "name": "python",
   "nbconvert_exporter": "python",
   "pygments_lexer": "ipython3",
   "version": "3.6.7"
  }
 },
 "nbformat": 4,
 "nbformat_minor": 1
}
