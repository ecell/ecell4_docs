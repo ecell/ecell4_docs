{
 "cells": [
  {
   "cell_type": "markdown",
   "metadata": {},
   "source": [
    "# 6. How to Solve ODEs with Rate Law Functions\n",
    "\n",
    "In general, `ReactionRule` describes a mass action kinetics with no more than two reactants. In case of a reaction with a complecated rate law, `ReactionRule` could be extensible with `ReactionRuleDescriptor`. Here, we explan the use of `ReactionRuleDescriptor` especially for `ode`."
   ]
  },
  {
   "cell_type": "code",
   "execution_count": 1,
   "metadata": {},
   "outputs": [],
   "source": [
    "%matplotlib inline\n",
    "from ecell4.prelude import *"
   ]
  },
  {
   "cell_type": "markdown",
   "metadata": {},
   "source": [
    "## 6.1. ReactionRuleDescriptor\n",
    "\n",
    "`ReactionRule` defines reactants, products, and a kinetic rate."
   ]
  },
  {
   "cell_type": "code",
   "execution_count": 2,
   "metadata": {},
   "outputs": [
    {
     "name": "stdout",
     "output_type": "stream",
     "text": [
      "2\n",
      "1\n",
      "1.0\n",
      "A+B>C|1\n",
      "False\n"
     ]
    }
   ],
   "source": [
    "rr1 = ReactionRule()\n",
    "rr1.add_reactant(Species(\"A\"))\n",
    "rr1.add_reactant(Species(\"B\"))\n",
    "rr1.add_product(Species(\"C\"))\n",
    "rr1.set_k(1.0)\n",
    "print(len(rr1.reactants()))  # => 2\n",
    "print(len(rr1.products()))  # => 1\n",
    "print(rr1.k())  # => 1.0\n",
    "print(rr1.as_string())  # => A+B>C|1\n",
    "print(rr1.has_descriptor())  # => False"
   ]
  },
  {
   "cell_type": "markdown",
   "metadata": {},
   "source": [
    "In addition to that, `ReactionRule` could be extensible with `ReactionRuleDescriptor`."
   ]
  },
  {
   "cell_type": "code",
   "execution_count": 3,
   "metadata": {},
   "outputs": [
    {
     "name": "stdout",
     "output_type": "stream",
     "text": [
      "1.0\n"
     ]
    }
   ],
   "source": [
    "desc1 = ReactionRuleDescriptorMassAction(1.0)\n",
    "print(desc1.k())\n",
    "rr1.set_descriptor(desc1)"
   ]
  },
  {
   "cell_type": "markdown",
   "metadata": {},
   "source": [
    "`ReactionRuleDescriptor` is accessible from `ReactionRule`."
   ]
  },
  {
   "cell_type": "code",
   "execution_count": 4,
   "metadata": {},
   "outputs": [
    {
     "name": "stdout",
     "output_type": "stream",
     "text": [
      "True\n",
      "<ecell4_base.core.ReactionRuleDescriptorMassAction object at 0x147e2c4765e0>\n",
      "1.0\n"
     ]
    }
   ],
   "source": [
    "print(rr1.has_descriptor())\n",
    "print(rr1.get_descriptor())\n",
    "print(rr1.get_descriptor().k())"
   ]
  },
  {
   "cell_type": "markdown",
   "metadata": {},
   "source": [
    "`ReactionRuleDescriptor` can store stoichiometric coefficients for each reactants:"
   ]
  },
  {
   "cell_type": "code",
   "execution_count": 5,
   "metadata": {},
   "outputs": [
    {
     "name": "stdout",
     "output_type": "stream",
     "text": [
      "2*A+3*B>4*C|1\n"
     ]
    }
   ],
   "source": [
    "desc1.set_reactant_coefficient(0, 2)  # Set a coefficient of the first reactant\n",
    "desc1.set_reactant_coefficient(1, 3)  # Set a coefficient of the second reactant\n",
    "desc1.set_product_coefficient(0, 4)  # Set a coefficient of the first product\n",
    "print(rr1.as_string())"
   ]
  },
  {
   "cell_type": "markdown",
   "metadata": {},
   "source": [
    "You can get the list of coefficients in the following way:"
   ]
  },
  {
   "cell_type": "code",
   "execution_count": 6,
   "metadata": {},
   "outputs": [
    {
     "name": "stdout",
     "output_type": "stream",
     "text": [
      "[2.0, 3.0]\n",
      "[4.0]\n"
     ]
    }
   ],
   "source": [
    "print(desc1.reactant_coefficients())  # => [2.0, 3.0]\n",
    "print(desc1.product_coefficients())  # => [4.0]"
   ]
  },
  {
   "cell_type": "markdown",
   "metadata": {},
   "source": [
    "Please be careful that `ReactionRuleDescriptor` works properly only with `ode`."
   ]
  },
  {
   "cell_type": "markdown",
   "metadata": {},
   "source": [
    "## 6.2. ReactionRuleDescriptorPyFunc\n",
    "\n",
    "`ReactionRuleDescriptor` provides a function to calculate a derivative (flux or velocity) based on the given values of `Species`. In this section, we will explain the way to define your own kinetic law."
   ]
  },
  {
   "cell_type": "code",
   "execution_count": 7,
   "metadata": {},
   "outputs": [
    {
     "name": "stdout",
     "output_type": "stream",
     "text": [
      "A+B>C|0\n"
     ]
    }
   ],
   "source": [
    "rr1 = ReactionRule()\n",
    "rr1.add_reactant(Species(\"A\"))\n",
    "rr1.add_reactant(Species(\"B\"))\n",
    "rr1.add_product(Species(\"C\"))\n",
    "print(rr1.as_string())"
   ]
  },
  {
   "cell_type": "markdown",
   "metadata": {},
   "source": [
    "First, define a rate law function as a Python function. The function must accept six arguments and return a floating number. The first and second lists contain a value for each reactants and products respectively. The third and fourth represent volume and time. The coefficients of reactants and products are given in the last two arguments."
   ]
  },
  {
   "cell_type": "code",
   "execution_count": 8,
   "metadata": {},
   "outputs": [],
   "source": [
    "def ratelaw(r, p, v, t, rc, pc):\n",
    "    return 1.0 * r[0] * r[1] - 2.0 * p[0]"
   ]
  },
  {
   "cell_type": "markdown",
   "metadata": {},
   "source": [
    "`ReactionRuleDescriptorPyFunc` accepts the function."
   ]
  },
  {
   "cell_type": "code",
   "execution_count": 9,
   "metadata": {},
   "outputs": [
    {
     "name": "stdout",
     "output_type": "stream",
     "text": [
      "test\n",
      "1*A+1*B>1*C|0\n"
     ]
    }
   ],
   "source": [
    "desc1 = ReactionRuleDescriptorPyfunc(ratelaw, 'test')\n",
    "desc1.set_reactant_coefficients([1, 1])\n",
    "desc1.set_product_coefficients([1])\n",
    "rr1.set_descriptor(desc1)\n",
    "print(desc1.as_string())\n",
    "print(rr1.as_string())"
   ]
  },
  {
   "cell_type": "markdown",
   "metadata": {},
   "source": [
    "A `lambda` function is available too."
   ]
  },
  {
   "cell_type": "code",
   "execution_count": 10,
   "metadata": {},
   "outputs": [
    {
     "name": "stdout",
     "output_type": "stream",
     "text": [
      "test\n",
      "1*A+1*B>1*C|0\n"
     ]
    }
   ],
   "source": [
    "desc2 = ReactionRuleDescriptorPyfunc(lambda r, p, v, t, rc, pc:  1.0 * r[0] * r[1] - 2.0 * p[0], 'test')\n",
    "desc2.set_reactant_coefficients([1, 1])\n",
    "desc2.set_product_coefficients([1])\n",
    "rr1.set_descriptor(desc2)\n",
    "print(desc1.as_string())\n",
    "print(rr1.as_string())"
   ]
  },
  {
   "cell_type": "markdown",
   "metadata": {},
   "source": [
    "To test if the function works properly, evaluate the value with `ode.World`."
   ]
  },
  {
   "cell_type": "code",
   "execution_count": 11,
   "metadata": {},
   "outputs": [
    {
     "name": "stdout",
     "output_type": "stream",
     "text": [
      "140.0\n"
     ]
    }
   ],
   "source": [
    "w = ode.World()\n",
    "w.set_value(Species(\"A\"), 10)\n",
    "w.set_value(Species(\"B\"), 20)\n",
    "w.set_value(Species(\"C\"), 30)\n",
    "\n",
    "print(w.evaluate(rr1))  # => 140 = 1 * 10 * 20 - 2 * 30"
   ]
  },
  {
   "cell_type": "markdown",
   "metadata": {},
   "source": [
    "## 6.3. NetworkModel\n",
    "\n",
    "`NetworkModel` accepts `ReactionRule`s with and without `ReactionRuleDescriptor`."
   ]
  },
  {
   "cell_type": "code",
   "execution_count": 12,
   "metadata": {},
   "outputs": [],
   "source": [
    "m1 = NetworkModel()\n",
    "rr1 = create_unbinding_reaction_rule(Species(\"C\"), Species(\"A\"), Species(\"B\"), 3.0)\n",
    "m1.add_reaction_rule(rr1)\n",
    "rr2 = create_binding_reaction_rule(Species(\"A\"), Species(\"B\"), Species(\"C\"), 0.0)\n",
    "desc1 = ReactionRuleDescriptorPyfunc(lambda r, p, v, t, rc, pc: 0.1 * r[0] * r[1], \"test\")\n",
    "desc1.set_reactant_coefficients([1, 1])\n",
    "desc1.set_product_coefficients([1])\n",
    "rr2.set_descriptor(desc1)\n",
    "m1.add_reaction_rule(rr2)"
   ]
  },
  {
   "cell_type": "markdown",
   "metadata": {},
   "source": [
    "You can access to the list of `ReactionRule`s in `NetworkModel` via its member `reaction_rules()`."
   ]
  },
  {
   "cell_type": "code",
   "execution_count": 13,
   "metadata": {},
   "outputs": [
    {
     "name": "stdout",
     "output_type": "stream",
     "text": [
      "['C>A+B|3', '1*A+1*B>1*C|0']\n"
     ]
    }
   ],
   "source": [
    "print([rr.as_string() for rr in m1.reaction_rules()])"
   ]
  },
  {
   "cell_type": "markdown",
   "metadata": {},
   "source": [
    "Finally, you can run simulations in the same way with other solvers as follows:"
   ]
  },
  {
   "cell_type": "code",
   "execution_count": 14,
   "metadata": {},
   "outputs": [
    {
     "data": {
      "image/png": "[encoded data removed]",
      "text/plain": [
       "<Figure size 432x288 with 1 Axes>"
      ]
     },
     "metadata": {
      "needs_background": "light"
     },
     "output_type": "display_data"
    }
   ],
   "source": [
    "run_simulation(1.0, model=m1, y0={'A': 60, 'B': 60})"
   ]
  },
  {
   "cell_type": "markdown",
   "metadata": {},
   "source": [
    "Modeling with Python decorators is also available by specifying a function instead of a rate (floating number). When a floating number is set, it is assumed to be a kinetic rate of a mass action reaction, but not a constant velocity."
   ]
  },
  {
   "cell_type": "code",
   "execution_count": 15,
   "metadata": {},
   "outputs": [],
   "source": [
    "from functools import reduce\n",
    "from operator import mul\n",
    "\n",
    "with reaction_rules():\n",
    "    A + B == C | (lambda r, *args: 0.1 * reduce(mul, r), 3.0)\n",
    "\n",
    "m1 = get_model()"
   ]
  },
  {
   "cell_type": "markdown",
   "metadata": {},
   "source": [
    "For the simplicity, you can directory defining the equation with `Species` names as follows:"
   ]
  },
  {
   "cell_type": "code",
   "execution_count": 16,
   "metadata": {},
   "outputs": [],
   "source": [
    "with reaction_rules():\n",
    "    A + B == C | (0.1 * A * B, 3.0)\n",
    "\n",
    "m1 = get_model()"
   ]
  },
  {
   "cell_type": "markdown",
   "metadata": {},
   "source": [
    "When you call a `Species` (in the rate law) which is not listed as a reactant or product, it is automatically added to the list as an enzyme."
   ]
  },
  {
   "cell_type": "code",
   "execution_count": 17,
   "metadata": {},
   "outputs": [
    {
     "name": "stdout",
     "output_type": "stream",
     "text": [
      "1*S+1*E>1*P+1*E|0\n",
      "((1.0 * E * S) / (30.0 + S))\n"
     ]
    }
   ],
   "source": [
    "with reaction_rules():\n",
    "    S > P | 1.0 * E * S / (30.0 + S)\n",
    "\n",
    "m1 = get_model()\n",
    "print(m1.reaction_rules()[0].as_string())\n",
    "print(m1.reaction_rules()[0].get_descriptor().as_string())"
   ]
  },
  {
   "cell_type": "markdown",
   "metadata": {},
   "source": [
    "where `E` in the equation is appended to both reacant and product lists."
   ]
  },
  {
   "cell_type": "code",
   "execution_count": 18,
   "metadata": {},
   "outputs": [
    {
     "data": {
      "image/png": "[encoded data removed]",
      "text/plain": [
       "<Figure size 432x288 with 1 Axes>"
      ]
     },
     "metadata": {
      "needs_background": "light"
     },
     "output_type": "display_data"
    }
   ],
   "source": [
    "run_simulation(10.0, model=m1, y0={'S': 60, 'E': 30})"
   ]
  },
  {
   "cell_type": "markdown",
   "metadata": {},
   "source": [
    "Please be careful about typo in `Species`' name. When you make a typo, it is unintentionally recognized as a new enzyme:"
   ]
  },
  {
   "cell_type": "code",
   "execution_count": 19,
   "metadata": {},
   "outputs": [
    {
     "name": "stdout",
     "output_type": "stream",
     "text": [
      "1*A13P2G+1*A13B2G>1*A23P2G+1*A13B2G|0\n"
     ]
    }
   ],
   "source": [
    "with reaction_rules():\n",
    "    A13P2G > A23P2G | 1500 * A13B2G  # typo: A13P2G -> A13B2G\n",
    "\n",
    "m1 = get_model()\n",
    "print(m1.reaction_rules()[0].as_string())"
   ]
  },
  {
   "cell_type": "markdown",
   "metadata": {},
   "source": [
    "When you want to disable the automatic declaration of enzymes, inactivate `util.decorator.ENABLE_IMPLICIT_DECLARATION`. If its value is `False`, the above case will raise an error:"
   ]
  },
  {
   "cell_type": "code",
   "execution_count": 20,
   "metadata": {},
   "outputs": [
    {
     "name": "stdout",
     "output_type": "stream",
     "text": [
      "RuntimeError('[A13B2G] is unknown [(1500 * {0})].')\n"
     ]
    }
   ],
   "source": [
    "import ecell4.util.decorator\n",
    "ecell4.util.decorator.ENABLE_IMPLICIT_DECLARATION = False\n",
    "\n",
    "try:\n",
    "    with reaction_rules():\n",
    "        A13P2G > A23P2G | 1500 * A13B2G\n",
    "except RuntimeError as e:\n",
    "    print(repr(e))\n",
    "\n",
    "ecell4.util.decorator.ENABLE_IMPLICIT_DECLARATION = True"
   ]
  },
  {
   "cell_type": "markdown",
   "metadata": {},
   "source": [
    "Although E-Cell4 is specialized for a simulation of biochemical reaction network, by using a synthetic reaction rule, ordinary differential equations can be translated intuitively. For example, the Lotka-Volterra equations:\n",
    "\n",
    "$$\\frac{dx}{dt} = Ax - Bxy\\\\\\frac{dy}{dt} = -Cx + Dxy$$\n",
    "\n",
    "where $A=1.5, B=1, C=3, D=1, x(0)=10, y(0)=5$, are solved as follows:"
   ]
  },
  {
   "cell_type": "code",
   "execution_count": 21,
   "metadata": {},
   "outputs": [
    {
     "data": {
      "image/png": "[encoded data removed]",
      "text/plain": [
       "<Figure size 432x288 with 1 Axes>"
      ]
     },
     "metadata": {
      "needs_background": "light"
     },
     "output_type": "display_data"
    }
   ],
   "source": [
    "with reaction_rules():\n",
    "    A, B, C, D = 1.5, 1, 3, 1\n",
    "\n",
    "    ~x > x | A * x - B * x * y\n",
    "    ~y > y | -C * y + D * x * y\n",
    "\n",
    "run_simulation(10, model=get_model(), y0={'x': 10, 'y': 5})"
   ]
  },
  {
   "cell_type": "markdown",
   "metadata": {},
   "source": [
    "## 6.4. References in a Rate Law\n",
    "\n",
    "Here, we exlain the details in the rate law definition.\n",
    "\n",
    "First, when you use simpler definitions of a rate law with `Species`, only a limited number of mathematical functions (e.g. `exp`, `log`, `sin`, `cos`, `tan`, `asin`, `acos`, `atan`, and `pi`) are available there even if you declare the function outside the block."
   ]
  },
  {
   "cell_type": "code",
   "execution_count": 22,
   "metadata": {},
   "outputs": [
    {
     "name": "stdout",
     "output_type": "stream",
     "text": [
      "TypeError('must be real number, not DivExp')\n"
     ]
    }
   ],
   "source": [
    "try:\n",
    "    from math import erf\n",
    "\n",
    "    with reaction_rules():\n",
    "        S > P | erf(S / 30.0)\n",
    "except TypeError as e:\n",
    "    print(repr(e))"
   ]
  },
  {
   "cell_type": "markdown",
   "metadata": {},
   "source": [
    "This error happens because `erf` is tried to be evaluated agaist `S / 30.0`, which is not a floating number. In contrast, the following case is acceptable:"
   ]
  },
  {
   "cell_type": "code",
   "execution_count": 23,
   "metadata": {},
   "outputs": [
    {
     "name": "stdout",
     "output_type": "stream",
     "text": [
      "(0.9953222650189527 * S)\n"
     ]
    }
   ],
   "source": [
    "from math import erf\n",
    "\n",
    "with reaction_rules():\n",
    "    S > P | erf(2.0) * S\n",
    "\n",
    "m1 = get_model()\n",
    "print(m1.reaction_rules()[0].get_descriptor().as_string())"
   ]
  },
  {
   "cell_type": "markdown",
   "metadata": {},
   "source": [
    "where only the result of `erf(2.0)`, `0.995322265019`, is passed to the rate law. Thus, the rate law above has no reference to the `erf` function. Similarly, a value of variables declared outside is acceptable, but not as a reference."
   ]
  },
  {
   "cell_type": "code",
   "execution_count": 24,
   "metadata": {},
   "outputs": [
    {
     "name": "stdout",
     "output_type": "stream",
     "text": [
      "((1.0 * E * S) / (30.0 + S))\n",
      "((1.0 * E * S) / (30.0 + S))\n"
     ]
    }
   ],
   "source": [
    "kcat, Km = 1.0, 30.0\n",
    "\n",
    "with reaction_rules():\n",
    "    S > P | kcat * E * S / (Km + S)\n",
    "\n",
    "m1 = get_model()\n",
    "print(m1.reaction_rules()[0].get_descriptor().as_string())\n",
    "kcat = 2.0  # This doesn't affect the model\n",
    "print(m1.reaction_rules()[0].get_descriptor().as_string())"
   ]
  },
  {
   "cell_type": "markdown",
   "metadata": {},
   "source": [
    "Even if you change the value of a variable, it does **not** affect the rate law.\n",
    "\n",
    "On the other hand, when you use your own function to define a rate law, it can hold a reference to variables outside."
   ]
  },
  {
   "cell_type": "code",
   "execution_count": 25,
   "metadata": {},
   "outputs": [
    {
     "data": {
      "image/png": "[encoded data removed]",
      "text/plain": [
       "<Figure size 432x288 with 1 Axes>"
      ]
     },
     "metadata": {
      "needs_background": "light"
     },
     "output_type": "display_data"
    }
   ],
   "source": [
    "k1 = 1.0\n",
    "\n",
    "with reaction_rules():\n",
    "    S > P | (lambda r, *args: k1 * r[0])  # referring k1\n",
    "\n",
    "m1 = get_model()\n",
    "\n",
    "ret1 = run_simulation(2, model=m1, y0={\"S\": 60})\n",
    "k1 = 2.0  # This could change the result\n",
    "ret2 = run_simulation(2, model=m1, y0={\"S\": 60})\n",
    "\n",
    "plotting.plot_number_observer(ret1, '-', ret2, '--')"
   ]
  },
  {
   "cell_type": "markdown",
   "metadata": {},
   "source": [
    "However, in this case, it is better to make a new model for each set of parameters."
   ]
  },
  {
   "cell_type": "code",
   "execution_count": 26,
   "metadata": {},
   "outputs": [
    {
     "data": {
      "image/png": "[encoded data removed]",
      "text/plain": [
       "<Figure size 432x288 with 1 Axes>"
      ]
     },
     "metadata": {
      "needs_background": "light"
     },
     "output_type": "display_data"
    }
   ],
   "source": [
    "def create_model(k):\n",
    "    with reaction_rules():\n",
    "        S > P | k\n",
    "\n",
    "    return get_model()\n",
    "\n",
    "ret1 = run_simulation(2, model=create_model(k=1.0), y0={\"S\": 60})\n",
    "ret2 = run_simulation(2, model=create_model(k=2.0), y0={\"S\": 60})\n",
    "plotting.plot_number_observer(ret1, '-', ret2, '--')"
   ]
  },
  {
   "cell_type": "markdown",
   "metadata": {},
   "source": [
    "## 6.5. More about ODEs\n",
    "\n",
    "In `ode.World`, a value for each `Species` is a floating number. However, for the compatibility, the common member `num_molecules` and `add_molecules` regard the value as an integer."
   ]
  },
  {
   "cell_type": "code",
   "execution_count": 27,
   "metadata": {},
   "outputs": [
    {
     "name": "stdout",
     "output_type": "stream",
     "text": [
      "2\n"
     ]
    }
   ],
   "source": [
    "w = ode.World()\n",
    "w.add_molecules(Species(\"A\"), 2.5)\n",
    "print(w.num_molecules(Species(\"A\")))"
   ]
  },
  {
   "cell_type": "markdown",
   "metadata": {},
   "source": [
    "To set/get a real number, use `set_value` and `get_value`:"
   ]
  },
  {
   "cell_type": "code",
   "execution_count": 28,
   "metadata": {},
   "outputs": [
    {
     "name": "stdout",
     "output_type": "stream",
     "text": [
      "2.5\n",
      "2.5\n"
     ]
    }
   ],
   "source": [
    "w.set_value(Species(\"B\"), 2.5)\n",
    "print(w.get_value(Species(\"A\")))\n",
    "print(w.get_value(Species(\"B\")))"
   ]
  },
  {
   "cell_type": "markdown",
   "metadata": {},
   "source": [
    "As a default, `ode.Simulator` employs the Rosenblock method, called `ROSENBROCK4_CONTROLLER`, to solve ODEs. In addition to that, two solvers, `EULER` and `RUNGE_KUTTA_CASH_KARP54`, are available. `ROSENBROCK4_CONTROLLER` and `RUNGE_KUTTA_CASH_KARP54` adaptively change the step size during time evolution due to error controll, but `EULER` does not."
   ]
  },
  {
   "cell_type": "code",
   "execution_count": 29,
   "metadata": {},
   "outputs": [],
   "source": [
    "with reaction_rules():\n",
    "    A > ~A | 1.0\n",
    "\n",
    "m1 = get_model()\n",
    "\n",
    "w1 = ode.World()\n",
    "w1.set_value(Species(\"A\"), 1.0)\n",
    "sim1 = ode.Simulator(w1, m1, ode.EULER)\n",
    "sim1.set_dt(0.01) # This is only effective for EULER\n",
    "obs1 = FixedIntervalNumberObserver(0.1)\n",
    "sim1.run(3.0, obs1)"
   ]
  },
  {
   "cell_type": "markdown",
   "metadata": {},
   "source": [
    "`ode.Factory` also accepts a solver type and a default step interval."
   ]
  },
  {
   "cell_type": "code",
   "execution_count": 30,
   "metadata": {},
   "outputs": [
    {
     "data": {
      "image/png": "[encoded data removed]",
      "text/plain": [
       "<Figure size 432x288 with 1 Axes>"
      ]
     },
     "metadata": {
      "needs_background": "light"
     },
     "output_type": "display_data"
    }
   ],
   "source": [
    "run_simulation(3.0, model=m1, y0={\"A\": 1.0}, solver=('ode', ode.EULER, 0.01))"
   ]
  },
  {
   "cell_type": "markdown",
   "metadata": {},
   "source": [
    "See also the examples listed below:\n",
    "\n",
    "* [Glycolysis of Human Erythrocytes](../examples/example5.html)\n",
    "* [Drosophila Circadian Clock](../examples/example2.html)\n",
    "* [Attractors](../examples/example1.html)"
   ]
  }
 ],
 "metadata": {
  "anaconda-cloud": {},
  "kernelspec": {
   "display_name": "Python 3",
   "language": "python",
   "name": "python3"
  },
  "language_info": {
   "codemirror_mode": {
    "name": "ipython",
    "version": 3
   },
   "file_extension": ".py",
   "mimetype": "text/x-python",
   "name": "python",
   "nbconvert_exporter": "python",
   "pygments_lexer": "ipython3",
   "version": "3.7.1"
  }
 },
 "nbformat": 4,
 "nbformat_minor": 1
}
