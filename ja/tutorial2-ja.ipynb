{
 "cells": [
  {
   "cell_type": "markdown",
   "metadata": {},
   "source": [
    "# 2. モデルを構築する方法\n",
    "\n",
    "`Model`は` Species` と `ReactionRule` のセットで構成されます。\n",
    "\n",
    "- `Species` はモデル中の分子エンティティ（例えば、タンパク質のタイプまたは状態）を表します。また `Species` にはサイズなどの属性もあります。\n",
    "- `ReactionRule` は `Species` 間のインタラクションを表します。(例えば結合や乖離など。)\n"
   ]
  },
  {
   "cell_type": "code",
   "execution_count": 1,
   "metadata": {},
   "outputs": [],
   "source": [
    "%matplotlib inline\n",
    "from ecell4 import *\n",
    "from ecell4_base.core import *"
   ]
  },
  {
   "cell_type": "markdown",
   "metadata": {},
   "source": [
    "## 2.1. Species\n",
    "\n",
    "`Species`はその名前を与えることで生成することができます"
   ]
  },
  {
   "cell_type": "code",
   "execution_count": 2,
   "metadata": {},
   "outputs": [
    {
     "name": "stdout",
     "output_type": "stream",
     "text": [
      "A\n"
     ]
    }
   ],
   "source": [
    "sp1 = Species(\"A\")\n",
    "print(sp1.serial())"
   ]
  },
  {
   "cell_type": "markdown",
   "metadata": {},
   "source": [
    "`Species`の名前にはいくつかの命名規則があります。\n",
    "この命名規約では特殊記号（例：括弧 `（）`、ドット `.`、アンダーバー` _`）、数字と空白の使用に注意する必要があります。\n",
    "`Species`には、その属性を扱うための一連のAPIがあります。\n"
   ]
  },
  {
   "cell_type": "code",
   "execution_count": 3,
   "metadata": {},
   "outputs": [
    {
     "name": "stdout",
     "output_type": "stream",
     "text": [
      "True\n",
      "0.005\n",
      "\n",
      "True\n",
      "cytoplasm\n",
      "False\n"
     ]
    }
   ],
   "source": [
    "sp1.set_attribute(\"radius\", 0.005)\n",
    "sp1.set_attribute(\"D\", 1)\n",
    "sp1.set_attribute(\"location\", \"cytoplasm\")\n",
    "print(sp1.has_attribute(\"radius\"))\n",
    "print(sp1.get_attribute(\"radius\").magnitude)\n",
    "print(sp1.get_attribute(\"radius\").units)\n",
    "print(sp1.has_attribute(\"location\"))\n",
    "print(sp1.get_attribute(\"location\"))\n",
    "sp1.remove_attribute(\"radius\")\n",
    "print(sp1.has_attribute(\"radius\"))"
   ]
  },
  {
   "cell_type": "markdown",
   "metadata": {},
   "source": [
    "`set_attribute`の引数は、属性の名前とその値です。 属性の名前は文字列でなければなりません。属性値は、文字列、数値、真偽値のいずれかです。`get_attribute`は属性値を返します。ただし、数値の属性値は常に`Quantity`で戻ります。`Quantity`は値(`magnitude`)と単位(`units`)の組です。\n",
    "`radius`、`D`（拡散係数）、`location`は頻繁に使われるので、一度に設定するためのショートカットがあります。"
   ]
  },
  {
   "cell_type": "code",
   "execution_count": 4,
   "metadata": {},
   "outputs": [],
   "source": [
    "sp1 = Species(\"A\", 0.005, 1, \"cytoplasm\")  # serial, radius, D, location"
   ]
  },
  {
   "cell_type": "markdown",
   "metadata": {},
   "source": [
    "`Species` が同じものかどうかはそれらの `serial` に基づいて評価されます。"
   ]
  },
  {
   "cell_type": "code",
   "execution_count": 5,
   "metadata": {},
   "outputs": [
    {
     "name": "stdout",
     "output_type": "stream",
     "text": [
      "False True\n"
     ]
    }
   ],
   "source": [
    "print(Species(\"A\") == Species(\"B\"), Species(\"A\") == Species(\"A\"))"
   ]
  },
  {
   "cell_type": "markdown",
   "metadata": {},
   "source": [
    "`Species`は、1つ以上の `UnitSpecies`から成ります。"
   ]
  },
  {
   "cell_type": "code",
   "execution_count": 6,
   "metadata": {},
   "outputs": [
    {
     "name": "stdout",
     "output_type": "stream",
     "text": [
      "C\n",
      "C.A.B 3\n"
     ]
    }
   ],
   "source": [
    "sp1 = Species()\n",
    "usp1 = UnitSpecies(\"C\")\n",
    "print(usp1.serial())\n",
    "sp1.add_unit(usp1)\n",
    "sp1.add_unit(UnitSpecies(\"A\"))\n",
    "sp1.add_unit(UnitSpecies(\"B\"))\n",
    "print(sp1.serial(), len(sp1.units()))"
   ]
  },
  {
   "cell_type": "markdown",
   "metadata": {},
   "source": [
    "`Species`は、`serial`から複製することができます。\n",
    "`serial`では、`UnitSpecies`のすべての連番が区切り文字「。」で結合されます。\n",
    "`UnitSpecies`の順序は`Species`の比較時に影響してきます。\n"
   ]
  },
  {
   "cell_type": "code",
   "execution_count": 7,
   "metadata": {
    "scrolled": true
   },
   "outputs": [
    {
     "name": "stdout",
     "output_type": "stream",
     "text": [
      "C.A.B\n",
      "False\n",
      "True\n"
     ]
    }
   ],
   "source": [
    "sp1 = Species(\"C.A.B\")\n",
    "print(sp1.serial())\n",
    "print(Species(\"A.B.C\") == Species(\"C.A.B\"))\n",
    "print(Species(\"A.B.C\") == Species(\"A.B.C\"))"
   ]
  },
  {
   "cell_type": "markdown",
   "metadata": {},
   "source": [
    "`UnitSpecies`はサイトを持つことができます。\n",
    "サイトは `name`、`state`、 `bond`からなり、` UnitSpecies`で自動的にソートされます。\n",
    "`name`は` UnitSpecies`で一意でなければなりません。\n",
    "すべての値は文字列でなければなりません。\n",
    "括弧、ドット、空白は含めず、 `bond`以外の数字から始めることはできません。\n"
   ]
  },
  {
   "cell_type": "code",
   "execution_count": 8,
   "metadata": {},
   "outputs": [
    {
     "name": "stdout",
     "output_type": "stream",
     "text": [
      "A(bs^_,ps=p^_,us=u)\n"
     ]
    }
   ],
   "source": [
    "usp1 = UnitSpecies(\"A\")\n",
    "usp1.add_site(\"us\", \"u\", \"\")\n",
    "usp1.add_site(\"ps\", \"p\", \"_\")\n",
    "usp1.add_site(\"bs\", \"\", \"_\")\n",
    "print(usp1.serial())"
   ]
  },
  {
   "cell_type": "markdown",
   "metadata": {},
   "source": [
    "`UnitSpecies` can be also reproduced from its serial. Please be careful with the order of sites where a site with a state must be placed after sites with no state specification:"
   ]
  },
  {
   "cell_type": "code",
   "execution_count": 9,
   "metadata": {},
   "outputs": [
    {
     "name": "stdout",
     "output_type": "stream",
     "text": [
      "A(bs^_,ps=p^_,us=u)\n"
     ]
    }
   ],
   "source": [
    "usp1 = UnitSpecies()\n",
    "usp1.deserialize(\"A(bs^_, us=u, ps=p^_)\")\n",
    "print(usp1.serial())"
   ]
  },
  {
   "cell_type": "markdown",
   "metadata": {},
   "source": [
    "Of course, a site of `UnitSpecies` is available even in `Species`' serial."
   ]
  },
  {
   "cell_type": "code",
   "execution_count": 10,
   "metadata": {},
   "outputs": [
    {
     "name": "stdout",
     "output_type": "stream",
     "text": [
      "A(bs^1, ps=u).A(bs, ps=p^1)\n",
      "2\n"
     ]
    }
   ],
   "source": [
    "sp1 = Species(\"A(bs^1, ps=u).A(bs, ps=p^1)\")\n",
    "print(sp1.serial())\n",
    "print(len(sp1.units()))"
   ]
  },
  {
   "cell_type": "markdown",
   "metadata": {},
   "source": [
    "The information (`UnitSpecies` and its `site`) is used for rule-based modeling. The way of rule-based modeling in E-Cell4 will be explained in **7. Introduction of Rule-based Modeling** [local ipynb](tutorial7.ipynb) [readthedocs](http://ecell4.readthedocs.io/en/latest/tutorials/tutorial7.html)."
   ]
  },
  {
   "cell_type": "markdown",
   "metadata": {},
   "source": [
    "## 2.2. ReactionRule\n",
    "\n",
    "`ReactionRule` は `reactants`、 `products`と` k`で構成されます。\n",
    "`reactants`と` products`は `Species`のリストで、` k`は浮動小数点として与えられた反応速度です。\n"
   ]
  },
  {
   "cell_type": "code",
   "execution_count": 11,
   "metadata": {},
   "outputs": [],
   "source": [
    "rr1 = ReactionRule()\n",
    "rr1.add_reactant(Species(\"A\"))\n",
    "rr1.add_reactant(Species(\"B\"))\n",
    "rr1.add_product(Species(\"C\"))\n",
    "rr1.set_k(1.0)"
   ]
  },
  {
   "cell_type": "markdown",
   "metadata": {},
   "source": [
    "これは、AとBからCへの結合反応になります。\n",
    "この反応定義では、`Species`に属性を設定する必要はありません。\n",
    "上記の一連の操作はユーティリティ関数を使うと一行で記述できます。\n",
    "`ReactionRule`を検査するためには` as_string`関数が利用できます：\n"
   ]
  },
  {
   "cell_type": "code",
   "execution_count": 12,
   "metadata": {},
   "outputs": [
    {
     "name": "stdout",
     "output_type": "stream",
     "text": [
      "A+B>C|1\n"
     ]
    }
   ],
   "source": [
    "rr1 = create_binding_reaction_rule(Species(\"A\"), Species(\"B\"), Species(\"C\"), 1.0)\n",
    "print(rr1.as_string())"
   ]
  },
  {
   "cell_type": "markdown",
   "metadata": {},
   "source": [
    "You can also provide components to the constructor:"
   ]
  },
  {
   "cell_type": "code",
   "execution_count": 13,
   "metadata": {},
   "outputs": [
    {
     "name": "stdout",
     "output_type": "stream",
     "text": [
      "A+B>C|1\n"
     ]
    }
   ],
   "source": [
    "rr1 = ReactionRule([Species(\"A\"), Species(\"B\")], [Species(\"C\")], 1.0)\n",
    "print(rr1.as_string())"
   ]
  },
  {
   "cell_type": "markdown",
   "metadata": {},
   "source": [
    "基本的に`ReactionRule`はレート`k`を用いた質量作用反応を表します。\n",
    "\n",
    "`ode` solver also supports rate laws thought it's under development yet.\n",
    "\n",
    "`ode.ODERatelaw` is explained in **6. How to Solve ODEs with Rate Law Functions** [local ipynb](tutorial6.ipynb) [readthedocs](http://ecell4.readthedocs.io/en/latest/tutorials/tutorial6.html)."
   ]
  },
  {
   "cell_type": "markdown",
   "metadata": {},
   "source": [
    "## 2.3. NetworkModel\n",
    "\n",
    "いくつかの`Model`コンポーネントを作成する方法を学びました。 次に、これらのコンポーネントを`Model`に登録してみましょう。"
   ]
  },
  {
   "cell_type": "code",
   "execution_count": 14,
   "metadata": {},
   "outputs": [],
   "source": [
    "sp1 = Species(\"A\", 0.005, 1)\n",
    "sp2 = Species(\"B\", 0.005, 1)\n",
    "sp3 = Species(\"C\", 0.01, 0.5)"
   ]
  },
  {
   "cell_type": "code",
   "execution_count": 15,
   "metadata": {},
   "outputs": [],
   "source": [
    "rr1 = create_binding_reaction_rule(Species(\"A\"), Species(\"B\"), Species(\"C\"), 0.01)\n",
    "rr2 = create_unbinding_reaction_rule(Species(\"C\"), Species(\"A\"), Species(\"B\"), 0.3)"
   ]
  },
  {
   "cell_type": "markdown",
   "metadata": {},
   "source": [
    "`Species`と`ReactionRule`は`add_species_attribute`と`add_reaction_rule`で登録できます。\n"
   ]
  },
  {
   "cell_type": "code",
   "execution_count": 16,
   "metadata": {},
   "outputs": [],
   "source": [
    "m1 = NetworkModel()\n",
    "m1.add_species_attribute(sp1)\n",
    "m1.add_species_attribute(sp2)\n",
    "m1.add_species_attribute(sp3)\n",
    "m1.add_reaction_rule(rr1)\n",
    "m1.add_reaction_rule(rr2)"
   ]
  },
  {
   "cell_type": "markdown",
   "metadata": {},
   "source": [
    "これで結合と乖離の反応を持つ単純なモデルができました。\n",
    "`Model`の内容を確認するには `species_attributes`と`reaction_rules`が利用できます。\n"
   ]
  },
  {
   "cell_type": "code",
   "execution_count": 17,
   "metadata": {},
   "outputs": [
    {
     "name": "stdout",
     "output_type": "stream",
     "text": [
      "['A', 'B', 'C']\n",
      "['A+B>C|0.01', 'C>A+B|0.3']\n"
     ]
    }
   ],
   "source": [
    "print([sp.serial() for sp in m1.species_attributes()])\n",
    "print([rr.as_string() for rr in m1.reaction_rules()])"
   ]
  },
  {
   "cell_type": "markdown",
   "metadata": {},
   "source": [
    "モデルの種の属性は、空間シミュレーションには不可欠ですが、非空間アルゴリズム（gillespieとode）では必ずしも必要ではありません。 最初にプッシュされた属性は、後でプッシュされる属性よりも優先度が高くなります。 また、モデルの属性に基づいて種を属性付けすることもできます。\n",
    "\n",
    "\n",
    "`Species`' attributes in `Model` are indispensable for spatial simulations, but not necessarily needed for non-spatial algorithms, i.e. `gillespie` and `ode`. The attribute pushed first has higher priority than one pushed later. You can also attribute a `Species` based on the attributes in a `Model`."
   ]
  },
  {
   "cell_type": "code",
   "execution_count": 18,
   "metadata": {},
   "outputs": [
    {
     "name": "stdout",
     "output_type": "stream",
     "text": [
      "False\n",
      "True\n",
      "0.005\n"
     ]
    }
   ],
   "source": [
    "sp1 = Species(\"A\")\n",
    "print(sp1.has_attribute(\"radius\"))\n",
    "sp2 = m1.apply_species_attributes(sp1)\n",
    "print(sp2.has_attribute(\"radius\"))\n",
    "print(sp2.get_attribute(\"radius\").magnitude)"
   ]
  },
  {
   "cell_type": "markdown",
   "metadata": {},
   "source": [
    "`Species`, ` ReactionRule`, `NetworkModel` に関連するすべての関数は、C++でも同じように利用できます。\n",
    "\n",
    "run_simulationでこのモデルを解くことができます。1.「E-Cell4シミュレーションの概要」\n",
    "You can solve this model with `run_simulation` as explained in **1. Brief Tour of E-Cell4 Simulations** [local ipynb](tutorial1.ipynb) [readthedocs](http://ecell4.readthedocs.io/en/latest/tutorials/tutorial1.html) :"
   ]
  },
  {
   "cell_type": "code",
   "execution_count": 19,
   "metadata": {},
   "outputs": [
    {
     "data": {
      "image/png": "[encoded data removed]",
      "text/plain": [
       "<Figure size 432x288 with 1 Axes>"
      ]
     },
     "metadata": {
      "needs_background": "light"
     },
     "output_type": "display_data"
    }
   ],
   "source": [
    "run_simulation(10.0, model=m1, y0={'C': 60})"
   ]
  },
  {
   "cell_type": "markdown",
   "metadata": {},
   "source": [
    "## 2.4. モデル構築のためのPythonユーティリティ\n",
    "\n",
    "**1. E-Cell4を用いたシミュレーションの概要** [local ipynb](tutorial1.ipynb) [readthedocs](http://ecell4.readthedocs.io/en/latest/tutorials/tutorial1.html) で示したように, E-Cell4 は `with` ステートメントを用いた簡単なモデルの構築方法を提供しています。"
   ]
  },
  {
   "cell_type": "code",
   "execution_count": 20,
   "metadata": {},
   "outputs": [],
   "source": [
    "with species_attributes():\n",
    "    A | B | {'radius': 0.005, 'D': 1}\n",
    "    C | {'radius': 0.01, 'D': 0.5}\n",
    "\n",
    "with reaction_rules():\n",
    "    A + B == C | (0.01, 0.3)\n",
    "\n",
    "m1 = get_model()"
   ]
  },
  {
   "cell_type": "markdown",
   "metadata": {},
   "source": [
    "可逆反応の場合、 `<>`はPython 2では `==`の代わりに利用できますが、Python3では非推奨です。\n",
    "`with`ステートメントでは、宣言されていない変数は自動的に `Species`とみなされます。\n",
    "Pythonの変数、関数、および文は、 `with`ブロックでも使用できます。"
   ]
  },
  {
   "cell_type": "code",
   "execution_count": 21,
   "metadata": {},
   "outputs": [],
   "source": [
    "from math import log\n",
    "\n",
    "ka, kd, kf = 0.01, 0.3, 0.1\n",
    "tau = 10.0\n",
    "\n",
    "with reaction_rules():\n",
    "    E0 + S == ES | (ka, kd)\n",
    "\n",
    "    if tau > 0:\n",
    "        ES > E1 + P | kf\n",
    "        E1 > E0 | log(2) / tau\n",
    "    else:\n",
    "        ES > E0 + P | kf\n",
    "\n",
    "m1 = get_model()\n",
    "del ka, kd, kf, tau"
   ]
  },
  {
   "cell_type": "markdown",
   "metadata": {},
   "source": [
    "一方、ブロックの外側でも変数が宣言されると、以下のようにその変数を `Species`として使用することはできません：\n"
   ]
  },
  {
   "cell_type": "code",
   "execution_count": 22,
   "metadata": {},
   "outputs": [
    {
     "name": "stdout",
     "output_type": "stream",
     "text": [
      "TypeError(\"Argument 1 must be AnyCallable, ParseObj, InvExp or MulExp. 'int' was given [10].\",)\n"
     ]
    }
   ],
   "source": [
    "A = 10\n",
    "\n",
    "try:\n",
    "    with reaction_rules():\n",
    "        A + B == C | (0.01, 0.3)\n",
    "except Exception as e:\n",
    "    print(repr(e))\n",
    "\n",
    "del A"
   ]
  },
  {
   "cell_type": "markdown",
   "metadata": {},
   "source": [
    "where `A + B == C` exactly means `10 + B == C`.\n",
    "\n",
    "合成や分解のような `ReactionRule`の左辺や右辺がない場合は、次のように記述したいかもしれません。\n",
    "\n",
    "```python\n",
    "with reaction_rules():\n",
    "    A > | 1.0  # XXX: will raise SyntaxError\n",
    "    > A | 1.0  # XXX: will raise SyntaxError\n",
    "```\n",
    "\n",
    "しかし、これはPythonの `SyntaxError`のために受け入れられません。\n",
    "\n",
    "このケースを記述するために、特別な演算子、チルダ `〜`が利用可能です。\n",
    "`〜`は、以下の `Species`の化学量論係数をゼロに設定します。\n",
    "つまり、` Species`は `ReactionRule`で無視されます。"
   ]
  },
  {
   "cell_type": "code",
   "execution_count": 23,
   "metadata": {},
   "outputs": [
    {
     "name": "stdout",
     "output_type": "stream",
     "text": [
      "['>A|2', 'A>|1']\n"
     ]
    }
   ],
   "source": [
    "with reaction_rules():\n",
    "    ~A > A | 2.0  # equivalent to `create_synthesis_reaction_rule`\n",
    "    A > ~A | 1.0  # equivalent to `create_degradation_reaction_rule`\n",
    "\n",
    "m1 = get_model()\n",
    "print([rr.as_string() for rr in m1.reaction_rules()])"
   ]
  },
  {
   "cell_type": "markdown",
   "metadata": {},
   "source": [
    "The following `Species`' name is not necessarily needed to be the same as others. The model above describes $[A]'=2-[A]$:"
   ]
  },
  {
   "cell_type": "code",
   "execution_count": 24,
   "metadata": {},
   "outputs": [
    {
     "data": {
      "image/png": "[encoded data removed]",
      "text/plain": [
       "<Figure size 432x288 with 1 Axes>"
      ]
     },
     "metadata": {
      "needs_background": "light"
     },
     "output_type": "display_data"
    }
   ],
   "source": [
    "from math import exp\n",
    "run_simulation(10.0, model=m1, opt_args=['-', lambda t: 2.0 * (1 - exp(-t)), '--'])"
   ]
  },
  {
   "cell_type": "markdown",
   "metadata": {},
   "source": [
    "一連の反応は1行で記述することができます。\n",
    "行を2つ以上の物理行に分割するには、括弧で囲みます。"
   ]
  },
  {
   "cell_type": "code",
   "execution_count": 25,
   "metadata": {},
   "outputs": [
    {
     "name": "stdout",
     "output_type": "stream",
     "text": [
      "['E+S>ES|0.5', 'ES>E+S|1', 'ES>E+P|1.5']\n"
     ]
    }
   ],
   "source": [
    "with reaction_rules():\n",
    "    (E + S == ES | (0.5, 1.0)\n",
    "         > E + P | 1.5)\n",
    "\n",
    "m1 = get_model()\n",
    "print([rr.as_string() for rr in m1.reaction_rules()])"
   ]
  },
  {
   "cell_type": "markdown",
   "metadata": {},
   "source": [
    "The method uses global variables in `ecell4.util.decorator` (e.g. `REACTION_RULES`) to cache objects created in the `with` statement:"
   ]
  },
  {
   "cell_type": "code",
   "execution_count": 26,
   "metadata": {},
   "outputs": [
    {
     "name": "stdout",
     "output_type": "stream",
     "text": [
      "[<ecell4_base.core.ReactionRule object at 0x1497803eaaf8>, <ecell4_base.core.ReactionRule object at 0x1497803eaa98>]\n",
      "[]\n"
     ]
    }
   ],
   "source": [
    "import ecell4.util.decorator\n",
    "\n",
    "with reaction_rules():\n",
    "    A + B == C | (0.01, 0.3)\n",
    "\n",
    "print(ecell4.util.decorator.REACTION_RULES)  #XXX: Only for debugging\n",
    "get_model()\n",
    "print(ecell4.util.decorator.REACTION_RULES)  #XXX: Only for debugging"
   ]
  },
  {
   "cell_type": "markdown",
   "metadata": {},
   "source": [
    "Modelを構築する際のモジュール性のために、デコレータ関数も便利です。\n",
    "Pythonのデコレータ関数も利用できます。 デコレータ関数は、モデルのモジュール性を高めます。"
   ]
  },
  {
   "cell_type": "code",
   "execution_count": 27,
   "metadata": {},
   "outputs": [
    {
     "name": "stdout",
     "output_type": "stream",
     "text": [
      "[<ecell4_base.core.Species object at 0x1497803eaaf8>, <ecell4_base.core.Species object at 0x1497803eab28>, <ecell4_base.core.Species object at 0x1497803eaa98>]\n",
      "[<ecell4_base.core.ReactionRule object at 0x1497803eab40>, <ecell4_base.core.ReactionRule object at 0x1497803eab58>]\n"
     ]
    }
   ],
   "source": [
    "@species_attributes\n",
    "def attrgen1(radius, D):\n",
    "    A | B | {'radius': radius, 'D': D}\n",
    "    C | {'radius': radius * 2, 'D': D * 0.5}\n",
    "\n",
    "@reaction_rules\n",
    "def rrgen1(kon, koff):\n",
    "    A + B == C | (kon, koff)\n",
    "\n",
    "attrs1 = attrgen1(0.005, 1)\n",
    "rrs1 = rrgen1(0.01, 0.3)\n",
    "print(attrs1)\n",
    "print(rrs1)"
   ]
  },
  {
   "cell_type": "markdown",
   "metadata": {},
   "source": [
    "`with`ステートメントの場合とは対照的で、ここではデコレータの後に括弧を追加**しないで**ください。\n",
    "`reaction_rules`と`species_attributes`でデコレートされた関数はそれぞれ`ReactionRules`と`Species`のリストを返します。\n",
    "`add_reaction_rules`と`add_species_attributes`を使用して、リストを`Model`に一度に登録できます。\n"
   ]
  },
  {
   "cell_type": "code",
   "execution_count": 28,
   "metadata": {},
   "outputs": [
    {
     "name": "stdout",
     "output_type": "stream",
     "text": [
      "2\n"
     ]
    }
   ],
   "source": [
    "m1 = NetworkModel()\n",
    "m1.add_species_attributes(attrs1)\n",
    "m1.add_reaction_rules(rrs1)\n",
    "print(m1.num_reaction_rules())"
   ]
  },
  {
   "cell_type": "markdown",
   "metadata": {},
   "source": [
    "This method is modular and reusable relative to the way using `with` statement."
   ]
  }
 ],
 "metadata": {
  "kernelspec": {
   "display_name": "Python 3",
   "language": "python",
   "name": "python3"
  },
  "language_info": {
   "codemirror_mode": {
    "name": "ipython",
    "version": 3
   },
   "file_extension": ".py",
   "mimetype": "text/x-python",
   "name": "python",
   "nbconvert_exporter": "python",
   "pygments_lexer": "ipython3",
   "version": "3.6.7"
  }
 },
 "nbformat": 4,
 "nbformat_minor": 1
}
