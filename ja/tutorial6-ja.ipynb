{
 "cells": [
  {
   "cell_type": "markdown",
   "metadata": {},
   "source": [
    "# 6. 反応速度式の関数でODEを解く方法\n",
    "\n",
    "通常、`ReactionRule`は高々二つの分子が反応する質量作用式（Mass Action Kinetics）を表現するために使われます。より複雑な化学反応式を扱う場合には、`ReactionRule`を`ReactionRuleDescriptor`によって拡張することができます。ここでは、`ReactionRuleDescriptor`を利用した`ode`特有の計算について説明します。"
   ]
  },
  {
   "cell_type": "code",
   "execution_count": 1,
   "metadata": {},
   "outputs": [],
   "source": [
    "%matplotlib inline\n",
    "from ecell4 import *\n",
    "from ecell4_base import *\n",
    "from ecell4_base.core import *"
   ]
  },
  {
   "cell_type": "markdown",
   "metadata": {},
   "source": [
    "## 6.1. ReactionRuleDescriptor\n",
    "\n",
    "`ReactionRule`は基質、生成物、そして反応速度定数から構成されます。"
   ]
  },
  {
   "cell_type": "code",
   "execution_count": 2,
   "metadata": {},
   "outputs": [
    {
     "name": "stdout",
     "output_type": "stream",
     "text": [
      "2\n",
      "1\n",
      "1.0\n",
      "A+B>C|1\n",
      "False\n"
     ]
    }
   ],
   "source": [
    "rr1 = ReactionRule()\n",
    "rr1.add_reactant(Species(\"A\"))\n",
    "rr1.add_reactant(Species(\"B\"))\n",
    "rr1.add_product(Species(\"C\"))\n",
    "rr1.set_k(1.0)\n",
    "print(len(rr1.reactants()))  # => 2\n",
    "print(len(rr1.products()))  # => 1\n",
    "print(rr1.k())  # => 1.0\n",
    "print(rr1.as_string())  # => A+B>C|1\n",
    "print(rr1.has_descriptor())  # => False"
   ]
  },
  {
   "cell_type": "markdown",
   "metadata": {},
   "source": [
    "これに加えて、`ReactionRule`は`ReactionRuleDescriptor`によって拡張することができます。"
   ]
  },
  {
   "cell_type": "code",
   "execution_count": 3,
   "metadata": {},
   "outputs": [
    {
     "name": "stdout",
     "output_type": "stream",
     "text": [
      "1.0\n"
     ]
    }
   ],
   "source": [
    "desc1 = ReactionRuleDescriptorMassAction(1.0)\n",
    "print(desc1.k())\n",
    "rr1.set_descriptor(desc1)"
   ]
  },
  {
   "cell_type": "markdown",
   "metadata": {},
   "source": [
    "関連付けた`ReactionRuleDescriptor`は`ReactionRule`から取得することができます。"
   ]
  },
  {
   "cell_type": "code",
   "execution_count": 4,
   "metadata": {},
   "outputs": [
    {
     "name": "stdout",
     "output_type": "stream",
     "text": [
      "True\n",
      "<ecell4_base.core.ReactionRuleDescriptorMassAction object at 0x14b1df080a50>\n",
      "1.0\n"
     ]
    }
   ],
   "source": [
    "print(rr1.has_descriptor())\n",
    "print(rr1.get_descriptor())\n",
    "print(rr1.get_descriptor().k())"
   ]
  },
  {
   "cell_type": "markdown",
   "metadata": {},
   "source": [
    "`ReactionRuleDescriptor`は基質、生成物の量論係数を保有します。"
   ]
  },
  {
   "cell_type": "code",
   "execution_count": 5,
   "metadata": {},
   "outputs": [
    {
     "name": "stdout",
     "output_type": "stream",
     "text": [
      "2*A+3*B>4*C|1\n"
     ]
    }
   ],
   "source": [
    "desc1.set_reactant_coefficient(0, 2)  # Set a coefficient of the first reactant\n",
    "desc1.set_reactant_coefficient(1, 3)  # Set a coefficient of the second reactant\n",
    "desc1.set_product_coefficient(0, 4)  # Set a coefficient of the first product\n",
    "print(rr1.as_string())"
   ]
  },
  {
   "cell_type": "markdown",
   "metadata": {},
   "source": [
    "設定された量論係数のリストは以下の方法で取得できます："
   ]
  },
  {
   "cell_type": "code",
   "execution_count": 6,
   "metadata": {},
   "outputs": [
    {
     "name": "stdout",
     "output_type": "stream",
     "text": [
      "[2.0, 3.0]\n",
      "[4.0]\n"
     ]
    }
   ],
   "source": [
    "print(desc1.reactant_coefficients())  # => [2.0, 3.0]\n",
    "print(desc1.product_coefficients())  # => [4.0]"
   ]
  },
  {
   "cell_type": "markdown",
   "metadata": {},
   "source": [
    "現在、`ReactionRuleDescriptor`は`ode`でしか正しく動くことが保証されていないことに注意してください。"
   ]
  },
  {
   "cell_type": "markdown",
   "metadata": {},
   "source": [
    "## 6.2. ReactionRuleDescriptorPyFunc\n",
    "\n",
    "`ReactionRuleDescriptor`は、各`Species`の量から反応速度を計算するための関数も提供します。この章では、ユーザー独自の化学反応速度式を記述する方法について説明します。"
   ]
  },
  {
   "cell_type": "code",
   "execution_count": 7,
   "metadata": {},
   "outputs": [
    {
     "name": "stdout",
     "output_type": "stream",
     "text": [
      "A+B>C|0\n"
     ]
    }
   ],
   "source": [
    "rr1 = ReactionRule()\n",
    "rr1.add_reactant(Species(\"A\"))\n",
    "rr1.add_reactant(Species(\"B\"))\n",
    "rr1.add_product(Species(\"C\"))\n",
    "print(rr1.as_string())"
   ]
  },
  {
   "cell_type": "markdown",
   "metadata": {},
   "source": [
    "まず、化学反応速度式を表すPython関数を定義します。この関数は6つの引数を受け取り、1つの実数値を返さなくてはいけません。最初と二番目の引数は、それぞれ基質と生成物の値のリストになります。三番目と四番目の引数には、容積と時刻が与えられます。また、基質と生成物の化学量論係数のリストが最後の二つの引数として与えられます。"
   ]
  },
  {
   "cell_type": "code",
   "execution_count": 8,
   "metadata": {},
   "outputs": [],
   "source": [
    "def ratelaw(r, p, v, t, rc, pc):\n",
    "    return 1.0 * r[0] * r[1] - 2.0 * p[0]"
   ]
  },
  {
   "cell_type": "markdown",
   "metadata": {},
   "source": [
    "`ReactionRuleDescriptorPyFunc`はこうして定義されたPython関数を受け取ります。"
   ]
  },
  {
   "cell_type": "code",
   "execution_count": 9,
   "metadata": {},
   "outputs": [
    {
     "name": "stdout",
     "output_type": "stream",
     "text": [
      "test\n",
      "1*A+1*B>1*C|0\n"
     ]
    }
   ],
   "source": [
    "desc1 = ReactionRuleDescriptorPyfunc(ratelaw, 'test')\n",
    "desc1.set_reactant_coefficients([1, 1])\n",
    "desc1.set_product_coefficients([1])\n",
    "rr1.set_descriptor(desc1)\n",
    "print(desc1.as_string())\n",
    "print(rr1.as_string())"
   ]
  },
  {
   "cell_type": "markdown",
   "metadata": {},
   "source": [
    "`lambda`式で定義された関数でも構いません。"
   ]
  },
  {
   "cell_type": "code",
   "execution_count": 10,
   "metadata": {},
   "outputs": [
    {
     "name": "stdout",
     "output_type": "stream",
     "text": [
      "test\n",
      "1*A+1*B>1*C|0\n"
     ]
    }
   ],
   "source": [
    "desc2 = ReactionRuleDescriptorPyfunc(lambda r, p, v, t, rc, pc:  1.0 * r[0] * r[1] - 2.0 * p[0], 'test')\n",
    "desc2.set_reactant_coefficients([1, 1])\n",
    "desc2.set_product_coefficients([1])\n",
    "rr1.set_descriptor(desc2)\n",
    "print(desc1.as_string())\n",
    "print(rr1.as_string())"
   ]
  },
  {
   "cell_type": "markdown",
   "metadata": {},
   "source": [
    "では、この関数が正しく動くかテストするために`ode.World`を使って式を評価してみます。"
   ]
  },
  {
   "cell_type": "code",
   "execution_count": 11,
   "metadata": {},
   "outputs": [
    {
     "name": "stdout",
     "output_type": "stream",
     "text": [
      "140.0\n"
     ]
    }
   ],
   "source": [
    "w = ode.World()\n",
    "w.set_value(Species(\"A\"), 10)\n",
    "w.set_value(Species(\"B\"), 20)\n",
    "w.set_value(Species(\"C\"), 30)\n",
    "\n",
    "print(w.evaluate(rr1))  # => 140 = 1 * 10 * 20 - 2 * 30"
   ]
  },
  {
   "cell_type": "markdown",
   "metadata": {},
   "source": [
    "## 6.3. NetworkModel\n",
    "\n",
    "`NetworkModel`は`ReactionRuleDescriptor`に関連付けられた`ReactionRule`も登録することができます。"
   ]
  },
  {
   "cell_type": "code",
   "execution_count": 12,
   "metadata": {},
   "outputs": [],
   "source": [
    "m1 = NetworkModel()\n",
    "rr1 = create_unbinding_reaction_rule(Species(\"C\"), Species(\"A\"), Species(\"B\"), 3.0)\n",
    "m1.add_reaction_rule(rr1)\n",
    "rr2 = create_binding_reaction_rule(Species(\"A\"), Species(\"B\"), Species(\"C\"), 0.0)\n",
    "desc1 = ReactionRuleDescriptorPyfunc(lambda r, p, v, t, rc, pc: 0.1 * r[0] * r[1], \"test\")\n",
    "desc1.set_reactant_coefficients([1, 1])\n",
    "desc1.set_product_coefficients([1])\n",
    "rr2.set_descriptor(desc1)\n",
    "m1.add_reaction_rule(rr2)"
   ]
  },
  {
   "cell_type": "markdown",
   "metadata": {},
   "source": [
    "こうして登録された`ReactionRule`は、`NetworkModel`の`reaction_rules`関数を使ってリストとして得ることができます。"
   ]
  },
  {
   "cell_type": "code",
   "execution_count": 13,
   "metadata": {},
   "outputs": [
    {
     "name": "stdout",
     "output_type": "stream",
     "text": [
      "['C>A+B|3', '1*A+1*B>1*C|0']\n"
     ]
    }
   ],
   "source": [
    "print([rr.as_string() for rr in m1.reaction_rules()])"
   ]
  },
  {
   "cell_type": "markdown",
   "metadata": {},
   "source": [
    "また、このモデルは他の場合と同様に以下のようにしてシミュレーションを実行できます："
   ]
  },
  {
   "cell_type": "code",
   "execution_count": 14,
   "metadata": {},
   "outputs": [
    {
     "data": {
      "image/png": "[encoded data removed]",
      "text/plain": [
       "<Figure size 432x288 with 1 Axes>"
      ]
     },
     "metadata": {
      "needs_background": "light"
     },
     "output_type": "display_data"
    }
   ],
   "source": [
    "run_simulation(1.0, model=m1, y0={'A': 60, 'B': 60})"
   ]
  },
  {
   "cell_type": "markdown",
   "metadata": {},
   "source": [
    "Pythonデコレータを使ったモデリングでは、反応速度定数として数値を与える代わりにPython関数を与えることができます。単に数値を与えた場合は、いつも通り反応速度定数と見なされ、質量作用式として機能します。"
   ]
  },
  {
   "cell_type": "code",
   "execution_count": 15,
   "metadata": {},
   "outputs": [],
   "source": [
    "from functools import reduce\n",
    "from operator import mul\n",
    "\n",
    "with reaction_rules():\n",
    "    A + B == C | (lambda r, *args: 0.1 * reduce(mul, r), 3.0)\n",
    "\n",
    "m1 = get_model()"
   ]
  },
  {
   "cell_type": "markdown",
   "metadata": {},
   "source": [
    "より簡潔に、式を与える代わりに`Species`の名前を用いて直接式を記述することもできます："
   ]
  },
  {
   "cell_type": "code",
   "execution_count": 16,
   "metadata": {},
   "outputs": [],
   "source": [
    "with reaction_rules():\n",
    "    A + B == C | (0.1 * A * B, 3.0)\n",
    "\n",
    "m1 = get_model()"
   ]
  },
  {
   "cell_type": "markdown",
   "metadata": {},
   "source": [
    "ここで、速度式の中で左の反応式に含まれない`Species`を利用した場合、酵素として自動的に反応式に追加されます。"
   ]
  },
  {
   "cell_type": "code",
   "execution_count": 17,
   "metadata": {},
   "outputs": [
    {
     "name": "stdout",
     "output_type": "stream",
     "text": [
      "1*S+1*E>1*P+1*E|0\n",
      "((1.0*E*S)/(30.0+S))\n"
     ]
    }
   ],
   "source": [
    "with reaction_rules():\n",
    "    S > P | 1.0 * E * S / (30.0 + S)\n",
    "\n",
    "m1 = get_model()\n",
    "print(m1.reaction_rules()[0].as_string())\n",
    "print(m1.reaction_rules()[0].get_descriptor().as_string())"
   ]
  },
  {
   "cell_type": "markdown",
   "metadata": {},
   "source": [
    "上の例では、式に現れる分子種`E`が基質と生成物の双方に追加されていることがわかります。"
   ]
  },
  {
   "cell_type": "code",
   "execution_count": 18,
   "metadata": {},
   "outputs": [
    {
     "data": {
      "image/png": "[encoded data removed]",
      "text/plain": [
       "<Figure size 432x288 with 1 Axes>"
      ]
     },
     "metadata": {
      "needs_background": "light"
     },
     "output_type": "display_data"
    }
   ],
   "source": [
    "run_simulation(10.0, model=m1, y0={'S': 60, 'E': 30})"
   ]
  },
  {
   "cell_type": "markdown",
   "metadata": {},
   "source": [
    "ここで速度式中の`Species`名の誤りに注意してください。誤りがあった場合、それはエラーではなく、意図せず誤った名前の酵素が新たに追加されることになります。"
   ]
  },
  {
   "cell_type": "code",
   "execution_count": 19,
   "metadata": {},
   "outputs": [
    {
     "name": "stdout",
     "output_type": "stream",
     "text": [
      "1*A13P2G+1*A13B2G>1*A23P2G+1*A13B2G|0\n"
     ]
    }
   ],
   "source": [
    "with reaction_rules():\n",
    "    A13P2G > A23P2G | 1500 * A13B2G  # typo: A13P2G -> A13B2G\n",
    "\n",
    "m1 = get_model()\n",
    "print(m1.reaction_rules()[0].as_string())"
   ]
  },
  {
   "cell_type": "markdown",
   "metadata": {},
   "source": [
    "こうした酵素の自動的な宣言を避けたい場合には、`util.decorator.ENABLE_IMPLICIT_DECLARATION`を`False`に設定してください。その場合、反応式に含まれない分子種が速度式に現れた時、エラーとなります:"
   ]
  },
  {
   "cell_type": "code",
   "execution_count": 20,
   "metadata": {},
   "outputs": [
    {
     "name": "stdout",
     "output_type": "stream",
     "text": [
      "RuntimeError('[A13B2G] is unknown [(1500*{0})].',)\n"
     ]
    }
   ],
   "source": [
    "util.decorator.ENABLE_IMPLICIT_DECLARATION = False\n",
    "\n",
    "try:\n",
    "    with reaction_rules():\n",
    "        A13P2G > A23P2G | 1500 * A13B2G\n",
    "except RuntimeError as e:\n",
    "    print(repr(e))\n",
    "\n",
    "util.decorator.ENABLE_IMPLICIT_DECLARATION = True"
   ]
  },
  {
   "cell_type": "markdown",
   "metadata": {},
   "source": [
    "E-Cell4は生化学反応ネットワークのシミュレーションに特化して設計されているが、通常の常微分方程式を解くために利用することもできる。例えば、ロトカ・ヴォルテラの方程式は：\n",
    "\n",
    "$$\\frac{dx}{dt} = Ax - Bxy\\\\\\frac{dy}{dt} = -Cx + Dxy$$\n",
    "\n",
    "で与えられ、パラメータを$A=1.5, B=1, C=3, D=1, x(0)=10, y(0)=5$とした場合、以下のようにして解くことができる。"
   ]
  },
  {
   "cell_type": "code",
   "execution_count": 21,
   "metadata": {},
   "outputs": [
    {
     "data": {
      "image/png": "[encoded data removed]",
      "text/plain": [
       "<Figure size 432x288 with 1 Axes>"
      ]
     },
     "metadata": {
      "needs_background": "light"
     },
     "output_type": "display_data"
    }
   ],
   "source": [
    "with reaction_rules():\n",
    "    A, B, C, D = 1.5, 1, 3, 1\n",
    "\n",
    "    ~x > x | A * x - B * x * y\n",
    "    ~y > y | -C * y + D * x * y\n",
    "\n",
    "run_simulation(10, model=get_model(), y0={'x': 10, 'y': 5})"
   ]
  },
  {
   "cell_type": "markdown",
   "metadata": {},
   "source": [
    "## 6.4. ReactionRuleDescriptorにおける値と参照\n",
    "\n",
    "ここでは反応速度式の記述に関する技術的な詳細について補足する。\n",
    "\n",
    "まず、`Species`名を用いた速度式の記述では限られた特殊関数のみを利用できる（`exp`, `log`, `sin`, `cos`, `tan`, `asin`, `acos`, `atan`, `pi`）。たとえ、定義ブロックの外側で特殊関数を宣言（もしくはimport）していたとしても、利用できない。"
   ]
  },
  {
   "cell_type": "code",
   "execution_count": 22,
   "metadata": {},
   "outputs": [
    {
     "name": "stdout",
     "output_type": "stream",
     "text": [
      "TypeError('must be real number, not DivExp',)\n"
     ]
    }
   ],
   "source": [
    "try:\n",
    "    from math import erf\n",
    "\n",
    "    with reaction_rules():\n",
    "        S > P | erf(S / 30.0)\n",
    "except TypeError as e:\n",
    "    print(repr(e))"
   ]
  },
  {
   "cell_type": "markdown",
   "metadata": {},
   "source": [
    "上のエラーはPython関数である`erf`を数値ではなく、`S / 30.0`というオブジェクトに対して評価しようとした結果起きる。一方、以下の場合は問題がない："
   ]
  },
  {
   "cell_type": "code",
   "execution_count": 23,
   "metadata": {},
   "outputs": [
    {
     "name": "stdout",
     "output_type": "stream",
     "text": [
      "(0.9953222650189527*S)\n"
     ]
    }
   ],
   "source": [
    "from math import erf\n",
    "\n",
    "with reaction_rules():\n",
    "    S > P | erf(2.0) * S\n",
    "\n",
    "m1 = get_model()\n",
    "print(m1.reaction_rules()[0].get_descriptor().as_string())"
   ]
  },
  {
   "cell_type": "markdown",
   "metadata": {},
   "source": [
    "ここでは`erf(2.0)`を評価した結果、すなわち数値である`0.995322265019`が速度式にわたっている。従って、上の速度式は`erf`に関する参照を持たない。同様に外側であらかじめ評価された変数も利用できるが、この場合も変数に対する参照ではなく、その値のみが使われる。"
   ]
  },
  {
   "cell_type": "code",
   "execution_count": 24,
   "metadata": {},
   "outputs": [
    {
     "name": "stdout",
     "output_type": "stream",
     "text": [
      "((1.0*E*S)/(30.0+S))\n",
      "((1.0*E*S)/(30.0+S))\n"
     ]
    }
   ],
   "source": [
    "kcat, Km = 1.0, 30.0\n",
    "\n",
    "with reaction_rules():\n",
    "    S > P | kcat * E * S / (Km + S)\n",
    "\n",
    "m1 = get_model()\n",
    "print(m1.reaction_rules()[0].get_descriptor().as_string())\n",
    "kcat = 2.0  # This doesn't affect the model\n",
    "print(m1.reaction_rules()[0].get_descriptor().as_string())"
   ]
  },
  {
   "cell_type": "markdown",
   "metadata": {},
   "source": [
    "上の例では、たとえ変数の値を変更しても、その変更はモデル中の反応速度式に影響を与え**ない**。\n",
    "\n",
    "他方、自分自身でPython関数を定義した場合、それは外側で宣言された他の変数への参照を有する。"
   ]
  },
  {
   "cell_type": "code",
   "execution_count": 25,
   "metadata": {},
   "outputs": [
    {
     "data": {
      "image/png": "[encoded data removed]",
      "text/plain": [
       "<Figure size 432x288 with 1 Axes>"
      ]
     },
     "metadata": {
      "needs_background": "light"
     },
     "output_type": "display_data"
    }
   ],
   "source": [
    "k1 = 1.0\n",
    "\n",
    "with reaction_rules():\n",
    "    S > P | (lambda r, *args: k1 * r[0])  # referring k1\n",
    "\n",
    "m1 = get_model()\n",
    "\n",
    "obs1 = run_simulation(2, model=m1, y0={\"S\": 60}, return_type='observer')\n",
    "k1 = 2.0  # This could change the result\n",
    "obs2 = run_simulation(2, model=m1, y0={\"S\": 60}, return_type='observer')\n",
    "\n",
    "viz.plot_number_observer(obs1, '-', obs2, '--')"
   ]
  },
  {
   "cell_type": "markdown",
   "metadata": {},
   "source": [
    "しかしながら、上のような場合は参照を利用するのではなく、異なるパラメータの値ごとに新たにモデルを生成したほうが良いだろう。"
   ]
  },
  {
   "cell_type": "code",
   "execution_count": 26,
   "metadata": {},
   "outputs": [
    {
     "data": {
      "image/png": "[encoded data removed]",
      "text/plain": [
       "<Figure size 432x288 with 1 Axes>"
      ]
     },
     "metadata": {
      "needs_background": "light"
     },
     "output_type": "display_data"
    }
   ],
   "source": [
    "def create_model(k):\n",
    "    with reaction_rules():\n",
    "        S > P | k\n",
    "\n",
    "    return get_model()\n",
    "\n",
    "obs1 = run_simulation(2, model=create_model(k=1.0), y0={\"S\": 60}, return_type='observer')\n",
    "obs2 = run_simulation(2, model=create_model(k=2.0), y0={\"S\": 60}, return_type='observer')\n",
    "viz.plot_number_observer(obs1, '-', obs2, '--')"
   ]
  },
  {
   "cell_type": "markdown",
   "metadata": {},
   "source": [
    "## 6.5. odeについてもう少し\n",
    "\n",
    "`ode.World`において各`Species`の値は実数値として扱われる。しかしながら、他の手法との互換性のため、共通したメンバー関数`num_molecules`や`add_molecules`では値を整数値として扱う。"
   ]
  },
  {
   "cell_type": "code",
   "execution_count": 27,
   "metadata": {},
   "outputs": [
    {
     "name": "stdout",
     "output_type": "stream",
     "text": [
      "2\n"
     ]
    }
   ],
   "source": [
    "w = ode.World()\n",
    "w.add_molecules(Species(\"A\"), 2.5)\n",
    "print(w.num_molecules(Species(\"A\")))"
   ]
  },
  {
   "cell_type": "markdown",
   "metadata": {},
   "source": [
    "特別に実数値として扱う場合には、`set_value`や`get_value`が利用できる。"
   ]
  },
  {
   "cell_type": "code",
   "execution_count": 28,
   "metadata": {},
   "outputs": [
    {
     "name": "stdout",
     "output_type": "stream",
     "text": [
      "2.0\n",
      "2.5\n"
     ]
    }
   ],
   "source": [
    "w.set_value(Species(\"B\"), 2.5)\n",
    "print(w.get_value(Species(\"A\")))\n",
    "print(w.get_value(Species(\"B\")))"
   ]
  },
  {
   "cell_type": "markdown",
   "metadata": {},
   "source": [
    "デフォルトで`ode.Simulator`は常微分方程式の数値解法としてローゼンブロック法（`ROSENBROCK4_CONTROLLER`）を利用する。これに加えて別の二つの解法も利用することができる（`EULER`、`RUNGE_KUTTA_CASH_KARP54`）。`ROSENBROCK4_CONTROLLER`と`RUNGE_KUTTA_CASH_KARP54`は誤差制御を自動的に行うため、時間発展の最中に動的に時間幅を適応させる。他方、オイラー法（`EULER`）は固定時間幅である。"
   ]
  },
  {
   "cell_type": "code",
   "execution_count": 29,
   "metadata": {},
   "outputs": [],
   "source": [
    "with reaction_rules():\n",
    "    A > ~A | 1.0\n",
    "\n",
    "m1 = get_model()\n",
    "\n",
    "w1 = ode.World()\n",
    "w1.set_value(Species(\"A\"), 1.0)\n",
    "sim1 = ode.Simulator(w1, m1, ode.EULER)\n",
    "sim1.set_dt(0.01) # This is only effective for EULER\n",
    "sim1.run(3.0, obs1)"
   ]
  },
  {
   "cell_type": "markdown",
   "metadata": {},
   "source": [
    "`ode.Factory`でも解法や時間幅を受け取ることができる。"
   ]
  },
  {
   "cell_type": "code",
   "execution_count": 30,
   "metadata": {},
   "outputs": [
    {
     "data": {
      "image/png": "[encoded data removed]",
      "text/plain": [
       "<Figure size 432x288 with 1 Axes>"
      ]
     },
     "metadata": {
      "needs_background": "light"
     },
     "output_type": "display_data"
    }
   ],
   "source": [
    "run_simulation(3.0, model=m1, y0={\"A\": 1.0}, solver=('ode', ode.EULER, 0.01))"
   ]
  },
  {
   "cell_type": "markdown",
   "metadata": {},
   "source": [
    "常微分方程式を用いた例として、下記も参考にしてください。\n",
    "\n",
    "* [Glycolysis of Human Erythrocytes](examples/example5.ipynb)\n",
    "* [Drosophila Circadian Clock](../examples/example2.ipynb)\n",
    "* [Attractors](../examples/example1.ipynb)"
   ]
  }
 ],
 "metadata": {
  "anaconda-cloud": {},
  "kernelspec": {
   "display_name": "Python 3",
   "language": "python",
   "name": "python3"
  },
  "language_info": {
   "codemirror_mode": {
    "name": "ipython",
    "version": 3
   },
   "file_extension": ".py",
   "mimetype": "text/x-python",
   "name": "python",
   "nbconvert_exporter": "python",
   "pygments_lexer": "ipython3",
   "version": "3.6.7"
  }
 },
 "nbformat": 4,
 "nbformat_minor": 1
}
