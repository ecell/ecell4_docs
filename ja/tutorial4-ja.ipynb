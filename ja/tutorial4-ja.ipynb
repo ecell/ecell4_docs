{
 "cells": [
  {
   "cell_type": "markdown",
   "metadata": {},
   "source": [
    "# 4. シミュレーションの走らせ方\n",
    "\n",
    "セクション2と3では、モデルを構築し、初期状態を設定する方法について説明しました。\n",
    "それでは、シミュレーションを実行してみましょう。\n",
    "「Spatiocyte.SpatiocyteSimulator」、「egfrd.EGFRDSimulator」、「bd.BDSimulator」、「meso.MesoscopicSimulator」、「gillespie.GillespieSimulator」、および「ode.ODESimulator」の6つの「シミュレータ」クラスが存在します。\n",
    " それぞれの `Simulator`クラスは` World`の対応する型だけを受け入れますが、それらのすべてが同じ `Model`を受け入れます。\n"
   ]
  },
  {
   "cell_type": "code",
   "execution_count": 1,
   "metadata": {},
   "outputs": [],
   "source": [
    "from ecell4_base.core import *"
   ]
  },
  {
   "cell_type": "markdown",
   "metadata": {},
   "source": [
    "## 4.1. シミュレーターのセットアップの方法\n",
    "\n",
    "アルゴリズム固有の引数を持つ初期化（いわゆるコンストラクタ関数）を除いて、すべてのシミュレータは同じAPIを持っています。\n"
   ]
  },
  {
   "cell_type": "code",
   "execution_count": 2,
   "metadata": {},
   "outputs": [],
   "source": [
    "from ecell4_base import *"
   ]
  },
  {
   "cell_type": "markdown",
   "metadata": {},
   "source": [
    "`Simulator`を構築する前に、`Simulator`のタイプに対応する`Model`と`World`を用意してください。\n"
   ]
  },
  {
   "cell_type": "code",
   "execution_count": 3,
   "metadata": {},
   "outputs": [],
   "source": [
    "from ecell4 import species_attributes, reaction_rules, get_model\n",
    "\n",
    "with species_attributes():\n",
    "    A | B | C | {'D': '1', 'radius': '0.005'}\n",
    "\n",
    "with reaction_rules():\n",
    "    A + B == C | (0.01, 0.3)\n",
    "\n",
    "m = get_model()"
   ]
  },
  {
   "cell_type": "code",
   "execution_count": 4,
   "metadata": {},
   "outputs": [],
   "source": [
    "w1 = gillespie.World()\n",
    "w2 = ode.World()\n",
    "w3 = spatiocyte.World()\n",
    "w4 = bd.World()\n",
    "w5 = meso.World()\n",
    "w6 = egfrd.World()"
   ]
  },
  {
   "cell_type": "markdown",
   "metadata": {},
   "source": [
    "シミュレータは、構築時に下記の順序でモデルとワールドの両方を必要とします。\n"
   ]
  },
  {
   "cell_type": "code",
   "execution_count": 5,
   "metadata": {},
   "outputs": [],
   "source": [
    "sim1 = gillespie.Simulator(w1, m)\n",
    "sim2 = ode.Simulator(w2, m)\n",
    "sim3 = spatiocyte.Simulator(w3, m)\n",
    "sim4 = bd.Simulator(w4, m)\n",
    "sim5 = meso.Simulator(w5, m)\n",
    "sim6 = egfrd.Simulator(w6, m)"
   ]
  },
  {
   "cell_type": "markdown",
   "metadata": {},
   "source": [
    "`Model`を`World`にバインドした場合は、シミュレータを作成するために要るのは`World`だけです。\n"
   ]
  },
  {
   "cell_type": "code",
   "execution_count": 6,
   "metadata": {},
   "outputs": [],
   "source": [
    "w1.bind_to(m)\n",
    "w2.bind_to(m)\n",
    "w3.bind_to(m)\n",
    "w4.bind_to(m)\n",
    "w5.bind_to(m)\n",
    "w6.bind_to(m)"
   ]
  },
  {
   "cell_type": "code",
   "execution_count": 7,
   "metadata": {},
   "outputs": [],
   "source": [
    "sim1 = gillespie.Simulator(w1)\n",
    "sim2 = ode.Simulator(w2)\n",
    "sim3 = spatiocyte.Simulator(w3)\n",
    "sim4 = bd.Simulator(w4)\n",
    "sim5 = meso.Simulator(w5)\n",
    "sim6 = egfrd.Simulator(w6)"
   ]
  },
  {
   "cell_type": "markdown",
   "metadata": {},
   "source": [
    "もちろん、`Simulator`にバインドされた`Model`と`World`は、`Simulator`から以下のように引き出すことができます。\n"
   ]
  },
  {
   "cell_type": "code",
   "execution_count": 8,
   "metadata": {},
   "outputs": [
    {
     "name": "stdout",
     "output_type": "stream",
     "text": [
      "<ecell4_base.core.Model object at 0x14856b056ab0> <ecell4_base.gillespie.GillespieWorld object at 0x14856b058708>\n",
      "<ecell4_base.core.Model object at 0x148569955a10> <ecell4_base.ode.ODEWorld object at 0x14856b0586d8>\n",
      "<ecell4_base.core.Model object at 0x14856b056ab0> <ecell4_base.spatiocyte.SpatiocyteWorld object at 0x14856b058708>\n",
      "<ecell4_base.core.Model object at 0x14856b056810> <ecell4_base.bd.BDWorld object at 0x14856b0586d8>\n",
      "<ecell4_base.core.Model object at 0x14856b056ab0> <ecell4_base.meso.MesoscopicWorld object at 0x14856b058720>\n",
      "<ecell4_base.core.Model object at 0x14856b056810> <ecell4_base.egfrd.EGFRDWorld object at 0x14856b0586d8>\n"
     ]
    }
   ],
   "source": [
    "print(sim1.model(), sim1.world())\n",
    "print(sim2.model(), sim2.world())\n",
    "print(sim3.model(), sim3.world())\n",
    "print(sim4.model(), sim4.world())\n",
    "print(sim5.model(), sim5.world())\n",
    "print(sim6.model(), sim6.world())"
   ]
  },
  {
   "cell_type": "markdown",
   "metadata": {},
   "source": [
    "`World`を自分で更新した後は、シミュレーションを実行する前に`Simulator`の内部状態を初期化する必要があります。\n"
   ]
  },
  {
   "cell_type": "code",
   "execution_count": 9,
   "metadata": {},
   "outputs": [],
   "source": [
    "w1.add_molecules(Species('C'), 60)\n",
    "w2.add_molecules(Species('C'), 60)\n",
    "w3.add_molecules(Species('C'), 60)\n",
    "w4.add_molecules(Species('C'), 60)\n",
    "w5.add_molecules(Species('C'), 60)\n",
    "w6.add_molecules(Species('C'), 60)"
   ]
  },
  {
   "cell_type": "code",
   "execution_count": 10,
   "metadata": {},
   "outputs": [],
   "source": [
    "sim1.initialize()\n",
    "sim2.initialize()\n",
    "sim3.initialize()\n",
    "sim4.initialize()\n",
    "sim5.initialize()\n",
    "sim6.initialize()"
   ]
  },
  {
   "cell_type": "markdown",
   "metadata": {},
   "source": [
    "一定のステップ間隔を有するアルゴリズムの場合は上記に加え`dt`も必要です。"
   ]
  },
  {
   "cell_type": "code",
   "execution_count": 11,
   "metadata": {},
   "outputs": [],
   "source": [
    "sim2.set_dt(1e-6)  # ode.Simulator. This is optional\n",
    "sim4.set_dt(1e-6)  # bd.Simulator"
   ]
  },
  {
   "cell_type": "markdown",
   "metadata": {},
   "source": [
    "## 4.2. シミュレーションの実行\n",
    "\n",
    "シミュレーションを実行するために、Simulatorは`step`と`run`の2つのAPIを提供します。\n",
    "`step()`は、シミュレータが期待する時間(`next_time()`)の間シミュレーションを進めます。\n"
   ]
  },
  {
   "cell_type": "code",
   "execution_count": 12,
   "metadata": {},
   "outputs": [
    {
     "name": "stdout",
     "output_type": "stream",
     "text": [
      "0.0 0.023283645055860794 0.023283645055860794\n",
      "0.0 1e-06 1e-06\n",
      "0.0 6.666666666666667e-05 6.666666666666667e-05\n",
      "0.0 1e-06 1e-06\n",
      "0.0 0.003725229742901475 0.003725229742901475\n",
      "0.0 0.0 0.0\n"
     ]
    }
   ],
   "source": [
    "print(sim1.t(), sim1.next_time(), sim1.dt())\n",
    "print(sim2.t(), sim2.next_time(), sim2.dt())  # => (0.0, 1e-6, 1e-6)\n",
    "print(sim3.t(), sim3.next_time(), sim3.dt())\n",
    "print(sim4.t(), sim4.next_time(), sim4.dt())  # => (0.0, 1e-6, 1e-6)\n",
    "print(sim5.t(), sim5.next_time(), sim5.dt())\n",
    "print(sim6.t(), sim6.next_time(), sim6.dt())  # => (0.0, 0.0, 0.0)"
   ]
  },
  {
   "cell_type": "code",
   "execution_count": 13,
   "metadata": {},
   "outputs": [],
   "source": [
    "sim1.step()\n",
    "sim2.step()\n",
    "sim3.step()\n",
    "sim4.step()\n",
    "sim5.step()\n",
    "sim6.step()"
   ]
  },
  {
   "cell_type": "code",
   "execution_count": 14,
   "metadata": {},
   "outputs": [
    {
     "name": "stdout",
     "output_type": "stream",
     "text": [
      "0.023283645055860794\n",
      "1e-06\n",
      "6.666666666666667e-05\n",
      "1e-06\n",
      "0.003725229742901475\n",
      "0.0\n"
     ]
    }
   ],
   "source": [
    "print(sim1.t())\n",
    "print(sim2.t())  # => 1e-6\n",
    "print(sim3.t())\n",
    "print(sim4.t())  # => 1e-6\n",
    "print(sim5.t())\n",
    "print(sim6.t())  # => 0.0"
   ]
  },
  {
   "cell_type": "markdown",
   "metadata": {},
   "source": [
    "`last_reactions()`は、最後のステップで発生する`ReactionRule`と`ReactionInfo`のペアのリストを返します。\n",
    "各アルゴリズムにはReactionInfoの独自の実装があります。\n",
    "詳細については、`help(module.ReactionInfo)`を参照してください。\n"
   ]
  },
  {
   "cell_type": "code",
   "execution_count": 15,
   "metadata": {},
   "outputs": [
    {
     "name": "stdout",
     "output_type": "stream",
     "text": [
      "[(<ecell4_base.core.ReactionRule object at 0x14856b058780>, <ecell4_base.gillespie.ReactionInfo object at 0x14856b0586d8>)]\n",
      "[]\n",
      "[]\n",
      "[]\n",
      "[]\n"
     ]
    }
   ],
   "source": [
    "print(sim1.last_reactions())\n",
    "# print(sim2.last_reactions())\n",
    "print(sim3.last_reactions())\n",
    "print(sim4.last_reactions())\n",
    "print(sim5.last_reactions())\n",
    "print(sim6.last_reactions())"
   ]
  },
  {
   "cell_type": "markdown",
   "metadata": {},
   "source": [
    "`step(upto)`は、`next_time`が`upto`より小さい場合は`next_time`のシミュレーションを進め、それ以外の場合は`upto`まで実行します。\n",
    "また`step(upto)`は時間が上限(`upto`)に達して**いないか**どうかを返します。\n"
   ]
  },
  {
   "cell_type": "code",
   "execution_count": 16,
   "metadata": {},
   "outputs": [
    {
     "name": "stdout",
     "output_type": "stream",
     "text": [
      "True 0.03610636306791957\n",
      "True 2e-06\n",
      "True 0.00013333333333333334\n",
      "True 2e-06\n",
      "True 0.009064085161491897\n",
      "True 0.0\n"
     ]
    }
   ],
   "source": [
    "print(sim1.step(1.0), sim1.t())\n",
    "print(sim2.step(1.0), sim2.t())\n",
    "print(sim3.step(1.0), sim3.t())\n",
    "print(sim4.step(1.0), sim4.t())\n",
    "print(sim5.step(1.0), sim5.t())\n",
    "print(sim6.step(1.0), sim6.t())"
   ]
  },
  {
   "cell_type": "markdown",
   "metadata": {},
   "source": [
    "`upto` の時間ちょうどまでシミュレーションをは走らせるには, それが`True`を返す間 `step(upto)` を呼びます。\n"
   ]
  },
  {
   "cell_type": "code",
   "execution_count": 17,
   "metadata": {},
   "outputs": [],
   "source": [
    "while sim1.step(1.0): pass\n",
    "while sim2.step(0.001): pass\n",
    "while sim3.step(0.001): pass\n",
    "while sim4.step(0.001): pass\n",
    "while sim5.step(1.0): pass\n",
    "while sim6.step(0.001): pass"
   ]
  },
  {
   "cell_type": "code",
   "execution_count": 18,
   "metadata": {},
   "outputs": [
    {
     "name": "stdout",
     "output_type": "stream",
     "text": [
      "1.0\n",
      "0.001\n",
      "0.001\n",
      "0.001\n",
      "1.0\n",
      "0.001\n"
     ]
    }
   ],
   "source": [
    "print(sim1.t())  # => 1.0\n",
    "print(sim2.t())  # => 0.001\n",
    "print(sim3.t())  # => 0.001\n",
    "print(sim4.t())  # => 0.001\n",
    "print(sim5.t())  # => 1.0\n",
    "print(sim6.t())  # => 0.001"
   ]
  },
  {
   "cell_type": "markdown",
   "metadata": {},
   "source": [
    "これはちょうど `run` の動作と同じものです。\n",
    "`run(tau)`は`t()+tau`の時間までシミュレーションを進めます。"
   ]
  },
  {
   "cell_type": "code",
   "execution_count": 19,
   "metadata": {},
   "outputs": [],
   "source": [
    "sim1.run(1.0)\n",
    "sim2.run(0.001)\n",
    "sim3.run(0.001)\n",
    "sim4.run(0.001)\n",
    "sim5.run(1.0)\n",
    "sim6.run(0.001)"
   ]
  },
  {
   "cell_type": "code",
   "execution_count": 20,
   "metadata": {},
   "outputs": [
    {
     "name": "stdout",
     "output_type": "stream",
     "text": [
      "2.0\n",
      "0.002\n",
      "0.002\n",
      "0.002\n",
      "2.0\n",
      "0.002\n"
     ]
    }
   ],
   "source": [
    "print(sim1.t())  # => 2.0\n",
    "print(sim2.t())  # => 0.002\n",
    "print(sim3.t())  # => 0.002\n",
    "print(sim4.t())  # => 0.002\n",
    "print(sim5.t())  # => 2.0\n",
    "print(sim6.t())  # => 0.02"
   ]
  },
  {
   "cell_type": "markdown",
   "metadata": {},
   "source": [
    "`num_steps`は、シミュレーション中のステップ数を返します。\n"
   ]
  },
  {
   "cell_type": "code",
   "execution_count": 21,
   "metadata": {},
   "outputs": [
    {
     "name": "stdout",
     "output_type": "stream",
     "text": [
      "30\n",
      "2001\n",
      "28\n",
      "2001\n",
      "939\n",
      "487\n"
     ]
    }
   ],
   "source": [
    "print(sim1.num_steps())\n",
    "print(sim2.num_steps())\n",
    "print(sim3.num_steps())\n",
    "print(sim4.num_steps())\n",
    "print(sim5.num_steps())\n",
    "print(sim6.num_steps())"
   ]
  },
  {
   "cell_type": "markdown",
   "metadata": {},
   "source": [
    "## 4.3. アルゴリズムをカプセル化してファクトリクラスに\n",
    "\n",
    "`Model`の移植性と` World`と `Simulator`の一貫したAPIのおかげで、アルゴリズムに共通するスクリプトを書くのは非常に簡単です。\n",
    "しかし、アルゴリズムを切り替えるときには、コード内のクラスの名前を1つずつ書き直す必要があります。\n",
    "\n",
    "この問題を回避するために、E-Cell4はアルゴリズムごとに `Factory`クラスも提供しています。 `Factory`は` World`と `Simulator`を構造化に必要な引数でカプセル化します。 `Factory`クラスを使うことで、あなたのスクリプトはアルゴリズムの変更に対してポータブルかつロバストになります。\n",
    "\n",
    "\n",
    "`Factory`は`world`と `simulator`の2つの関数を提供します。\n"
   ]
  },
  {
   "cell_type": "code",
   "execution_count": 22,
   "metadata": {},
   "outputs": [],
   "source": [
    "def singlerun(f, m):\n",
    "    w = f.world(Real3(1, 1, 1))\n",
    "    w.bind_to(m)\n",
    "    w.add_molecules(Species('C'), 60)\n",
    "    \n",
    "    sim = f.simulator(w)\n",
    "    sim.run(0.01)\n",
    "    print(sim.t(), w.num_molecules(Species('C')))"
   ]
  },
  {
   "cell_type": "markdown",
   "metadata": {},
   "source": [
    "上記の`singlerun`はアルゴリズムから独立しています。\n",
    "したがって、単に`Factory`を切り替えるだけで、結果を簡単に比較することができます。\n"
   ]
  },
  {
   "cell_type": "code",
   "execution_count": 23,
   "metadata": {},
   "outputs": [
    {
     "name": "stdout",
     "output_type": "stream",
     "text": [
      "0.01 60\n",
      "0.01 59\n",
      "0.01 60\n",
      "0.01 60\n",
      "0.01 60\n",
      "0.01 60\n"
     ]
    }
   ],
   "source": [
    "singlerun(gillespie.Factory(), m)\n",
    "singlerun(ode.Factory(), m)\n",
    "singlerun(spatiocyte.Factory(), m)\n",
    "singlerun(bd.Factory(bd_dt_factor=1), m)\n",
    "singlerun(meso.Factory(), m)\n",
    "singlerun(egfrd.Factory(), m)"
   ]
  },
  {
   "cell_type": "markdown",
   "metadata": {},
   "source": [
    "`World`や` Simulator`を初期化するためにいくつかのパラメータを指定する必要があるとき、 `run_simulation`は` solver`の代わりに `Factory`を受け取ります。\n"
   ]
  },
  {
   "cell_type": "code",
   "execution_count": 24,
   "metadata": {},
   "outputs": [
    {
     "name": "stdout",
     "output_type": "stream",
     "text": [
      "[0.01, 0.0, 0.0, 60.0]\n",
      "[0.01, 0.17972919304002502, 0.17972919304002502, 59.820270806960046]\n",
      "[0.01, 0.0, 0.0, 60.0]\n",
      "[0.01, 0.0, 0.0, 60.0]\n",
      "[0.01, 0.0, 0.0, 60.0]\n",
      "[0.01, 0.0, 0.0, 60.0]\n"
     ]
    }
   ],
   "source": [
    "from ecell4.util import run_simulation\n",
    "print(run_simulation(0.01, model=m, y0={'C': 60}, return_type='array', solver=gillespie.Factory())[-1])\n",
    "print(run_simulation(0.01, model=m, y0={'C': 60}, return_type='array', solver=ode.Factory())[-1])\n",
    "print(run_simulation(0.01, model=m, y0={'C': 60}, return_type='array', solver=spatiocyte.Factory())[-1])\n",
    "print(run_simulation(0.01, model=m, y0={'C': 60}, return_type='array', solver=bd.Factory(bd_dt_factor=1))[-1])\n",
    "print(run_simulation(0.01, model=m, y0={'C': 60}, return_type='array', solver=meso.Factory())[-1])\n",
    "print(run_simulation(0.01, model=m, y0={'C': 60}, return_type='array', solver=egfrd.Factory())[-1])"
   ]
  }
 ],
 "metadata": {
  "kernelspec": {
   "display_name": "Python 3",
   "language": "python",
   "name": "python3"
  },
  "language_info": {
   "codemirror_mode": {
    "name": "ipython",
    "version": 3
   },
   "file_extension": ".py",
   "mimetype": "text/x-python",
   "name": "python",
   "nbconvert_exporter": "python",
   "pygments_lexer": "ipython3",
   "version": "3.6.7"
  }
 },
 "nbformat": 4,
 "nbformat_minor": 1
}
