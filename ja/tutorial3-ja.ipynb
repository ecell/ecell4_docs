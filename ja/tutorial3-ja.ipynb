{
 "cells": [
  {
   "cell_type": "markdown",
   "metadata": {},
   "source": [
    "# 3. 初期条件を設定する方法\n",
    "\n",
    "ここでは、`World` クラスの基礎を説明します。\n",
    "E-Cell4では、`spatiocyte.SpatiocyteWorld`, `egfrd.EGFRDWorld`, `bd.BDWorld`, `meso.MesoscopicWorld`, `gillespie.GillespieWorld`, そして `ode.ODEWorld`の6種類のWorldクラスがサポートされています。\n",
    "\n",
    "ほとんどのソフトウェアでは、初期状態は `Model`の一部であると考えられています。\n",
    "しかし、E-Cell4では、初期条件は `Model`とは別に` World`として設定する必要があります。\n",
    "`World` には、現在時刻、分子数、分子座標、構造、乱数発生器などの状態に関する情報が格納されています。\n",
    "一方、`Model` には分子間の相互作用のタイプと分子の共通の性質が含まれています。\n"
   ]
  },
  {
   "cell_type": "code",
   "execution_count": 1,
   "metadata": {},
   "outputs": [],
   "source": [
    "from ecell4_base.core import *"
   ]
  },
  {
   "cell_type": "markdown",
   "metadata": {},
   "source": [
    "## 3.1. Worldの共通API\n",
    "\n",
    "`World`は、対応するアルゴリズムに固有の空間表現を表していますが、互換性のあるAPIを持っています。\n",
    "このセクションでは、6つの `World`クラスの共通インターフェースを紹介します。\n"
   ]
  },
  {
   "cell_type": "code",
   "execution_count": 2,
   "metadata": {},
   "outputs": [],
   "source": [
    "from ecell4_base import *"
   ]
  },
  {
   "cell_type": "markdown",
   "metadata": {},
   "source": [
    "`World`クラスは、アルゴリズムに固有のパラメータを決定するコンストラクタ内に異なるセットの引数を受け取ります。\n",
    "しかし、少なくとも、すべてのWorldクラスは、edge_lengthsという名前のサイズでしかインスタンス化できません。\n",
    "edge_lengthsのタイプはReal3であり、これはRealsのトリプレットを表します。\n",
    "E-Cell4では、すべての3次元位置がReal3として扱われます。\n"
   ]
  },
  {
   "cell_type": "code",
   "execution_count": 3,
   "metadata": {},
   "outputs": [],
   "source": [
    "edge_lengths = Real3(1, 2, 3)\n",
    "w1 = gillespie.World(edge_lengths)\n",
    "w2 = ode.World(edge_lengths)\n",
    "w3 = spatiocyte.World(edge_lengths)\n",
    "w4 = bd.World(edge_lengths)\n",
    "w5 = meso.World(edge_lengths)\n",
    "w6 = egfrd.World(edge_lengths)"
   ]
  },
  {
   "cell_type": "markdown",
   "metadata": {},
   "source": [
    "`World`にはサイズと体積のゲッターメソッドがあります。\n"
   ]
  },
  {
   "cell_type": "code",
   "execution_count": 4,
   "metadata": {},
   "outputs": [
    {
     "name": "stdout",
     "output_type": "stream",
     "text": [
      "(1.0, 2.0, 3.0) 6.0\n",
      "(1.0, 2.0, 3.0) 6.0\n",
      "(1.0124557603503803, 2.0091789367798976, 3.0) 6.102614364352381\n",
      "(1.0, 2.0, 3.0) 6.0\n",
      "(1.0, 2.0, 3.0) 6.0\n",
      "(1.0, 2.0, 3.0) 6.0\n"
     ]
    }
   ],
   "source": [
    "print(tuple(w1.edge_lengths()), w1.volume())\n",
    "print(tuple(w2.edge_lengths()), w2.volume())\n",
    "print(tuple(w3.edge_lengths()), w3.volume())\n",
    "print(tuple(w4.edge_lengths()), w4.volume())\n",
    "print(tuple(w5.edge_lengths()), w5.volume())\n",
    "print(tuple(w6.edge_lengths()), w6.volume())"
   ]
  },
  {
   "cell_type": "markdown",
   "metadata": {},
   "source": [
    "次に、分子を`World`に加えましょう。\n",
    "ここでは、分子の形状を伝えるために、「半径」と「拡散係数」の属性付きの`Species`を与える必要があります。\n",
    "下記の例では「0.0025」が半径に，「1」が拡散係数に相当します。\n",
    "分子の位置は、必要に応じて`World`でランダムに決定されます。\n",
    "**add_molecules**関数における**10**は追加する分子の数を表しています。"
   ]
  },
  {
   "cell_type": "code",
   "execution_count": 5,
   "metadata": {},
   "outputs": [],
   "source": [
    "sp1 = Species(\"A\", 0.0025, 1)\n",
    "w1.add_molecules(sp1, 10)\n",
    "w2.add_molecules(sp1, 10)\n",
    "w3.add_molecules(sp1, 10)\n",
    "w4.add_molecules(sp1, 10)\n",
    "w5.add_molecules(sp1, 10)\n",
    "w6.add_molecules(sp1, 10)"
   ]
  },
  {
   "cell_type": "markdown",
   "metadata": {},
   "source": [
    "`Model`が`World`にバインドされた後、一度`Species`で設定した半径と拡散係数を再び書く必要はありません（変更したくない限り）。"
   ]
  },
  {
   "cell_type": "code",
   "execution_count": 6,
   "metadata": {},
   "outputs": [],
   "source": [
    "m = NetworkModel()\n",
    "m.add_species_attribute(Species(\"A\", 0.0025, 1))\n",
    "m.add_species_attribute(Species(\"B\", 0.0025, 1))\n",
    "\n",
    "w1.bind_to(m)\n",
    "w2.bind_to(m)\n",
    "w3.bind_to(m)\n",
    "w4.bind_to(m)\n",
    "w5.bind_to(m)\n",
    "w6.bind_to(m)\n",
    "w1.add_molecules(Species(\"B\"), 20)\n",
    "w2.add_molecules(Species(\"B\"), 20)\n",
    "w3.add_molecules(Species(\"B\"), 20)\n",
    "w4.add_molecules(Species(\"B\"), 20)\n",
    "w5.add_molecules(Species(\"B\"), 20)\n",
    "w6.add_molecules(Species(\"B\"), 20)"
   ]
  },
  {
   "cell_type": "markdown",
   "metadata": {},
   "source": [
    "同様に、`remove_molecules`と`num_molecules_exact`も利用できます。"
   ]
  },
  {
   "cell_type": "code",
   "execution_count": 7,
   "metadata": {},
   "outputs": [],
   "source": [
    "w1.remove_molecules(Species(\"B\"), 5)\n",
    "w2.remove_molecules(Species(\"B\"), 5)\n",
    "w3.remove_molecules(Species(\"B\"), 5)\n",
    "w4.remove_molecules(Species(\"B\"), 5)\n",
    "w5.remove_molecules(Species(\"B\"), 5)\n",
    "w6.remove_molecules(Species(\"B\"), 5)"
   ]
  },
  {
   "cell_type": "code",
   "execution_count": 8,
   "metadata": {},
   "outputs": [
    {
     "name": "stdout",
     "output_type": "stream",
     "text": [
      "10 10 10 10 10 10\n",
      "15 15 15 15 15 15\n"
     ]
    }
   ],
   "source": [
    "print(w1.num_molecules_exact(Species(\"A\")), w2.num_molecules_exact(Species(\"A\")), w3.num_molecules_exact(Species(\"A\")), w4.num_molecules_exact(Species(\"A\")), w5.num_molecules_exact(Species(\"A\")), w6.num_molecules_exact(Species(\"A\")))\n",
    "print(w1.num_molecules_exact(Species(\"B\")), w2.num_molecules_exact(Species(\"B\")), w3.num_molecules_exact(Species(\"B\")), w4.num_molecules_exact(Species(\"B\")), w5.num_molecules_exact(Species(\"B\")), w6.num_molecules_exact(Species(\"B\")))"
   ]
  },
  {
   "cell_type": "markdown",
   "metadata": {},
   "source": [
    "`num_molecules_exact`と異なり`num_molecules`は与えられた`Species`と一致するすべての数をルールベースの方法で返します。\n",
    "`World`のすべての`Species`が分子間相互作用を持たない場合、`num_molecules`は`num_molecules_exact`と同じです。\n"
   ]
  },
  {
   "cell_type": "code",
   "execution_count": 9,
   "metadata": {},
   "outputs": [
    {
     "name": "stdout",
     "output_type": "stream",
     "text": [
      "10 10 10 10 10 10\n",
      "15 15 15 15 15 15\n"
     ]
    }
   ],
   "source": [
    "print(w1.num_molecules(Species(\"A\")), w2.num_molecules(Species(\"A\")), w3.num_molecules(Species(\"A\")), w4.num_molecules(Species(\"A\")), w5.num_molecules(Species(\"A\")), w6.num_molecules(Species(\"A\")))\n",
    "print(w1.num_molecules(Species(\"B\")), w2.num_molecules(Species(\"B\")), w3.num_molecules(Species(\"B\")), w4.num_molecules(Species(\"B\")), w5.num_molecules(Species(\"B\")), w6.num_molecules(Species(\"B\")))"
   ]
  },
  {
   "cell_type": "markdown",
   "metadata": {},
   "source": [
    "`World` はシミュレーションの時間を保持しています。"
   ]
  },
  {
   "cell_type": "code",
   "execution_count": 10,
   "metadata": {},
   "outputs": [
    {
     "name": "stdout",
     "output_type": "stream",
     "text": [
      "0.0 0.0 0.0 0.0 0.0 0.0\n",
      "1.0 1.0 1.0 1.0 1.0 1.0\n"
     ]
    }
   ],
   "source": [
    "print(w1.t(), w2.t(), w3.t(), w4.t(), w5.t(), w6.t())\n",
    "w1.set_t(1.0)\n",
    "w2.set_t(1.0)\n",
    "w3.set_t(1.0)\n",
    "w4.set_t(1.0)\n",
    "w5.set_t(1.0)\n",
    "w6.set_t(1.0)\n",
    "print(w1.t(), w2.t(), w3.t(), w4.t(), w5.t(), w6.t())"
   ]
  },
  {
   "cell_type": "markdown",
   "metadata": {},
   "source": [
    "最後に、HDF5ファイルに`World`の状態を保存したりロードすることができます。"
   ]
  },
  {
   "cell_type": "code",
   "execution_count": 11,
   "metadata": {},
   "outputs": [],
   "source": [
    "w1.save(\"gillespie.h5\")\n",
    "w2.save(\"ode.h5\")\n",
    "w3.save(\"spatiocyte.h5\")\n",
    "w4.save(\"bd.h5\")\n",
    "w5.save(\"meso.h5\")\n",
    "w6.save(\"egfrd.h5\")\n",
    "del w1, w2, w3, w4, w5, w6"
   ]
  },
  {
   "cell_type": "code",
   "execution_count": 12,
   "metadata": {},
   "outputs": [
    {
     "name": "stdout",
     "output_type": "stream",
     "text": [
      "0.0 (1.0, 1.0, 1.0) 1.0 0 0\n",
      "0.0 (1.0, 1.0, 1.0) 1.0 0 0\n",
      "0.0 (1.0124557603503803, 1.0045894683899488, 1.0) 1.0171023940587303 0 0\n",
      "0.0 (1.0, 1.0, 1.0) 1.0 0 0\n",
      "0.0 (1.0, 1.0, 1.0) 1.0 0 0\n",
      "0.0 (1.0, 1.0, 1.0) 1.0 0 0\n"
     ]
    }
   ],
   "source": [
    "w1 = gillespie.World()\n",
    "w2 = ode.World()\n",
    "w3 = spatiocyte.World()\n",
    "w4 = bd.World()\n",
    "w5 = meso.World()\n",
    "w6 = egfrd.World()\n",
    "print(w1.t(), tuple(w1.edge_lengths()), w1.volume(), w1.num_molecules(Species(\"A\")), w1.num_molecules(Species(\"B\")))\n",
    "print(w2.t(), tuple(w2.edge_lengths()), w2.volume(), w2.num_molecules(Species(\"A\")), w2.num_molecules(Species(\"B\")))\n",
    "print(w3.t(), tuple(w3.edge_lengths()), w3.volume(), w3.num_molecules(Species(\"A\")), w3.num_molecules(Species(\"B\")))\n",
    "print(w4.t(), tuple(w4.edge_lengths()), w4.volume(), w4.num_molecules(Species(\"A\")), w4.num_molecules(Species(\"B\")))\n",
    "print(w5.t(), tuple(w5.edge_lengths()), w5.volume(), w5.num_molecules(Species(\"A\")), w5.num_molecules(Species(\"B\")))\n",
    "print(w6.t(), tuple(w6.edge_lengths()), w6.volume(), w6.num_molecules(Species(\"A\")), w6.num_molecules(Species(\"B\")))"
   ]
  },
  {
   "cell_type": "code",
   "execution_count": 13,
   "metadata": {},
   "outputs": [
    {
     "name": "stdout",
     "output_type": "stream",
     "text": [
      "1.0 (1.0, 2.0, 3.0) 6.0 10 15\n",
      "1.0 (1.0, 2.0, 3.0) 6.0 10 15\n",
      "1.0 (1.0124557603503803, 2.0091789367798976, 3.0) 6.102614364352381 10 15\n",
      "1.0 (1.0, 2.0, 3.0) 6.0 10 15\n",
      "1.0 (1.0, 2.0, 3.0) 6.0 10 15\n",
      "1.0 (1.0, 2.0, 3.0) 6.0 10 15\n"
     ]
    }
   ],
   "source": [
    "w1.load(\"gillespie.h5\")\n",
    "w2.load(\"ode.h5\")\n",
    "w3.load(\"spatiocyte.h5\")\n",
    "w4.load(\"bd.h5\")\n",
    "w5.load(\"meso.h5\")\n",
    "w6.load(\"egfrd.h5\")\n",
    "print(w1.t(), tuple(w1.edge_lengths()), w1.volume(), w1.num_molecules(Species(\"A\")), w1.num_molecules(Species(\"B\")))\n",
    "print(w2.t(), tuple(w2.edge_lengths()), w2.volume(), w2.num_molecules(Species(\"A\")), w2.num_molecules(Species(\"B\")))\n",
    "print(w3.t(), tuple(w3.edge_lengths()), w3.volume(), w3.num_molecules(Species(\"A\")), w3.num_molecules(Species(\"B\")))\n",
    "print(w4.t(), tuple(w4.edge_lengths()), w4.volume(), w4.num_molecules(Species(\"A\")), w4.num_molecules(Species(\"B\")))\n",
    "print(w5.t(), tuple(w5.edge_lengths()), w5.volume(), w5.num_molecules(Species(\"A\")), w5.num_molecules(Species(\"B\")))\n",
    "print(w6.t(), tuple(w6.edge_lengths()), w6.volume(), w6.num_molecules(Species(\"A\")), w6.num_molecules(Species(\"B\")))\n",
    "del w1, w2, w3, w4, w5, w6"
   ]
  },
  {
   "cell_type": "markdown",
   "metadata": {
    "collapsed": true
   },
   "source": [
    "すべてのWorldクラスでは、コンストラクターの唯一の引数としてHDF5ファイルパスも使用できます。\n"
   ]
  },
  {
   "cell_type": "code",
   "execution_count": 14,
   "metadata": {},
   "outputs": [
    {
     "name": "stdout",
     "output_type": "stream",
     "text": [
      "1.0\n",
      "1.0\n",
      "1.0\n",
      "1.0\n",
      "1.0\n",
      "1.0\n"
     ]
    }
   ],
   "source": [
    "print(gillespie.World(\"gillespie.h5\").t())\n",
    "print(ode.World(\"ode.h5\").t())\n",
    "print(spatiocyte.World(\"spatiocyte.h5\").t())\n",
    "print(bd.World(\"bd.h5\").t())\n",
    "print(meso.World(\"meso.h5\").t())\n",
    "print(egfrd.World(\"egfrd.h5\").t())"
   ]
  },
  {
   "cell_type": "markdown",
   "metadata": {},
   "source": [
    "## 3.2. 分子の位置を取得する方法"
   ]
  },
  {
   "cell_type": "markdown",
   "metadata": {},
   "source": [
    "World には、分子の座標にアクセスする共通の機能もあります。"
   ]
  },
  {
   "cell_type": "code",
   "execution_count": 15,
   "metadata": {},
   "outputs": [],
   "source": [
    "w1 = gillespie.World()\n",
    "w2 = ode.World()\n",
    "w3 = spatiocyte.World()\n",
    "w4 = bd.World()\n",
    "w5 = meso.World()\n",
    "w6 = egfrd.World()"
   ]
  },
  {
   "cell_type": "markdown",
   "metadata": {},
   "source": [
    "まず、new_particleを使って特定の位置に分子を置くことができます。"
   ]
  },
  {
   "cell_type": "code",
   "execution_count": 16,
   "metadata": {},
   "outputs": [],
   "source": [
    "sp1 = Species(\"A\", 0.0025, 1)\n",
    "pos = Real3(0.5, 0.5, 0.5)\n",
    "(pid1, p1), suc1 = w1.new_particle(sp1, pos)\n",
    "(pid2, p2), suc2 = w2.new_particle(sp1, pos)\n",
    "pid3 = w3.new_particle(sp1, pos)\n",
    "(pid4, p4), suc4 = w4.new_particle(sp1, pos)\n",
    "(pid5, p5), suc5 = w5.new_particle(sp1, pos)\n",
    "(pid6, p6), suc6 = w6.new_particle(sp1, pos)"
   ]
  },
  {
   "cell_type": "markdown",
   "metadata": {},
   "source": [
    "new_particleは作成されたパーティクルとそれが成功したかどうかを返します。\n",
    "分子の表現における分解能は異なっています。\n",
    "たとえば、`gillespie.World` には分子の座標に関する情報はほとんどありません。\n",
    "それ故 `gillespie.World` は与えられた位置を無視し、分子の数をカウントアップすることのみ行います。\n",
    "\n",
    "`ParticleID` は `lot` と `serial` と名付けられた `Integer` のペアになります。"
   ]
  },
  {
   "cell_type": "code",
   "execution_count": 17,
   "metadata": {},
   "outputs": [
    {
     "name": "stdout",
     "output_type": "stream",
     "text": [
      "0 1\n",
      "True\n"
     ]
    }
   ],
   "source": [
    "print(pid6.lot(), pid6.serial())\n",
    "print(pid6 == ParticleID((0, 1)))"
   ]
  },
  {
   "cell_type": "markdown",
   "metadata": {
    "collapsed": true
   },
   "source": [
    "パーティクルシミュレータ、すなわちspatiocyte、bdおよびegfrdは、idでパーティクルにアクセスするためのインターフェイスを提供しています。\n",
    "`has_particle` は、指定された `ParticleID` に対してパーティクルが存在するかどうかを返します。"
   ]
  },
  {
   "cell_type": "code",
   "execution_count": 18,
   "metadata": {},
   "outputs": [
    {
     "name": "stdout",
     "output_type": "stream",
     "text": [
      "True\n",
      "True\n",
      "True\n"
     ]
    }
   ],
   "source": [
    "# print(w1.has_particle(pid1))\n",
    "# print(w2.has_particle(pid2))\n",
    "print(w3.has_particle(pid3))  # => True\n",
    "print(w4.has_particle(pid4))  # => True\n",
    "# print(w5.has_particle(pid5))\n",
    "print(w6.has_particle(pid6))  # => True"
   ]
  },
  {
   "cell_type": "markdown",
   "metadata": {},
   "source": [
    "存在するかをチェックした後で、次のように `get_particle` でパーティクルを取得できます。"
   ]
  },
  {
   "cell_type": "code",
   "execution_count": 19,
   "metadata": {},
   "outputs": [],
   "source": [
    "# pid1, p1 = w1.get_particle(pid1)\n",
    "# pid2, p2 = w2.get_particle(pid2)\n",
    "pid3, p3 = w3.get_particle(pid3)\n",
    "pid4, p4 = w4.get_particle(pid4)\n",
    "# pid5, p5 = w5.get_particle(pid5)\n",
    "pid6, p6 = w6.get_particle(pid6)"
   ]
  },
  {
   "cell_type": "markdown",
   "metadata": {},
   "source": [
    "`Particle` は `species`, `position`, `radius` そして `D`(拡散係数) からなります。"
   ]
  },
  {
   "cell_type": "code",
   "execution_count": 20,
   "metadata": {},
   "outputs": [
    {
     "name": "stdout",
     "output_type": "stream",
     "text": [
      "A (0.5062278801751902, 0.5080682368868706, 0.5) 0.0025 1.0\n",
      "A (0.5, 0.5, 0.5) 0.0025 1.0\n",
      "A (0.5, 0.5, 0.5) 0.0025 1.0\n"
     ]
    }
   ],
   "source": [
    "# print(p1.species().serial(), tuple(p1.position()), p1.radius(), p1.D())\n",
    "# print(p2.species().serial(), tuple(p2.position()), p2.radius(), p2.D())\n",
    "print(p3.species().serial(), tuple(p3.position()), p3.radius(), p3.D())\n",
    "print(p4.species().serial(), tuple(p4.position()), p4.radius(), p4.D())\n",
    "# print(p5.species().serial(), tuple(p5.position()), p5.radius(), p5.D())\n",
    "print(p6.species().serial(), tuple(p6.position()), p6.radius(), p6.D())"
   ]
  },
  {
   "cell_type": "markdown",
   "metadata": {},
   "source": [
    "Spatiocyteの場合、粒子の位置は与えられた位置に最も近いボクセルの中心に自動的に丸められます。\n",
    "\n",
    "パーティクルの位置を移動させることもできます。\n",
    "`update_particle` は指定された `ParticleID` で指定されたパーティクルを指定された `Particle` に置き換え、Falseを返します。\n",
    "`ParticleID` に対応するパーティクルが見つからない場合は、新しいパーティクルを作成してTrueを返します。\n",
    "異なるタイプの `Species` でパーティクルを与えると、パーティクルの `Species` も変更されます。"
   ]
  },
  {
   "cell_type": "code",
   "execution_count": 21,
   "metadata": {},
   "outputs": [
    {
     "name": "stdout",
     "output_type": "stream",
     "text": [
      "False\n",
      "False\n",
      "False\n"
     ]
    }
   ],
   "source": [
    "newp = Particle(sp1, Real3(0.3, 0.3, 0.3), 0.0025, 1)\n",
    "# print(w1.update_particle(pid1, newp))\n",
    "# print(w2.update_particle(pid2, newp))\n",
    "print(w3.update_particle(pid3, newp))\n",
    "print(w4.update_particle(pid4, newp))\n",
    "# print(w5.update_particle(pid5, newp))\n",
    "print(w6.update_particle(pid6, newp))"
   ]
  },
  {
   "cell_type": "markdown",
   "metadata": {},
   "source": [
    "`list_particles` と `list_particles_exact` は、`World` の `ParticleID` と `Particle` のペアのリストを返します。"
   ]
  },
  {
   "cell_type": "code",
   "execution_count": 22,
   "metadata": {},
   "outputs": [
    {
     "name": "stdout",
     "output_type": "stream",
     "text": [
      "[(<ecell4_base.core.ParticleID object at 0x15147ed6f870>, <ecell4_base.core.Particle object at 0x15147ed6f9a8>)]\n",
      "[(<ecell4_base.core.ParticleID object at 0x15147ed6f870>, <ecell4_base.core.Particle object at 0x15147ed6f8e8>)]\n",
      "[(<ecell4_base.core.ParticleID object at 0x15147ed6f870>, <ecell4_base.core.Particle object at 0x15147ed6f930>)]\n",
      "[(<ecell4_base.core.ParticleID object at 0x15147ed6f870>, <ecell4_base.core.Particle object at 0x15147ed6f9a8>)]\n",
      "[(<ecell4_base.core.ParticleID object at 0x15147ed6f870>, <ecell4_base.core.Particle object at 0x15147ed6f8e8>)]\n"
     ]
    }
   ],
   "source": [
    "print(w1.list_particles_exact(sp1))\n",
    "# print(w2.list_particles_exact(sp1))  # ode.World has no member named list_particles\n",
    "print(w3.list_particles_exact(sp1))\n",
    "print(w4.list_particles_exact(sp1))\n",
    "print(w5.list_particles_exact(sp1))\n",
    "print(w6.list_particles_exact(sp1))"
   ]
  },
  {
   "cell_type": "markdown",
   "metadata": {},
   "source": [
    "`remove_particle`を使用して特定のパーティクルを削除することもできます。"
   ]
  },
  {
   "cell_type": "code",
   "execution_count": 23,
   "metadata": {},
   "outputs": [
    {
     "name": "stdout",
     "output_type": "stream",
     "text": [
      "False\n",
      "False\n",
      "False\n"
     ]
    }
   ],
   "source": [
    "# w1.remove_particle(pid1)\n",
    "# w2.remove_particle(pid2)\n",
    "w3.remove_particle(pid3)\n",
    "w4.remove_particle(pid4)\n",
    "# w5.remove_particle(pid5)\n",
    "w6.remove_particle(pid6)\n",
    "# print(w1.has_particle(pid1))\n",
    "# print(w2.has_particle(pid2))\n",
    "print(w3.has_particle(pid3))  # => False\n",
    "print(w4.has_particle(pid4))  # => False\n",
    "# print(w5.has_particle(pid5))\n",
    "print(w6.has_particle(pid6))  # => False"
   ]
  },
  {
   "cell_type": "markdown",
   "metadata": {
    "collapsed": true
   },
   "source": [
    "## 3.3. Lattice シミュレータでの座標情報\n",
    "\n",
    "共通のインターフェースに加えて、各`World`は独自のインターフェースを持つことができます。\n",
    "ここでは、`Lattice` シミュレータで格子ベースの座標を扱う方法を例として説明します。\n",
    "`spatiocyte.World`は、六方最密充填格子で構成される `LatticeSpace` に離散化された空間に基づいています。\n"
   ]
  },
  {
   "cell_type": "code",
   "execution_count": 24,
   "metadata": {},
   "outputs": [],
   "source": [
    "w = spatiocyte.World(Real3(1, 2, 3), voxel_radius=0.01)\n",
    "w.bind_to(m)"
   ]
  },
  {
   "cell_type": "markdown",
   "metadata": {},
   "source": [
    "`Voxel` と呼ばれる単一の格子のサイズは、`voxel_radius` メソッドによって取得できます。\n",
    "`spatiocyte.World` には、行数、列数、およびレイヤ数を取得するメソッドがあります。\n",
    "これらのサイズは、World構築時に与えられた `edge_lengths` に基づいて自動的に計算されます。\n"
   ]
  },
  {
   "cell_type": "code",
   "execution_count": 25,
   "metadata": {},
   "outputs": [
    {
     "name": "stdout",
     "output_type": "stream",
     "text": [
      "0.01\n",
      "(64, 152, 118)\n",
      "1147904\n"
     ]
    }
   ],
   "source": [
    "print(w.voxel_radius())  # => 0.01\n",
    "print(tuple(w.shape()))  # => (64, 152, 118)\n",
    "# print(w.col_size(), w.row_size(), w.layer_size())  # => (64, 152, 118)\n",
    "print(w.size())  # => 1147904 = 64 * 152 * 118"
   ]
  },
  {
   "cell_type": "markdown",
   "metadata": {
    "collapsed": true
   },
   "source": [
    "格子ベースの空間内の位置は、グローバル座標と呼ばれる`Integer3` (列、行および層)として扱われます。\n",
    "このようにして、`spatiocyte.World` は、`Real3`を格子ベースの座標に変換する機能を提供します。\n"
   ]
  },
  {
   "cell_type": "code",
   "execution_count": 26,
   "metadata": {},
   "outputs": [],
   "source": [
    "# p1 = Real3(0.5, 0.5, 0.5)\n",
    "# g1 = w.position2global(p1)\n",
    "# p2 = w.global2position(g1)\n",
    "# print(tuple(g1))  # => (31, 25, 29)\n",
    "# print(tuple(p2))  # => (0.5062278801751902, 0.5080682368868706, 0.5)"
   ]
  },
  {
   "cell_type": "markdown",
   "metadata": {},
   "source": [
    "`spatiocyte.World`では、グローバル座標は単一の整数に変換されます。 それは単に座標と呼ばれています。\n",
    "グローバル座標で同じ方法で座標を扱うこともできます。\n"
   ]
  },
  {
   "cell_type": "code",
   "execution_count": 27,
   "metadata": {},
   "outputs": [],
   "source": [
    "# p1 = Real3(0.5, 0.5, 0.5)\n",
    "# c1 = w.position2coordinate(p1)\n",
    "# p2 = w.coordinate2position(c1)\n",
    "# g1 = w.coord2global(c1)\n",
    "# print(c1)  # => 278033\n",
    "# print(tuple(p2))  # => (0.5062278801751902, 0.5080682368868706, 0.5)\n",
    "# print(tuple(g1))  # => (31, 25, 29)"
   ]
  },
  {
   "cell_type": "markdown",
   "metadata": {},
   "source": [
    "これらの座標を使用すると、Particleオブジェクトを表す `Voxel` を処理できます。\n",
    "`new_particle`の代わりに、`new_voxel`は新しいボクセルを座標で作成する方法を提供します。\n"
   ]
  },
  {
   "cell_type": "code",
   "execution_count": 28,
   "metadata": {},
   "outputs": [],
   "source": [
    "# c1 = w.position2coordinate(Real3(0.5, 0.5, 0.5))\n",
    "# ((pid, v), is_succeeded) = w.new_voxel(Species(\"A\"), c1)\n",
    "# print(pid, v, is_succeeded)"
   ]
  },
  {
   "cell_type": "markdown",
   "metadata": {},
   "source": [
    "`Voxel` は、`species`、座標、半径および`D` からなります。"
   ]
  },
  {
   "cell_type": "code",
   "execution_count": 29,
   "metadata": {},
   "outputs": [],
   "source": [
    "# print(v.species().serial(), v.coordinate(), v.radius(), v.D())  # => (u'A', 278033, 0.0025, 1.0)"
   ]
  },
  {
   "cell_type": "markdown",
   "metadata": {},
   "source": [
    "もちろん、`get_particle`と`list_particles_exact`同様に`get_voxel`と`list_voxels_exact`を使ってVoxelとVoxelのリストを取得することができます。"
   ]
  },
  {
   "cell_type": "code",
   "execution_count": 30,
   "metadata": {},
   "outputs": [],
   "source": [
    "# print(w.num_voxels_exact(Species(\"A\")))\n",
    "# print(w.list_voxels_exact(Species(\"A\")))\n",
    "# print(w.get_voxel(pid))"
   ]
  },
  {
   "cell_type": "markdown",
   "metadata": {},
   "source": [
    "`update_particle`に対応する`update_voxel`でボクセルを移動および更新することができます。"
   ]
  },
  {
   "cell_type": "code",
   "execution_count": 31,
   "metadata": {},
   "outputs": [],
   "source": [
    "# c2 = w.position2coordinate(Real3(0.5, 0.5, 1.0))\n",
    "# w.update_voxel(pid, Voxel(v.species(), c2, v.radius(), v.D()))\n",
    "# pid, newv = w.get_voxel(pid)\n",
    "# print(c2)  # => 278058\n",
    "# print(newv.species().serial(), newv.coordinate(), newv.radius(), newv.D())  # => (u'A', 278058, 0.0025, 1.0)\n",
    "# print(w.num_voxels_exact(Species(\"A\")))  # => 1"
   ]
  },
  {
   "cell_type": "markdown",
   "metadata": {},
   "source": [
    "最後に、`remove_voxel`は、`remove_particle`のようにVoxelを削除します。"
   ]
  },
  {
   "cell_type": "code",
   "execution_count": 32,
   "metadata": {},
   "outputs": [],
   "source": [
    "# print(w.has_voxel(pid))  # => True\n",
    "# w.remove_voxel(pid)\n",
    "# print(w.has_voxel(pid))  # => False"
   ]
  },
  {
   "cell_type": "markdown",
   "metadata": {
    "collapsed": true
   },
   "source": [
    "## 3.4. Structure"
   ]
  },
  {
   "cell_type": "code",
   "execution_count": 33,
   "metadata": {},
   "outputs": [],
   "source": [
    "w1 = gillespie.World()\n",
    "w2 = ode.World()\n",
    "w3 = spatiocyte.World()\n",
    "w4 = bd.World()\n",
    "w5 = meso.World()\n",
    "w6 = egfrd.World()"
   ]
  },
  {
   "cell_type": "markdown",
   "metadata": {},
   "source": [
    "`Shape`オブジェクトを使用すると、分子の**初期位置**を`World`の一部に限定できます。\n",
    "以下の場合、60個の分子が与えられた球の内部に配置されます。\n",
    "ここに置かれた分子の**拡散**は`Shape`に**制限されていません**。\n",
    "このShapeは、**初期化専用**です。"
   ]
  },
  {
   "cell_type": "code",
   "execution_count": 34,
   "metadata": {},
   "outputs": [],
   "source": [
    "sp1 = Species(\"A\", 0.0025, 1)\n",
    "sphere = Sphere(Real3(0.5, 0.5, 0.5), 0.3)\n",
    "w1.add_molecules(sp1, 60, sphere)\n",
    "w2.add_molecules(sp1, 60, sphere)\n",
    "w3.add_molecules(sp1, 60, sphere)\n",
    "w4.add_molecules(sp1, 60, sphere)\n",
    "w5.add_molecules(sp1, 60, sphere)\n",
    "w6.add_molecules(sp1, 60, sphere)"
   ]
  },
  {
   "cell_type": "markdown",
   "metadata": {},
   "source": [
    "分子の拡散を制限するためには`Species`のプロパティ、「`location`」が利用可能です。\n",
    "`location`は`spatiocyte`と`meso`でのみサポートされています。\n",
    "`add_structure`は、`Species`と`Shape`のペアとして与えられる新しい`Structure`を定義します。\n",
    "\n",
    "注意: `add_structure`を`spatiocyte` で使うためには、使用する`Species`の属性を定義したモデルを用意して`spatiocyte.World`のインスタンスに紐づけなければいけません。"
   ]
  },
  {
   "cell_type": "code",
   "execution_count": 35,
   "metadata": {},
   "outputs": [],
   "source": [
    "# The below codes defines a model and bind it to w3(spatiocyte world).\n",
    "# Here, the model contains a species 'B' for the following context.\n",
    "from ecell4 import species_attributes, get_model\n",
    "with species_attributes():\n",
    "    M | {'dimension': 2}\n",
    "    B | {'radius': 0.0025, 'D': 0.1, 'location': 'M'}\n",
    "model = get_model()\n",
    "w3.bind_to(model)\n",
    "\n",
    "membrane = SphericalSurface(Real3(0.5, 0.5, 0.5), 0.4)  # This is equivalent to call `Sphere(Real3(0.5, 0.5, 0.5), 0.4).surface()`\n",
    "w3.add_structure(Species(\"M\"), membrane)\n",
    "w5.add_structure(Species(\"M\"), membrane)"
   ]
  },
  {
   "cell_type": "markdown",
   "metadata": {},
   "source": [
    "`Structure`を定義した後、次のように分子を`Structure`にバインドできます。"
   ]
  },
  {
   "cell_type": "code",
   "execution_count": 36,
   "metadata": {},
   "outputs": [],
   "source": [
    "sp2 = Species(\"B\", 0.0025, 0.1, \"M\")  # `'location'` is the fourth argument\n",
    "w3.add_molecules(sp2, 60)\n",
    "w5.add_molecules(sp2, 60)"
   ]
  },
  {
   "cell_type": "markdown",
   "metadata": {},
   "source": [
    "`B`という名前の`Species`にバインドした分子sp2は、`SphericalSurface`（中空の球）の形をした`M`という名前の構造上に拡散します。\n",
    "Spatiocyteでは、Structureは、Species `M`が Voxelを占める粒子の集合として表されます。\n",
    "これは、Structureに属さない分子がVoxelと重なり合うことができず、衝突を引き起こすことを意味します。\n",
    "\n",
    "一方、mesoでは、Structureとはサブボリュームのリストを意味します。\n",
    "したがって、構造は他の粒子の侵入を避けることはできません。"
   ]
  },
  {
   "cell_type": "markdown",
   "metadata": {
    "collapsed": true
   },
   "source": [
    "## 3.5. Random Number Generator"
   ]
  },
  {
   "cell_type": "markdown",
   "metadata": {},
   "source": [
    "Random Number Generatorも`World`の一部です。\n",
    "`ode.World`以外のすべての`World`では、Random Number Generatorが格納されており、シミュレーションにランダムな値が必要なときに更新されます。\n",
    "E-Cell4では、Random Number Generatorとして`GSLRandomNumberGenerator`クラスが1つだけ実装されています。"
   ]
  },
  {
   "cell_type": "code",
   "execution_count": 37,
   "metadata": {},
   "outputs": [
    {
     "name": "stdout",
     "output_type": "stream",
     "text": [
      "[6, 1, 2, 6, 2, 3, 6, 5, 4, 5, 5, 4, 2, 5, 4, 2, 3, 3, 2, 2]\n"
     ]
    }
   ],
   "source": [
    "rng1 = GSLRandomNumberGenerator()\n",
    "print([rng1.uniform_int(1, 6) for _ in range(20)])"
   ]
  },
  {
   "cell_type": "markdown",
   "metadata": {},
   "source": [
    "引数を指定しない場合、Random Number Generatorは常に0のシードで初期化されます。"
   ]
  },
  {
   "cell_type": "code",
   "execution_count": 38,
   "metadata": {},
   "outputs": [
    {
     "name": "stdout",
     "output_type": "stream",
     "text": [
      "[6, 1, 2, 6, 2, 3, 6, 5, 4, 5, 5, 4, 2, 5, 4, 2, 3, 3, 2, 2]\n"
     ]
    }
   ],
   "source": [
    "rng2 = GSLRandomNumberGenerator()\n",
    "print([rng2.uniform_int(1, 6) for _ in range(20)])  # => same as above"
   ]
  },
  {
   "cell_type": "markdown",
   "metadata": {},
   "source": [
    "次のように、シードを整数で初期化することができます。"
   ]
  },
  {
   "cell_type": "code",
   "execution_count": 39,
   "metadata": {},
   "outputs": [
    {
     "name": "stdout",
     "output_type": "stream",
     "text": [
      "[6, 5, 2, 4, 1, 1, 3, 5, 2, 6, 4, 1, 2, 5, 2, 5, 1, 2, 2, 6]\n"
     ]
    }
   ],
   "source": [
    "rng2 = GSLRandomNumberGenerator()\n",
    "rng2.seed(15)\n",
    "print([rng2.uniform_int(1, 6) for _ in range(20)])"
   ]
  },
  {
   "cell_type": "markdown",
   "metadata": {},
   "source": [
    "入力なしでシード関数を呼び出すと、シードは現在時刻の情報から生み出されます。"
   ]
  },
  {
   "cell_type": "code",
   "execution_count": 40,
   "metadata": {},
   "outputs": [
    {
     "name": "stdout",
     "output_type": "stream",
     "text": [
      "[5, 2, 3, 2, 4, 1, 1, 4, 4, 3, 6, 1, 1, 6, 2, 2, 1, 6, 6, 2]\n"
     ]
    }
   ],
   "source": [
    "rng2 = GSLRandomNumberGenerator()\n",
    "rng2.seed()\n",
    "print([rng2.uniform_int(1, 6) for _ in range(20)])"
   ]
  },
  {
   "cell_type": "markdown",
   "metadata": {},
   "source": [
    "`GSLRandomNumberGenerator`は、乱数を得るためのいくつかの方法を提供します。"
   ]
  },
  {
   "cell_type": "code",
   "execution_count": 41,
   "metadata": {},
   "outputs": [
    {
     "name": "stdout",
     "output_type": "stream",
     "text": [
      "0.03033520421013236\n",
      "33\n",
      "0.8935555455208181\n"
     ]
    }
   ],
   "source": [
    "print(rng1.uniform(0.0, 1.0))\n",
    "print(rng1.uniform_int(0, 100))\n",
    "print(rng1.gaussian(1.0))"
   ]
  },
  {
   "cell_type": "markdown",
   "metadata": {},
   "source": [
    "`World`は、構築時にRandom Number Generatorを受け入れます。\n",
    "デフォルトでは、`GSLRandomNumberGenerator()`が使用されます。\n",
    "そのため、Generatorを与えないと、シミュレーションの振る舞いは常に同じです（これをdeterminisiticと呼びます）。"
   ]
  },
  {
   "cell_type": "code",
   "execution_count": 42,
   "metadata": {},
   "outputs": [],
   "source": [
    "rng = GSLRandomNumberGenerator()\n",
    "rng.seed()\n",
    "w1 = gillespie.World(Real3(1, 1, 1), rng=rng)"
   ]
  },
  {
   "cell_type": "markdown",
   "metadata": {},
   "source": [
    "`World`中の`GSLRandomNumberGenerator`へは`rng`関数を使ってアクセスできます。"
   ]
  },
  {
   "cell_type": "code",
   "execution_count": 43,
   "metadata": {},
   "outputs": [
    {
     "name": "stdout",
     "output_type": "stream",
     "text": [
      "0.6735069081187248\n"
     ]
    }
   ],
   "source": [
    "print(w1.rng().uniform(0.0, 1.0))"
   ]
  },
  {
   "cell_type": "markdown",
   "metadata": {},
   "source": [
    "`rng()`は、`GSLRandomNumberGenerator`への共有ポインタを返します。\n",
    "したがって、上記の例では、`rng`と`w1.rng()`は全く同じことを指しています。"
   ]
  }
 ],
 "metadata": {
  "kernelspec": {
   "display_name": "Python 3",
   "language": "python",
   "name": "python3"
  },
  "language_info": {
   "codemirror_mode": {
    "name": "ipython",
    "version": 3
   },
   "file_extension": ".py",
   "mimetype": "text/x-python",
   "name": "python",
   "nbconvert_exporter": "python",
   "pygments_lexer": "ipython3",
   "version": "3.7.3"
  }
 },
 "nbformat": 4,
 "nbformat_minor": 2
}
