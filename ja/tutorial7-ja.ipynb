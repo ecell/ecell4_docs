{
 "cells": [
  {
   "cell_type": "markdown",
   "metadata": {},
   "source": [
    "# 7. ルールベースモデリング入門\n",
    "\n",
    "E-Cell4は、ルールベースモデリング環境を提供します。\n"
   ]
  },
  {
   "cell_type": "code",
   "execution_count": 1,
   "metadata": {},
   "outputs": [],
   "source": [
    "%matplotlib inline\n",
    "from ecell4 import *\n",
    "from ecell4_base import *\n",
    "from ecell4_base.core import *"
   ]
  },
  {
   "cell_type": "markdown",
   "metadata": {},
   "source": [
    "## 7.1. count_species_matches\n",
    "\n",
    "まず、`Species`は`count`関数を提供します。\n",
    "\n",
    "`count_species_matches` は `Species` の間でマッチした数を数えます。\n"
   ]
  },
  {
   "cell_type": "code",
   "execution_count": 2,
   "metadata": {},
   "outputs": [
    {
     "name": "stdout",
     "output_type": "stream",
     "text": [
      "1\n",
      "2\n"
     ]
    }
   ],
   "source": [
    "sp1 = Species(\"A(b^1).B(b^1)\")\n",
    "sp2 = Species(\"A(b^1).A(b^1)\")\n",
    "pttrn1 = Species(\"A\")\n",
    "print(count_species_matches(pttrn1, sp1))  # => 1\n",
    "print(count_species_matches(pttrn1, sp2))  # => 2"
   ]
  },
  {
   "cell_type": "markdown",
   "metadata": {},
   "source": [
    "上記の場合、`count_species_matches`はサイトには関係なく `Species` の `A` という名前の `UnitSpecies` の数を返します。\n",
    "結合の有無の状態を明確にする場合は下記のようになります。\n"
   ]
  },
  {
   "cell_type": "code",
   "execution_count": 3,
   "metadata": {},
   "outputs": [
    {
     "name": "stdout",
     "output_type": "stream",
     "text": [
      "0\n",
      "1\n"
     ]
    }
   ],
   "source": [
    "pttrn1 = Species(\"A(b)\")\n",
    "pttrn2 = Species(\"A(b^_)\")\n",
    "print(count_species_matches(pttrn1, sp1))  # => 0\n",
    "print(count_species_matches(pttrn2, sp1))  # => 1"
   ]
  },
  {
   "cell_type": "markdown",
   "metadata": {},
   "source": [
    "ここで`A(b)`は結合`b`が空いていることを示唆し、`A(b^_)`は結合`b`が有ることを意味します。\n",
    "アンダースコア `_`はワイルドカードを意味します。\n",
    "同様に、サイトの状態を指定することもできます。\n"
   ]
  },
  {
   "cell_type": "code",
   "execution_count": 4,
   "metadata": {},
   "outputs": [
    {
     "name": "stdout",
     "output_type": "stream",
     "text": [
      "1\n",
      "1\n"
     ]
    }
   ],
   "source": [
    "sp1 = Species(\"A(b=u)\")\n",
    "pttrn1 = Species(\"A(b)\")\n",
    "pttrn2 = Species(\"A(b=u)\")\n",
    "print(count_species_matches(pttrn1, sp1))  # => 1\n",
    "print(count_species_matches(pttrn2, sp1))  # => 1"
   ]
  },
  {
   "cell_type": "markdown",
   "metadata": {},
   "source": [
    "`A(b)`は状態については何も言いませんが、 `A(b=u)`は状態と結合の両方をその分子の条件として明記します。\n",
    "`A(b=u)`は、`A`という名前の `UnitSpecies`が状態が`u`で結合が空である `b`というサイトを持つことを意味します。 ワイルドカード `_`は状態と名前両方で用いることが可能です。\n"
   ]
  },
  {
   "cell_type": "code",
   "execution_count": 5,
   "metadata": {},
   "outputs": [
    {
     "name": "stdout",
     "output_type": "stream",
     "text": [
      "1\n",
      "2\n"
     ]
    }
   ],
   "source": [
    "sp1 = Species(\"A(b=u^1).B(b=p^1)\")\n",
    "pttrn1 = Species(\"A(b=_^_)\")  # This is equivalent to `A(b^_)` here\n",
    "pttrn2 = Species(\"_(b^_)\")\n",
    "print(count_species_matches(pttrn1, sp1))  # => 1\n",
    "print(count_species_matches(pttrn2, sp1))  # => 2"
   ]
  },
  {
   "cell_type": "markdown",
   "metadata": {},
   "source": [
    "ワイルドカード `_` は何にでもマッチし、マッチしたパターンは `Species` でもワイルドカード間で一貫しません。\n",
    "\n",
    "一方、名前付きのワイルドカード `_1` 、`_2` などは、マッチ内の一貫性を与えます。\n"
   ]
  },
  {
   "cell_type": "code",
   "execution_count": 6,
   "metadata": {},
   "outputs": [
    {
     "name": "stdout",
     "output_type": "stream",
     "text": [
      "2\n",
      "0\n"
     ]
    }
   ],
   "source": [
    "sp1 = Species(\"A(b^1).B(b^1)\")\n",
    "pttrn1 = Species(\"_._\")\n",
    "pttrn2 = Species(\"_1._1\")\n",
    "print(count_species_matches(pttrn1, sp1))  # => 2\n",
    "print(count_species_matches(pttrn2, sp1))  # => 0"
   ]
  },
  {
   "cell_type": "markdown",
   "metadata": {},
   "source": [
    "最初のパターンは2つの方法（`A.B` と `B.A`）でマッチしますが、2番目のパターンは何もマッチしません。\n",
    "\n",
    "`count_species_matches`は対称の場合でも常に `UnitSpecies` の順序を区別します。\n",
    "したがって、 `_1._1` は二量体の数を意味しません。\n"
   ]
  },
  {
   "cell_type": "code",
   "execution_count": 7,
   "metadata": {},
   "outputs": [
    {
     "name": "stdout",
     "output_type": "stream",
     "text": [
      "2\n"
     ]
    }
   ],
   "source": [
    "sp1 = Species(\"A(b^1).A(b^1)\")\n",
    "pttrn1 = Species(\"_1._1\")\n",
    "print(count_species_matches(pttrn1, sp1))  # => 2"
   ]
  },
  {
   "cell_type": "markdown",
   "metadata": {},
   "source": [
    "## 7.2. ReactionRule.count と ReactionRule.generate\n",
    "\n",
    "`ReactionRule` はまた、与えられたreactantsのリストとのマッチ数をカウントする機能を持っています。\n"
   ]
  },
  {
   "cell_type": "code",
   "execution_count": 8,
   "metadata": {},
   "outputs": [
    {
     "name": "stdout",
     "output_type": "stream",
     "text": [
      "1\n"
     ]
    }
   ],
   "source": [
    "rr1 = create_unimolecular_reaction_rule(Species(\"A(p=u)\"), Species(\"A(p=p)\"), 1.0)\n",
    "sp1 = Species(\"A(b^1,p=u).B(b^1)\")\n",
    "print(rr1.count([sp1]))  # => 1"
   ]
  },
  {
   "cell_type": "markdown",
   "metadata": {},
   "source": [
    "`ReactionRule.generate` は、マッチ情報に基づいて生成された `ReactionRule` のリストを返します。\n"
   ]
  },
  {
   "cell_type": "code",
   "execution_count": 9,
   "metadata": {},
   "outputs": [
    {
     "name": "stdout",
     "output_type": "stream",
     "text": [
      "['A(b^1,p=u).B(b^1)>A(b^1,p=p).B(b^1)|1']\n"
     ]
    }
   ],
   "source": [
    "print([rr.as_string() for rr in rr1.generate([sp1])])"
   ]
  },
  {
   "cell_type": "markdown",
   "metadata": {
    "collapsed": true
   },
   "source": [
    "`ReactionRule.generate` は与えられたリストの中の` Species` の順番で結果が違ってきます：\n"
   ]
  },
  {
   "cell_type": "code",
   "execution_count": 10,
   "metadata": {},
   "outputs": [
    {
     "name": "stdout",
     "output_type": "stream",
     "text": [
      "['A(b)+B(b)>A(b^1).B(b^1)|1']\n",
      "[]\n"
     ]
    }
   ],
   "source": [
    "rr1 = create_binding_reaction_rule(Species(\"A(b)\"), Species(\"B(b)\"), Species(\"A(b^1).B(b^1)\"), 1.0)\n",
    "sp1 = Species(\"A(b)\")\n",
    "sp2 = Species(\"B(b)\")\n",
    "print([rr.as_string() for rr in rr1.generate([sp1, sp2])])\n",
    "print([rr.as_string() for rr in rr1.generate([sp2, sp1])])"
   ]
  },
  {
   "cell_type": "markdown",
   "metadata": {},
   "source": [
    "現在の実装では、 `ReactionRule.generate` は常に一意の `ReactionRule` のリストを返すわけではありません。\n"
   ]
  },
  {
   "cell_type": "code",
   "execution_count": 11,
   "metadata": {},
   "outputs": [
    {
     "name": "stdout",
     "output_type": "stream",
     "text": [
      "4\n",
      "['A(b,c^1).A(b,c^1)+B(b,c^1).B(b,c^1)>A(b^1,c^2).A(b,c^2).B(b^1,c^3).B(b,c^3)|1', 'A(b,c^1).A(b,c^1)+B(b,c^1).B(b,c^1)>A(b^1,c^2).A(b,c^2).B(b,c^3).B(b^1,c^3)|1', 'A(b,c^1).A(b,c^1)+B(b,c^1).B(b,c^1)>A(b,c^1).A(b^2,c^1).B(b^2,c^3).B(b,c^3)|1', 'A(b,c^1).A(b,c^1)+B(b,c^1).B(b,c^1)>A(b,c^1).A(b^2,c^1).B(b,c^3).B(b^2,c^3)|1']\n"
     ]
    }
   ],
   "source": [
    "sp1 = Species(\"A(b,c^1).A(b,c^1)\")\n",
    "sp2 = Species(\"B(b,c^1).B(b,c^1)\")\n",
    "print(rr1.count([sp1, sp2]))  # => 4\n",
    "print([rr.as_string() for rr in rr1.generate([sp1, sp2])])"
   ]
  },
  {
   "cell_type": "markdown",
   "metadata": {},
   "source": [
    "上に挙げた `ReactionRules` は異なって見えますが、すべての結果は同じことを示しています。\n"
   ]
  },
  {
   "cell_type": "code",
   "execution_count": 12,
   "metadata": {},
   "outputs": [
    {
     "name": "stdout",
     "output_type": "stream",
     "text": [
      "{'A(b,c^1).A(b^2,c^1).B(b^2,c^3).B(b,c^3)'}\n"
     ]
    }
   ],
   "source": [
    "print(set([format_species(rr.products()[0]).serial() for rr in rr1.generate([sp1, sp2])]))"
   ]
  },
  {
   "cell_type": "markdown",
   "metadata": {},
   "source": [
    "これは、これらの `ReactionRule` は、同じ `Species` を生成するとはいえ、異なるマッチ情報に基づいて生成されるために起こります。\n",
    "\n",
    "詳細については、以下のセクションを参照してください。\n",
    "\n",
    "ワイルドカードは `ReactionRule` でも利用できます。\n"
   ]
  },
  {
   "cell_type": "code",
   "execution_count": 13,
   "metadata": {},
   "outputs": [
    {
     "name": "stdout",
     "output_type": "stream",
     "text": [
      "['A(p=u^1).B(p^1)>A(p=p^1).B(p^1)|1']\n"
     ]
    }
   ],
   "source": [
    "rr1 = create_unimolecular_reaction_rule(Species(\"A(p=u^_)\"), Species(\"A(p=p^_)\"), 1.0)\n",
    "print([rr.as_string() for rr in rr1.generate([Species(\"A(p=u^1).B(p^1)\")])])"
   ]
  },
  {
   "cell_type": "markdown",
   "metadata": {},
   "source": [
    "もちろん、ワイルドカードは `UnitSpecies`の名前として受け入れられます。\n"
   ]
  },
  {
   "cell_type": "code",
   "execution_count": 14,
   "metadata": {},
   "outputs": [
    {
     "name": "stdout",
     "output_type": "stream",
     "text": [
      "['A(p=u)>A(p=p)|1']\n",
      "['B(b^1,p=u).C(b^1,p=u)>B(b^1,p=p).C(b^1,p=u)|1', 'B(b^1,p=u).C(b^1,p=u)>B(b^1,p=u).C(b^1,p=p)|1']\n"
     ]
    }
   ],
   "source": [
    "rr1 = create_unimolecular_reaction_rule(Species(\"_(p=u)\"), Species(\"_(p=p)\"), 1.0)\n",
    "print([rr.as_string() for rr in rr1.generate([Species(\"A(p=u)\")])])\n",
    "print([rr.as_string() for rr in rr1.generate([Species(\"B(b^1,p=u).C(b^1,p=u)\")])])"
   ]
  },
  {
   "cell_type": "markdown",
   "metadata": {},
   "source": [
    "State中での名前付きワイルドカードは、サイト間の対応を指定するのに便利です。\n"
   ]
  },
  {
   "cell_type": "code",
   "execution_count": 15,
   "metadata": {},
   "outputs": [
    {
     "name": "stdout",
     "output_type": "stream",
     "text": [
      "['AB(a=x, b=y)>B(b=y)+A(a=x)|1']\n",
      "['AB(a=y, b=x)>B(b=x)+A(a=y)|1']\n"
     ]
    }
   ],
   "source": [
    "rr1 = create_unbinding_reaction_rule(Species(\"AB(a=_1, b=_2)\"), Species(\"B(b=_2)\"), Species(\"A(a=_1)\"), 1.0)\n",
    "print([rr.as_string() for rr in rr1.generate([Species(\"AB(a=x, b=y)\")])])\n",
    "print([rr.as_string() for rr in rr1.generate([Species(\"AB(a=y, b=x)\")])])"
   ]
  },
  {
   "cell_type": "markdown",
   "metadata": {},
   "source": [
    "無名ワイルドカード `_` は、マッチの間の等価性を気にしません。\n",
    "\n",
    "`Products` は順番に生成されます。\n"
   ]
  },
  {
   "cell_type": "code",
   "execution_count": 16,
   "metadata": {},
   "outputs": [
    {
     "name": "stdout",
     "output_type": "stream",
     "text": [
      "_(b)+_(b)>_(b^1)._(b^1)|1\n",
      "['A(b)+A(b)>A(b^1).A(b^1)|1']\n",
      "['A(b)+B(b)>A(b^1).B(b^1)|1']\n"
     ]
    }
   ],
   "source": [
    "rr1 = create_binding_reaction_rule(Species(\"_(b)\"), Species(\"_(b)\"), Species(\"_(b^1)._(b^1)\"), 1.0)\n",
    "print(rr1.as_string())\n",
    "print([rr.as_string() for rr in rr1.generate([Species(\"A(b)\"), Species(\"A(b)\")])])\n",
    "print([rr.as_string() for rr in rr1.generate([Species(\"A(b)\"), Species(\"B(b)\")])])"
   ]
  },
  {
   "cell_type": "markdown",
   "metadata": {},
   "source": [
    "その対称性のために、上記のセルの前者の場合は元の反応速度の半分となるように設定されることが望ましい場合があります。\n",
    "\n",
    "これは 後者の分子の組み合わせの数は $n^2$ ではありますが，前者の分子の組み合わせの数が $n(n-1)/2$ であるためです。 (ここでAとBの両方の分子の数は $n$ です。)\n",
    "またこれは `gillespie` と `ode` に当てはまります。 しかし、`egfrd` と `spatiocyte` では、反応速度は固有のものであり、組み合わせの数には影響されません (したがって、E-Cell4では、その場合でも速度の変更は行われません。)。\n",
    "\n",
    "アルゴリズムの違いについては、 [Homodimerization and Annihilation](../../Tests/Homodimerization_and_Annihilation.ipynb) を参照してください。\n",
    "\n",
    "名前のないワイルドカードとは対照的に、名前付けされたワイルドカードは名前付けされたワイルドカード同士での整合性を保持し、 `ReactionRule` で常に同じ値を示します。\n"
   ]
  },
  {
   "cell_type": "code",
   "execution_count": 17,
   "metadata": {},
   "outputs": [
    {
     "name": "stdout",
     "output_type": "stream",
     "text": [
      "_1(b)+_1(b)>_1(b^1)._1(b^1)|1\n",
      "['A(b)+A(b)>A(b^1).A(b^1)|1']\n",
      "[]\n"
     ]
    }
   ],
   "source": [
    "rr1 = create_binding_reaction_rule(Species(\"_1(b)\"), Species(\"_1(b)\"), Species(\"_1(b^1)._1(b^1)\"), 1.0)\n",
    "print(rr1.as_string())\n",
    "print([rr.as_string() for rr in rr1.generate([Species(\"A(b)\"), Species(\"A(b)\")])])\n",
    "print([rr.as_string() for rr in rr1.generate([Species(\"A(b)\"), Species(\"B(b)\")])])  # => []"
   ]
  },
  {
   "cell_type": "markdown",
   "metadata": {},
   "source": [
    "名前付きのワイルドカードは、 `UnitSpecies` と `site` の名前の間でも厳密に整合性を保持しています。\n"
   ]
  },
  {
   "cell_type": "code",
   "execution_count": 18,
   "metadata": {},
   "outputs": [
    {
     "name": "stdout",
     "output_type": "stream",
     "text": [
      "A(b=_1)+_1(b)>A(b=_1^1)._1(b^1)|1\n",
      "[]\n",
      "['A(b=B)+B(b)>A(b=B^1).B(b^1)|1']\n"
     ]
    }
   ],
   "source": [
    "rr1 = create_binding_reaction_rule(Species(\"A(b=_1)\"), Species(\"_1(b)\"), Species(\"A(b=_1^1)._1(b^1)\"), 1.0)\n",
    "print(rr1.as_string())\n",
    "print([rr.as_string() for rr in rr1.generate([Species(\"A(b=B)\"), Species(\"A(b)\")])])  # => []\n",
    "print([rr.as_string() for rr in rr1.generate([Species(\"A(b=B)\"), Species(\"B(b)\")])])"
   ]
  },
  {
   "cell_type": "markdown",
   "metadata": {},
   "source": [
    "## 7.3. NetfreeModel\n",
    "\n",
    "`NetfreeModel`はルールベースモデリングのための` Model`クラスです。\n",
    "\n",
    "`NetfreeModel` のインターフェースは `NetworkModel` とほぼ同じですが、ルールとマッチを考慮しています。\n"
   ]
  },
  {
   "cell_type": "code",
   "execution_count": 19,
   "metadata": {},
   "outputs": [
    {
     "name": "stdout",
     "output_type": "stream",
     "text": [
      "1\n",
      "1\n"
     ]
    }
   ],
   "source": [
    "rr1 = create_binding_reaction_rule(Species(\"A(r)\"), Species(\"A(l)\"), Species(\"A(r^1).A(l^1)\"), 1.0)\n",
    "\n",
    "m1 = NetfreeModel()\n",
    "m1.add_reaction_rule(rr1)\n",
    "print(m1.num_reaction_rules())\n",
    "\n",
    "m2 = NetworkModel()\n",
    "m2.add_reaction_rule(rr1)\n",
    "print(m2.num_reaction_rules())"
   ]
  },
  {
   "cell_type": "markdown",
   "metadata": {},
   "source": [
    "\n",
    "[2. モデルを構築する方法](tutorial2-ja.ipynb) で説明したPythonの表記法はここでも利用可能です。\n",
    "\n",
    "モデルを `NetfreeModel` として取得するには、`get_model` 関数で `is_netfree` オプションを `True` に設定します。\n"
   ]
  },
  {
   "cell_type": "code",
   "execution_count": 20,
   "metadata": {},
   "outputs": [
    {
     "name": "stdout",
     "output_type": "stream",
     "text": [
      "<ecell4_base.core.NetfreeModel object at 0x1492c27b5f90>\n"
     ]
    }
   ],
   "source": [
    "with reaction_rules():\n",
    "    A(r) + A(l) > A(r^1).A(l^1) | 1.0\n",
    "\n",
    "m1 = get_model(is_netfree=True)\n",
    "print(repr(m1))"
   ]
  },
  {
   "cell_type": "markdown",
   "metadata": {},
   "source": [
    "`Model.query_reaction_rules` は、与えられた反応物に対する `ReactionRule` のリストを返します。\n",
    "\n",
    "`NetworkModel` は `Species` の等価性に基づいて `ReactionRule` を返します。\n"
   ]
  },
  {
   "cell_type": "code",
   "execution_count": 21,
   "metadata": {},
   "outputs": [
    {
     "name": "stdout",
     "output_type": "stream",
     "text": [
      "1\n",
      "0\n"
     ]
    }
   ],
   "source": [
    "print(len(m2.query_reaction_rules(Species(\"A(r)\"), Species(\"A(l)\"))))  # => 1\n",
    "print(len(m2.query_reaction_rules(Species(\"A(l,r)\"), Species(\"A(l,r)\"))))  # => 0"
   ]
  },
  {
   "cell_type": "markdown",
   "metadata": {},
   "source": [
    "一方、 `NetfreeModel` は、格納された `ReactionRule` をルールベースの方法に適用することによってリストを生成します。\n"
   ]
  },
  {
   "cell_type": "code",
   "execution_count": 22,
   "metadata": {},
   "outputs": [
    {
     "name": "stdout",
     "output_type": "stream",
     "text": [
      "1\n",
      "1\n"
     ]
    }
   ],
   "source": [
    "print(len(m1.query_reaction_rules(Species(\"A(r)\"), Species(\"A(l)\"))))  # => 1\n",
    "print(len(m1.query_reaction_rules(Species(\"A(l,r)\"), Species(\"A(l,r)\"))))  # => 1"
   ]
  },
  {
   "cell_type": "markdown",
   "metadata": {},
   "source": [
    "`NetfreeModel` は生成されたオブジェクトをキャッシュしません。\n",
    "したがって、 `NetfreeModel.query_reaction_rules` は遅いですが、より少ないメモリしか必要としません。\n"
   ]
  },
  {
   "cell_type": "code",
   "execution_count": 23,
   "metadata": {},
   "outputs": [
    {
     "name": "stdout",
     "output_type": "stream",
     "text": [
      "A(l,r)+A(l,r)>A(l,r^1).A(l^1,r)|2\n",
      "A(l,r^1).A(l^1,r)+A(l,r)>A(l,r^1).A(l^1,r^2).A(l^2,r)|1\n",
      "A(l,r^1).A(l^1,r)+A(l,r^1).A(l^1,r)>A(l,r^1).A(l^1,r^2).A(l^2,r^3).A(l^3,r)|2\n"
     ]
    }
   ],
   "source": [
    "print(m1.query_reaction_rules(Species(\"A(l,r)\"), Species(\"A(l,r)\"))[0].as_string())\n",
    "print(m1.query_reaction_rules(Species(\"A(l,r^1).A(l^1,r)\"), Species(\"A(l,r)\"))[0].as_string())\n",
    "print(m1.query_reaction_rules(Species(\"A(l,r^1).A(l^1,r)\"), Species(\"A(l,r^1).A(l^1,r)\"))[0].as_string())"
   ]
  },
  {
   "cell_type": "markdown",
   "metadata": {},
   "source": [
    "`NetfreeModel.expand` は与えられたシードに対して繰り返し `Reaction Rules` を適用することによって `NetfreeModel`を` NetworkModel`に展開します。\n"
   ]
  },
  {
   "cell_type": "code",
   "execution_count": 24,
   "metadata": {},
   "outputs": [
    {
     "name": "stdout",
     "output_type": "stream",
     "text": [
      "2\n",
      "6\n",
      "['A(b)+A(b)>A(b^1).A(b^1)|1', 'A(b)+B(b)>A(b^1).B(b^1)|1', 'B(b)+B(b)>B(b^1).B(b^1)|1', 'A(b^1).A(b^1)>A(b)+A(b)|1', 'A(b^1).B(b^1)>A(b)+B(b)|1', 'B(b^1).B(b^1)>B(b)+B(b)|1']\n"
     ]
    }
   ],
   "source": [
    "with reaction_rules():\n",
    "    _(b) + _(b) == _(b^1)._(b^1) | (1.0, 1.0)\n",
    "\n",
    "m3 = get_model(True)\n",
    "print(m3.num_reaction_rules())\n",
    "\n",
    "m4 = m3.expand([Species(\"A(b)\"), Species(\"B(b)\")])\n",
    "print(m4.num_reaction_rules())\n",
    "print([rr.as_string() for rr in m4.reaction_rules()])"
   ]
  },
  {
   "cell_type": "markdown",
   "metadata": {},
   "source": [
    "展開の無限ループを避けるために、繰り返しの上限と `Species` における `UnitSpecies` の数の上限を制限することができます。\n"
   ]
  },
  {
   "cell_type": "code",
   "execution_count": 25,
   "metadata": {},
   "outputs": [
    {
     "name": "stdout",
     "output_type": "stream",
     "text": [
      "4\n",
      "['A(l,r)+A(l,r)>A(l,r^1).A(l^1,r)|2', 'A(l,r^1).A(l^1,r)+A(l,r^1).A(l^1,r)>A(l,r^1).A(l^1,r^2).A(l^2,r^3).A(l^3,r)|2', 'A(l,r)+A(l,r^1).A(l^1,r)>A(l,r^1).A(l^1,r^2).A(l^2,r)|2', 'A(l,r)+A(l,r^1).A(l^1,r^2).A(l^2,r)>A(l,r^1).A(l^1,r^2).A(l^2,r^3).A(l^3,r)|2']\n"
     ]
    }
   ],
   "source": [
    "m2 = m1.expand([Species(\"A(l, r)\")], 100, {Species(\"A\"): 4})\n",
    "print(m2.num_reaction_rules())  # => 4\n",
    "print([rr.as_string() for rr in m2.reaction_rules()])"
   ]
  },
  {
   "cell_type": "markdown",
   "metadata": {},
   "source": [
    "## 7.4. Species, ReactionRule そして NetfreeModel の違い\n",
    "\n",
    "上記で説明した機能は似ていますが、基準にはいくつかの違いがあります。\n"
   ]
  },
  {
   "cell_type": "code",
   "execution_count": 26,
   "metadata": {},
   "outputs": [
    {
     "name": "stdout",
     "output_type": "stream",
     "text": [
      "2\n",
      "['A(b^1).A(b^1)>A(b)+A(b)|1']\n"
     ]
    }
   ],
   "source": [
    "sp1 = Species(\"A(b^1).A(b^1)\")\n",
    "sp2 = Species(\"A(b)\")\n",
    "rr1 = create_unbinding_reaction_rule(sp1, sp2, sp2, 1.0)\n",
    "print(count_species_matches(sp1, sp1))\n",
    "print([rr.as_string() for rr in rr1.generate([sp1])])"
   ]
  },
  {
   "cell_type": "markdown",
   "metadata": {},
   "source": [
    "`count_species_matches` はマッチングのための2つの異なる方向（左から右 と 右から左）を示唆していますが、\n",
    "`ReactionRule.generate` はたった1つの `ReactionRule`しか返しません。なぜならその順は生成物に影響しないからです。\n"
   ]
  },
  {
   "cell_type": "code",
   "execution_count": 27,
   "metadata": {},
   "outputs": [
    {
     "name": "stdout",
     "output_type": "stream",
     "text": [
      "2\n",
      "['A(b^1,c^2).A(b^3,c^2).B(b^1).B(b^3)>A(b,c^1).A(b^2,c^1).B(b^2)+B(b)|1', 'A(b^1,c^2).A(b^3,c^2).B(b^1).B(b^3)>A(b^1,c^2).A(b,c^2).B(b^1)+B(b)|1']\n"
     ]
    }
   ],
   "source": [
    "sp1 = Species(\"A(b^1).B(b^1)\")\n",
    "rr1 = create_unbinding_reaction_rule(\n",
    "    sp1, Species(\"A(b)\"), Species(\"B(b)\"), 1.0)\n",
    "sp2 = Species(\"A(b^1,c^2).A(b^3,c^2).B(b^1).B(b^3)\")\n",
    "print(count_species_matches(sp1, sp2))\n",
    "print([rr.as_string() for rr in rr1.generate([sp2])])"
   ]
  },
  {
   "cell_type": "markdown",
   "metadata": {},
   "source": [
    "この場合、 `ReactionRule.generate` は `count_species_matches` と同様に動作します。\n",
    "\n",
    "しかし、 `NetfreeModel.query_reaction_rules` はより速い反応速度を持つたった一つの `ReationRule` を返します：\n"
   ]
  },
  {
   "cell_type": "code",
   "execution_count": 28,
   "metadata": {},
   "outputs": [
    {
     "name": "stdout",
     "output_type": "stream",
     "text": [
      "['A(b^1,c^2).B(b^1).A(b^3,c^2).B(b^3)>A(b,c^1).A(b^2,c^1).B(b^2)+B(b)|2']\n"
     ]
    }
   ],
   "source": [
    "m1 = NetfreeModel()\n",
    "m1.add_reaction_rule(rr1)\n",
    "print([rr.as_string() for rr in m1.query_reaction_rules(sp2)])"
   ]
  },
  {
   "cell_type": "markdown",
   "metadata": {},
   "source": [
    "`NetfreeModel.query_reaction_rules` は、生成された各 `ReactionRule` が他と同じかどうかをチェックし、可能ならばそれを集約します。\n",
    "\n",
    "上で説明したように、 `ReactionRule.generate` は `Species` の順序次第で結果が異なりますが、 `Netfree.query_reaction_rules`はそうではありません。\n"
   ]
  },
  {
   "cell_type": "code",
   "execution_count": 29,
   "metadata": {},
   "outputs": [
    {
     "name": "stdout",
     "output_type": "stream",
     "text": [
      "['A(b)+B(b)>A(b^1).B(b^1)|1']\n",
      "['A(b)+B(b)>A(b^1).B(b^1)|1']\n",
      "[]\n",
      "['A(b)+B(b)>A(b^1).B(b^1)|1']\n"
     ]
    }
   ],
   "source": [
    "sp1 = Species(\"A(b)\")\n",
    "sp2 = Species(\"B(b)\")\n",
    "rr1 = create_binding_reaction_rule(sp1, sp2, Species(\"A(b^1).B(b^1)\"), 1.0)\n",
    "m1 = NetfreeModel()\n",
    "m1.add_reaction_rule(rr1)\n",
    "print([rr.as_string() for rr in rr1.generate([sp1, sp2])])\n",
    "print([rr.as_string() for rr in m1.query_reaction_rules(sp1, sp2)])\n",
    "print([rr.as_string() for rr in rr1.generate([sp2, sp1])])  # => []\n",
    "print([rr.as_string() for rr in m1.query_reaction_rules(sp2, sp1)])"
   ]
  },
  {
   "cell_type": "markdown",
   "metadata": {},
   "source": [
    "名前のないワイルドカードは、一致していなければなりませんが、名前のないワイルドカードは必ずしも一致している必要はありません。\n"
   ]
  },
  {
   "cell_type": "code",
   "execution_count": 30,
   "metadata": {},
   "outputs": [
    {
     "name": "stdout",
     "output_type": "stream",
     "text": [
      "1\n",
      "1\n",
      "1\n",
      "1\n",
      "['A(b)+A(b)>A(b^1).A(b^1)|1']\n",
      "['A(b)+B(b)>A(b^1).B(b^1)|1']\n",
      "['A(b)+A(b)>A(b^1).A(b^1)|1']\n",
      "[]\n"
     ]
    }
   ],
   "source": [
    "sp1 = Species(\"_(b)\")\n",
    "sp2 = Species(\"_1(b)\")\n",
    "sp3 = Species(\"A(b)\")\n",
    "sp4 = Species(\"B(b)\")\n",
    "rr1 = create_binding_reaction_rule(sp1, sp1, Species(\"_(b^1)._(b^1)\"), 1)\n",
    "rr2 = create_binding_reaction_rule(sp2, sp2, Species(\"_1(b^1)._1(b^1)\"), 1)\n",
    "print(count_species_matches(sp1, sp2))  # => 1\n",
    "print(count_species_matches(sp1, sp3))  # => 1\n",
    "print(count_species_matches(sp2, sp2))  # => 1\n",
    "print(count_species_matches(sp2, sp3))  # => 1\n",
    "print([rr.as_string() for rr in rr1.generate([sp3, sp3])])\n",
    "print([rr.as_string() for rr in rr1.generate([sp3, sp4])])\n",
    "print([rr.as_string() for rr in rr2.generate([sp3, sp3])])\n",
    "print([rr.as_string() for rr in rr2.generate([sp3, sp4])])  # => []"
   ]
  }
 ],
 "metadata": {
  "kernelspec": {
   "display_name": "Python 3",
   "language": "python",
   "name": "python3"
  },
  "language_info": {
   "codemirror_mode": {
    "name": "ipython",
    "version": 3
   },
   "file_extension": ".py",
   "mimetype": "text/x-python",
   "name": "python",
   "nbconvert_exporter": "python",
   "pygments_lexer": "ipython3",
   "version": "3.6.7"
  }
 },
 "nbformat": 4,
 "nbformat_minor": 1
}
